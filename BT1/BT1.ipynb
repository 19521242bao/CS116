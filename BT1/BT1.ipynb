{
 "cells": [
  {
   "cell_type": "markdown",
   "source": [
    "# BT1-Thống kê dân số TPHCM\n",
    "Họ tên: Lương Phạm Bảo\n",
    "Lớp: CS116.M12.KHCL"
   ],
   "metadata": {}
  },
  {
   "cell_type": "code",
   "execution_count": 72,
   "source": [
    "import geopandas as gpd\n",
    "import folium\n",
    "import matplotlib.pyplot as plt\n"
   ],
   "outputs": [],
   "metadata": {}
  },
  {
   "cell_type": "code",
   "execution_count": 73,
   "source": [
    "!git clone https://github.com/CityScope/CSL_HCMC"
   ],
   "outputs": [
    {
     "output_type": "stream",
     "name": "stdout",
     "text": [
      "fatal: destination path 'CSL_HCMC' already exists and is not an empty directory.\n"
     ]
    }
   ],
   "metadata": {}
  },
  {
   "cell_type": "code",
   "execution_count": 74,
   "source": [
    "df = gpd.read_file(\"CSL_HCMC/Data/GIS/Population/population_HCMC/population_shapefile/Population_Ward_Level.shp\") \n",
    "\n",
    "print(df.head(10))\n"
   ],
   "outputs": [
    {
     "output_type": "stream",
     "name": "stdout",
     "text": [
      "           Com_Name   Dist_Name Com_ID Dist_ID Level  Pop_2009  Pop_2019  \\\n",
      "0          Tan Dinh  District 1  26734     760  Ward   26571.0   23258.0   \n",
      "1          Ben Nghe  District 1  26740     760  Ward   13580.0   10633.0   \n",
      "2      Cau Ong Lanh  District 1  26752     760  Ward   12917.0   10737.0   \n",
      "3  Nguyen Thai Binh  District 1  26746     760  Ward   13197.0    9716.0   \n",
      "4          Co Giang  District 1  26755     760  Ward   18967.0   11517.0   \n",
      "5           Cau Kho  District 1  26761     760  Ward   16301.0   13706.0   \n",
      "6   Nguyen Cu Trinh  District 1  26758     760  Ward   25667.0   21191.0   \n",
      "7      Pham Ngu Lao  District 1  26749     760  Ward   19699.0   15183.0   \n",
      "8            Ward 8  District 3  27121     770  Ward   15458.0   16481.0   \n",
      "9            Ward 7  District 3  27124     770  Ward   12899.0   13052.0   \n",
      "\n",
      "   Den_2009  Den_2019   Shape_Leng    Shape_Area  \\\n",
      "0  41942.70  36713.10  3679.098196  6.334981e+05   \n",
      "1   5480.09   4290.86  6978.149149  2.478041e+06   \n",
      "2  56878.90  47279.50  2260.705105  2.270938e+05   \n",
      "3  26798.80  19730.00  3320.174618  4.924426e+05   \n",
      "4  53327.60  32381.20  2525.453814  3.556650e+05   \n",
      "5  47358.80  39819.60  2452.468167  3.441969e+05   \n",
      "6  33595.70  27737.10  3837.438925  7.639835e+05   \n",
      "7  39524.30  30463.30  3870.086416  4.983960e+05   \n",
      "8  38784.00  41350.70  2829.691196  3.985605e+05   \n",
      "9  14019.50  14185.80  5106.327259  9.200617e+05   \n",
      "\n",
      "                                            geometry  \n",
      "0  POLYGON ((684350.511 1193546.266, 684363.810 1...  \n",
      "1  POLYGON ((686564.657 1193462.473, 686588.924 1...  \n",
      "2  POLYGON ((685922.373 1190479.807, 685914.160 1...  \n",
      "3  POLYGON ((685966.333 1190513.667, 685944.353 1...  \n",
      "4  POLYGON ((685514.573 1190211.431, 685547.521 1...  \n",
      "5  POLYGON ((685087.109 1189764.171, 685071.109 1...  \n",
      "6  POLYGON ((684274.478 1189553.138, 684268.911 1...  \n",
      "7  POLYGON ((684480.676 1191195.697, 684513.525 1...  \n",
      "8  POLYGON ((683895.205 1193439.952, 683899.429 1...  \n",
      "9  POLYGON ((683866.522 1191920.051, 683866.213 1...  \n"
     ]
    }
   ],
   "metadata": {}
  },
  {
   "cell_type": "code",
   "execution_count": 75,
   "source": [
    "max_area = df[df.Shape_Area == max(df['Shape_Area'])]\n",
    "Com=max_area ['Com_Name'].values[0]\n",
    "Dist=max_area['Dist_Name'].values[0]\n",
    "print(f\"phường {Com} quận {Dist} có diện tích lớn nhất \")\n"
   ],
   "outputs": [
    {
     "output_type": "stream",
     "name": "stdout",
     "text": [
      "phường Ly Nhon quận Can Gio có diện tích lớn nhất \n"
     ]
    }
   ],
   "metadata": {}
  },
  {
   "cell_type": "code",
   "execution_count": 76,
   "source": [
    "min_area = df[df.Shape_Area == min(df['Shape_Area'])]\n",
    "Com=min_area ['Com_Name'].values[0]\n",
    "Dist=min_area['Dist_Name'].values[0]\n",
    "print(f\"phường {Com} quận {Dist} có diện tích nhỏ nhất \")"
   ],
   "outputs": [
    {
     "output_type": "stream",
     "name": "stdout",
     "text": [
      "phường Ward 3 quận District 10 có diện tích nhỏ nhất \n"
     ]
    }
   ],
   "metadata": {}
  },
  {
   "cell_type": "code",
   "execution_count": 77,
   "source": [
    "max_pop_2019 = df[df.Pop_2019 == max(df['Pop_2019'])]\n",
    "Com=max_pop_2019['Com_Name'].values[0]\n",
    "Dist=max_pop_2019['Dist_Name'].values[0]\n",
    "print(f\"phường {Com} quận {Dist} có dân số cao nhất năm 2019 \")"
   ],
   "outputs": [
    {
     "output_type": "stream",
     "name": "stdout",
     "text": [
      "phường Vinh Loc A quận Binh Chanh có dân số cao nhất năm 2019 \n"
     ]
    }
   ],
   "metadata": {}
  },
  {
   "cell_type": "code",
   "execution_count": 78,
   "source": [
    "min_pop_2019 = df[df.Pop_2019 == min(df['Pop_2019'])]\n",
    "Com=min_pop_2019['Com_Name'].values[0]\n",
    "Dist=min_pop_2019['Dist_Name'].values[0]\n",
    "print(f\"phường {Com} quận {Dist} có dân số thấp nhất năm 2019 \")"
   ],
   "outputs": [
    {
     "output_type": "stream",
     "name": "stdout",
     "text": [
      "phường An Khanh quận District 2 có dân số thấp nhất năm 2019 \n"
     ]
    }
   ],
   "metadata": {}
  },
  {
   "cell_type": "code",
   "execution_count": 79,
   "source": [
    "inc_pop = df['Pop_2019']/df['Pop_2009']\n",
    "max_Inc_pop = df[(df.Pop_2019/df.Pop_2009) == max(inc_pop)]\n",
    "Com=max_Inc_pop ['Com_Name'].values[0]\n",
    "Dist=max_Inc_pop ['Dist_Name'].values[0]\n",
    "print(f\"phường {Com} quận {Dist} có tốc độ tăng trưởng dân số  nhanh nhất năm 2019 so với năm 2009 \")"
   ],
   "outputs": [
    {
     "output_type": "stream",
     "name": "stdout",
     "text": [
      "phường Phu Huu quận District 9 có tốc độ tăng trưởng dân số  cao nhất năm 2019 so với năm 2009 \n"
     ]
    }
   ],
   "metadata": {}
  },
  {
   "cell_type": "code",
   "execution_count": 80,
   "source": [
    "min_Inc_pop = df[(df.Pop_2019/df.Pop_2009) == min(inc_pop)]\n",
    "Com=min_Inc_pop['Com_Name'].values[0]\n",
    "Dist=min_Inc_pop['Dist_Name'].values[0]\n",
    "print(f\"phường {Com} quận {Dist} có tốc độ tăng trưởng dân số  chậm nhất năm 2019 so với năm 2009 \")"
   ],
   "outputs": [
    {
     "output_type": "stream",
     "name": "stdout",
     "text": [
      "phường An Khanh quận District 2 có tốc độ tăng trưởng dân số  thấp nhất năm 2019 so với năm 2009 \n"
     ]
    }
   ],
   "metadata": {}
  },
  {
   "cell_type": "code",
   "execution_count": 81,
   "source": [
    "pop_change = abs(df['Pop_2019'] - df['Pop_2009'])\n",
    "max_pop_change = df[abs(df.Pop_2019 - df.Pop_2009) == max(pop_change)]\n",
    "Com=max_pop_change['Com_Name'].values[0]\n",
    "Dist=max_pop_change ['Dist_Name'].values[0]\n",
    "print(f\"phường {Com} quận {Dist} có biến động dân số nhanh nhất giữa 2 năm 2019 và năm 2009\")"
   ],
   "outputs": [
    {
     "output_type": "stream",
     "name": "stdout",
     "text": [
      "phường Vinh Loc A quận Binh Chanh có biến động dân số lớn nhất giữa 2 năm 2019 và năm 2009\n"
     ]
    }
   ],
   "metadata": {}
  },
  {
   "cell_type": "code",
   "execution_count": 82,
   "source": [
    "min_pop_change = df[abs(df.Pop_2019 - df.Pop_2009) == min(pop_change)]\n",
    "Com=min_pop_change['Com_Name'].values[0]\n",
    "Dist=min_pop_change ['Dist_Name'].values[0]\n",
    "print(f\"phường {Com} quận {Dist} có biến động dân số chậm nhất giữa 2 năm 2019 và năm 2009\")"
   ],
   "outputs": [
    {
     "output_type": "stream",
     "name": "stdout",
     "text": [
      "phường Ward 2 quận Binh Thanh có biến động dân số nhỏ nhất giữa 2 năm 2019 và năm 2009\n"
     ]
    }
   ],
   "metadata": {}
  },
  {
   "cell_type": "code",
   "execution_count": 85,
   "source": [
    "pop_dens = df['Pop_2019'] / df['Shape_Area']\n",
    "max_dens = df[(df.Pop_2019/df.Shape_Area) == max(pop_dens)]\n",
    "Com=max_dens['Com_Name'].values[0]\n",
    "Dist=max_dens['Dist_Name'].values[0]\n",
    "print(f\"phường {Com} quận {Dist} có mật độ dân số cao nhất giữa năm 2019\")"
   ],
   "outputs": [
    {
     "output_type": "stream",
     "name": "stdout",
     "text": [
      "phường Ward 8 quận District 4 có mật độ dân số lớn nhất giữa năm 2019\n"
     ]
    }
   ],
   "metadata": {}
  },
  {
   "cell_type": "code",
   "execution_count": 84,
   "source": [
    "min_dens = df[(df.Pop_2019/df.Shape_Area) == min(pop_dens)]\n",
    "Com=min_dens['Com_Name'].values[0]\n",
    "Dist=min_dens['Dist_Name'].values[0]\n",
    "print(f\"phường {Com} quận {Dist} có mật độ dân số thấp nhất giữa năm 2019\")"
   ],
   "outputs": [
    {
     "output_type": "stream",
     "name": "stdout",
     "text": [
      "phường Ly Nhon quận Can Gio có mật độ dân số nhỏ nhất giữa năm 2019\n"
     ]
    }
   ],
   "metadata": {}
  }
 ],
 "metadata": {
  "orig_nbformat": 4,
  "language_info": {
   "name": "python",
   "version": "3.9.7",
   "mimetype": "text/x-python",
   "codemirror_mode": {
    "name": "ipython",
    "version": 3
   },
   "pygments_lexer": "ipython3",
   "nbconvert_exporter": "python",
   "file_extension": ".py"
  },
  "kernelspec": {
   "name": "python3",
   "display_name": "Python 3.9.7 64-bit ('geo_env': conda)"
  },
  "interpreter": {
   "hash": "d8ff89183d90ea19adb3f31336395f0698459328a5d4f512744db527e6885633"
  }
 },
 "nbformat": 4,
 "nbformat_minor": 2
}