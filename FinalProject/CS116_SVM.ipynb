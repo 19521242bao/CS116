{
  "nbformat": 4,
  "nbformat_minor": 0,
  "metadata": {
    "colab": {
      "name": "CS116_SVM.ipynb",
      "provenance": [],
      "collapsed_sections": [
        "UC85lYF-86iD",
        "X03R4MIN-GV9",
        "B6rq2gTf-ycc",
        "pVWr2Db_TLWY",
        "3I2RMvsPBnR_",
        "H_hd3quBXaFK"
      ],
      "toc_visible": true,
      "authorship_tag": "ABX9TyPOYbzY2ib6BQy6eJEpvShI",
      "include_colab_link": true
    },
    "kernelspec": {
      "display_name": "Python 3",
      "name": "python3"
    },
    "language_info": {
      "name": "python"
    }
  },
  "cells": [
    {
      "cell_type": "markdown",
      "metadata": {
        "id": "view-in-github",
        "colab_type": "text"
      },
      "source": [
        "<a href=\"https://colab.research.google.com/github/19521242bao/CS116/blob/main/FinalProject/CS116_SVM.ipynb\" target=\"_parent\"><img src=\"https://colab.research.google.com/assets/colab-badge.svg\" alt=\"Open In Colab\"/></a>"
      ]
    },
    {
      "cell_type": "markdown",
      "source": [
        "<p align=\"center\">\n",
        "  <a href=\"https://www.uit.edu.vn/\" title=\"Trường Đại học Công nghệ Thông tin\" style=\"border: none;\">\n",
        "    <img src=\"https://i.imgur.com/WmMnSRt.png\" alt=\"Trường Đại học Công nghệ Thông tin | University of Information Technology\">\n",
        "  </a>\n",
        "</p>\n",
        "\n",
        "<h3 align=\"center\"><b>CS116.M12.KHCL - Machine Learning with Python</b></h3>\n",
        "<h2 align=\"center\"><b>ĐỒ ÁN CUỐI KỲ</b></h2>\n",
        "<h1 align=\"center\"><b>SUPPORT VECTOR MACHINE</b></h1>\n",
        "\n",
        "**Dataset: Stroke Prediction**\n",
        "\n",
        "**Sinh viên thực hiện:** \n",
        "\n",
        "<ul>\n",
        "  <li>Lương Phạm Bảo - 19521242</li>\n",
        "  <li>Nguyễn Gia Thống - 19520993</li>\n",
        "  <li>Phạm Ngọc Dương - 19521412</li>\n",
        "</ul>"
      ],
      "metadata": {
        "id": "1v5qAtNvP0WR"
      }
    },
    {
      "cell_type": "markdown",
      "source": [
        "# Chuẩn bị dữ liệu và các thư viện cần thiết\n"
      ],
      "metadata": {
        "id": "ff56bdGPP3GZ"
      }
    },
    {
      "cell_type": "code",
      "source": [
        "from google.colab import drive\n",
        "drive.mount('/content/drive')"
      ],
      "metadata": {
        "id": "MWCfxdziCJfj",
        "colab": {
          "base_uri": "https://localhost:8080/"
        },
        "outputId": "f2550922-5bf6-4cd5-86f1-2859f6e2d55f"
      },
      "execution_count": null,
      "outputs": [
        {
          "output_type": "stream",
          "name": "stdout",
          "text": [
            "Mounted at /content/drive\n"
          ]
        }
      ]
    },
    {
      "cell_type": "code",
      "source": [
        "%cd /content/drive/MyDrive/CS116"
      ],
      "metadata": {
        "id": "N0boxoJpCMJI",
        "colab": {
          "base_uri": "https://localhost:8080/"
        },
        "outputId": "ada14dc4-ca79-40bd-852a-d9df4281ed9c"
      },
      "execution_count": null,
      "outputs": [
        {
          "output_type": "stream",
          "name": "stdout",
          "text": [
            "/content/drive/MyDrive/CS116\n"
          ]
        }
      ]
    },
    {
      "cell_type": "markdown",
      "metadata": {
        "id": "X03R4MIN-GV9"
      },
      "source": [
        "## Các thư viện xử lý"
      ]
    },
    {
      "cell_type": "code",
      "metadata": {
        "id": "FvWta2_P98QN",
        "colab": {
          "base_uri": "https://localhost:8080/",
          "height": 176
        },
        "outputId": "61d0589d-56ee-4518-c677-6ad287a78327"
      },
      "source": [
        "import warnings \n",
        "warnings.filterwarnings('ignore')\n",
        "\n",
        "# basic libraries\n",
        "import os\n",
        "import numpy as np\n",
        "import pandas as pd\n",
        "import re\n",
        "import string\n",
        "from collections import Counter\n",
        "import time\n",
        "\n",
        "#visulaization modules\n",
        "import missingno as msno\n",
        "import matplotlib\n",
        "import matplotlib.pyplot as plt\n",
        "import seaborn as sns\n",
        "import plotly.express as px\n",
        "import plotly.graph_objs as go\n",
        "from plotly.offline import iplot, init_notebook_mode\n",
        "!pip install pywaffle\n",
        "from pywaffle import Waffle\n",
        "\n",
        "%matplotlib inline\n",
        "init_notebook_mode(connected= True)\n",
        "\n",
        "\n",
        "\n",
        "\n",
        "#Common model helpers\n",
        "from sklearn.preprocessing import (StandardScaler,\n",
        "                                   LabelEncoder,\n",
        "                                   OneHotEncoder)\n",
        "from sklearn import metrics\n",
        "from sklearn.model_selection import train_test_split\n",
        "from sklearn.metrics import (accuracy_score, \n",
        "                             auc, \n",
        "                             precision_score,\n",
        "                             recall_score,\n",
        "                             f1_score, \n",
        "                             roc_auc_score,\n",
        "                             confusion_matrix)\n",
        "from sklearn.model_selection import (GridSearchCV,\n",
        "                                     StratifiedKFold,\n",
        "                                     cross_val_score)\n",
        "\n",
        "\n",
        "# dimensionality reduction\n",
        "from sklearn.decomposition import PCA\n",
        "\n",
        "import pylab as pl\n",
        "\n",
        "# imbalance dataset handling\n",
        "\n",
        "\n",
        "from imblearn.under_sampling import (RandomUnderSampler, \n",
        "                                     ClusterCentroids,\n",
        "                                     TomekLinks,\n",
        "                                     NeighbourhoodCleaningRule,\n",
        "                                     EditedNearestNeighbours,\n",
        "                                     NearMiss)\n",
        "\n",
        "\n",
        "from imblearn.over_sampling import (SMOTE,\n",
        "                                    ADASYN)\n",
        "\n",
        "\n",
        "\n",
        "\n",
        "# model algorithams\n",
        "from sklearn.ensemble import (RandomForestClassifier, \n",
        "                              AdaBoostClassifier, \n",
        "                              GradientBoostingClassifier)\n",
        "from sklearn.linear_model import LogisticRegression\n",
        "from sklearn.neighbors import KNeighborsClassifier\n",
        "from sklearn.tree import DecisionTreeClassifier\n",
        "from sklearn.svm import SVC\n",
        "from xgboost import XGBClassifier\n",
        "from lightgbm import LGBMClassifier"
      ],
      "execution_count": null,
      "outputs": [
        {
          "output_type": "stream",
          "name": "stdout",
          "text": [
            "Requirement already satisfied: pywaffle in /usr/local/lib/python3.7/dist-packages (0.6.3)\n",
            "Requirement already satisfied: matplotlib in /usr/local/lib/python3.7/dist-packages (from pywaffle) (3.2.2)\n",
            "Requirement already satisfied: cycler>=0.10 in /usr/local/lib/python3.7/dist-packages (from matplotlib->pywaffle) (0.11.0)\n",
            "Requirement already satisfied: numpy>=1.11 in /usr/local/lib/python3.7/dist-packages (from matplotlib->pywaffle) (1.19.5)\n",
            "Requirement already satisfied: pyparsing!=2.0.4,!=2.1.2,!=2.1.6,>=2.0.1 in /usr/local/lib/python3.7/dist-packages (from matplotlib->pywaffle) (3.0.6)\n",
            "Requirement already satisfied: kiwisolver>=1.0.1 in /usr/local/lib/python3.7/dist-packages (from matplotlib->pywaffle) (1.3.2)\n",
            "Requirement already satisfied: python-dateutil>=2.1 in /usr/local/lib/python3.7/dist-packages (from matplotlib->pywaffle) (2.8.2)\n",
            "Requirement already satisfied: six>=1.5 in /usr/local/lib/python3.7/dist-packages (from python-dateutil>=2.1->matplotlib->pywaffle) (1.15.0)\n"
          ]
        },
        {
          "output_type": "display_data",
          "data": {
            "text/html": [
              "        <script type=\"text/javascript\">\n",
              "        window.PlotlyConfig = {MathJaxConfig: 'local'};\n",
              "        if (window.MathJax) {MathJax.Hub.Config({SVG: {font: \"STIX-Web\"}});}\n",
              "        if (typeof require !== 'undefined') {\n",
              "        require.undef(\"plotly\");\n",
              "        requirejs.config({\n",
              "            paths: {\n",
              "                'plotly': ['https://cdn.plot.ly/plotly-latest.min']\n",
              "            }\n",
              "        });\n",
              "        require(['plotly'], function(Plotly) {\n",
              "            window._Plotly = Plotly;\n",
              "        });\n",
              "        }\n",
              "        </script>\n",
              "        "
            ]
          },
          "metadata": {}
        }
      ]
    },
    {
      "cell_type": "code",
      "source": [
        "%cd /content/"
      ],
      "metadata": {
        "colab": {
          "base_uri": "https://localhost:8080/"
        },
        "id": "CUyg1CjRuI8E",
        "outputId": "5c0912f2-b803-47b7-9000-c237a7415ccb"
      },
      "execution_count": null,
      "outputs": [
        {
          "output_type": "stream",
          "name": "stdout",
          "text": [
            "/content\n"
          ]
        }
      ]
    },
    {
      "cell_type": "code",
      "source": [
        "visualize=pd.read_csv(\"SVM_results_CS116.csv\")"
      ],
      "metadata": {
        "id": "mpBBDaEUuArF"
      },
      "execution_count": null,
      "outputs": []
    },
    {
      "cell_type": "code",
      "source": [
        "models=list(visualize[\"Model\"])\n",
        "ACC_score_17=list(visualize[\"K=17_ACC\"])\n",
        "F1_score_17=list(visualize[\"K=17_F1\"])\n",
        "ACC_score_15=list(visualize[\"K=15_ACC\"])\n",
        "F1_score_15=list(visualize[\"K=15_F1\"])"
      ],
      "metadata": {
        "id": "Oehbjir6vytf"
      },
      "execution_count": null,
      "outputs": []
    },
    {
      "cell_type": "code",
      "source": [
        "n=len(models )\n",
        "r = np.arange(n)\n",
        "width = 0.25\n",
        "  \n",
        "  \n",
        "plt.bar(r, ACC_score_17, color = 'b',\n",
        "        width = width, edgecolor = 'black',\n",
        "        label='k=17')\n",
        "plt.bar(r + width, ACC_score_15, color = 'g',\n",
        "        width = width, edgecolor = 'black',\n",
        "        label='k=15')\n",
        "  \n",
        "plt.xlabel(\"Model\")\n",
        "plt.ylabel(\"Accuracy\")\n",
        "plt.title(\"AccuracyAccuracy các mô hình\")\n",
        "  \n",
        "# plt.grid(linestyle='--')\n",
        "plt.xticks(r + width/2,models,rotation ='vertical')\n",
        "plt.legend()\n",
        "  \n",
        "plt.show()"
      ],
      "metadata": {
        "colab": {
          "base_uri": "https://localhost:8080/",
          "height": 381
        },
        "id": "OqGXlDNOvu4x",
        "outputId": "c8524894-f65a-4946-9ccf-3fa28ca8a76f"
      },
      "execution_count": null,
      "outputs": [
        {
          "output_type": "display_data",
          "data": {
            "image/png": "[encoded data removed]",
            "text/plain": [
              "<Figure size 432x288 with 1 Axes>"
            ]
          },
          "metadata": {
            "needs_background": "light"
          }
        }
      ]
    },
    {
      "cell_type": "code",
      "source": [
        "n=len(models )\n",
        "r = np.arange(n)\n",
        "width = 0.25\n",
        "  \n",
        "  \n",
        "plt.bar(r, F1_score_17, color = 'b',\n",
        "        width = width, edgecolor = 'black',\n",
        "        label='k=17')\n",
        "plt.bar(r + width, F1_score_15, color = 'g',\n",
        "        width = width, edgecolor = 'black',\n",
        "        label='k=15')\n",
        "  \n",
        "plt.xlabel(\"Model\")\n",
        "plt.ylabel(\"F1 score\")\n",
        "plt.title(\"F1 score của các mô hình \")\n",
        "  \n",
        "# plt.grid(linestyle='--')\n",
        "plt.xticks(r + width/2,models,rotation ='vertical')\n",
        "plt.legend()\n",
        "  \n",
        "plt.show()"
      ],
      "metadata": {
        "colab": {
          "base_uri": "https://localhost:8080/",
          "height": 381
        },
        "id": "Fdv9tJK9yNrr",
        "outputId": "037bcd94-6c47-4dd8-9d70-c2286f332840"
      },
      "execution_count": null,
      "outputs": [
        {
          "output_type": "display_data",
          "data": {
            "image/png": "[encoded data removed]",
            "text/plain": [
              "<Figure size 432x288 with 1 Axes>"
            ]
          },
          "metadata": {
            "needs_background": "light"
          }
        }
      ]
    },
    {
      "cell_type": "code",
      "source": [
        "visualize[]"
      ],
      "metadata": {
        "colab": {
          "base_uri": "https://localhost:8080/",
          "height": 331
        },
        "id": "nDQRQ-GAuMR8",
        "outputId": "3baa711e-2c76-4132-8717-a12ec3e049eb"
      },
      "execution_count": null,
      "outputs": [
        {
          "output_type": "execute_result",
          "data": {
            "text/html": [
              "<div>\n",
              "<style scoped>\n",
              "    .dataframe tbody tr th:only-of-type {\n",
              "        vertical-align: middle;\n",
              "    }\n",
              "\n",
              "    .dataframe tbody tr th {\n",
              "        vertical-align: top;\n",
              "    }\n",
              "\n",
              "    .dataframe thead th {\n",
              "        text-align: right;\n",
              "    }\n",
              "</style>\n",
              "<table border=\"1\" class=\"dataframe\">\n",
              "  <thead>\n",
              "    <tr style=\"text-align: right;\">\n",
              "      <th></th>\n",
              "      <th>Model</th>\n",
              "      <th>K=17_ACC</th>\n",
              "      <th>K=15_ACC</th>\n",
              "      <th>K=17_F1</th>\n",
              "      <th>K=15_F1</th>\n",
              "    </tr>\n",
              "  </thead>\n",
              "  <tbody>\n",
              "    <tr>\n",
              "      <th>0</th>\n",
              "      <td>SVM_Linear</td>\n",
              "      <td>93.77</td>\n",
              "      <td>85.66</td>\n",
              "      <td>94.38</td>\n",
              "      <td>87.63</td>\n",
              "    </tr>\n",
              "    <tr>\n",
              "      <th>1</th>\n",
              "      <td>SVM_RBF</td>\n",
              "      <td>85.05</td>\n",
              "      <td>85.05</td>\n",
              "      <td>87.00</td>\n",
              "      <td>87.22</td>\n",
              "    </tr>\n",
              "    <tr>\n",
              "      <th>2</th>\n",
              "      <td>KNN</td>\n",
              "      <td>97.00</td>\n",
              "      <td>97.00</td>\n",
              "      <td>97.39</td>\n",
              "      <td>97.39</td>\n",
              "    </tr>\n",
              "    <tr>\n",
              "      <th>3</th>\n",
              "      <td>Logistic Regression</td>\n",
              "      <td>93.61</td>\n",
              "      <td>85.58</td>\n",
              "      <td>94.25</td>\n",
              "      <td>87.54</td>\n",
              "    </tr>\n",
              "    <tr>\n",
              "      <th>4</th>\n",
              "      <td>Decision Tree</td>\n",
              "      <td>95.47</td>\n",
              "      <td>94.37</td>\n",
              "      <td>95.97</td>\n",
              "      <td>95.01</td>\n",
              "    </tr>\n",
              "    <tr>\n",
              "      <th>5</th>\n",
              "      <td>Random Forest</td>\n",
              "      <td>97.01</td>\n",
              "      <td>97.27</td>\n",
              "      <td>97.33</td>\n",
              "      <td>96.96</td>\n",
              "    </tr>\n",
              "    <tr>\n",
              "      <th>6</th>\n",
              "      <td>AdaBoost</td>\n",
              "      <td>95.55</td>\n",
              "      <td>94.28</td>\n",
              "      <td>96.00</td>\n",
              "      <td>94.92</td>\n",
              "    </tr>\n",
              "    <tr>\n",
              "      <th>7</th>\n",
              "      <td>XGB</td>\n",
              "      <td>95.55</td>\n",
              "      <td>96.71</td>\n",
              "      <td>96.08</td>\n",
              "      <td>97.05</td>\n",
              "    </tr>\n",
              "    <tr>\n",
              "      <th>8</th>\n",
              "      <td>SVM+Tuning</td>\n",
              "      <td>99.43</td>\n",
              "      <td>99.51</td>\n",
              "      <td>99.49</td>\n",
              "      <td>99.56</td>\n",
              "    </tr>\n",
              "  </tbody>\n",
              "</table>\n",
              "</div>"
            ],
            "text/plain": [
              "                 Model  K=17_ACC  K=15_ACC  K=17_F1  K=15_F1\n",
              "0           SVM_Linear     93.77     85.66    94.38    87.63\n",
              "1              SVM_RBF     85.05     85.05    87.00    87.22\n",
              "2                  KNN     97.00     97.00    97.39    97.39\n",
              "3  Logistic Regression     93.61     85.58    94.25    87.54\n",
              "4        Decision Tree     95.47     94.37    95.97    95.01\n",
              "5        Random Forest     97.01     97.27    97.33    96.96\n",
              "6             AdaBoost     95.55     94.28    96.00    94.92\n",
              "7                  XGB     95.55     96.71    96.08    97.05\n",
              "8           SVM+Tuning     99.43     99.51    99.49    99.56"
            ]
          },
          "metadata": {},
          "execution_count": 56
        }
      ]
    },
    {
      "cell_type": "code",
      "source": [
        "models = ['Logistic Regression',    'K-Nearest Neighbor',    'SVM',    'Kernel SVM',    'Naive Bayes',    'Decision Tree', 'Random Forest']\n",
        "acc_list = [0.925,\t0.95,\t0.9125,\t0.95,\t0.825\t,0.9125\t,0.9125]\n",
        "\n",
        "sns.set(rc={'figure.figsize':(20,10)})\n",
        "sns.set_theme(style=\"whitegrid\")\n",
        "ax = sns.barplot(x= models, y= acc_list)"
      ],
      "metadata": {
        "id": "Yif0tprLtWAt"
      },
      "execution_count": null,
      "outputs": []
    },
    {
      "cell_type": "markdown",
      "metadata": {
        "id": "QLJmYVHJeGVO"
      },
      "source": [
        "## Đọc dữ liệu"
      ]
    },
    {
      "cell_type": "code",
      "metadata": {
        "colab": {
          "base_uri": "https://localhost:8080/"
        },
        "id": "ptp3pnTe-JUO",
        "outputId": "0aa47a69-d1a9-4a82-dceb-e75979c0a40c"
      },
      "source": [
        "data=pd.read_csv('healthcare-dataset-stroke-data.csv')# tên tập train\n",
        "print(data.shape)\n",
        "label=data['stroke']\n",
        "data.drop(columns=['stroke'],inplace=True)\n",
        "print(data.shape)\n",
        "print(data.head(20))\n",
        "#đọc dữ liệu test và train"
      ],
      "execution_count": null,
      "outputs": [
        {
          "output_type": "stream",
          "name": "stdout",
          "text": [
            "(5110, 12)\n",
            "(5110, 11)\n",
            "       id  gender   age  ...  avg_glucose_level   bmi   smoking_status\n",
            "0    9046    Male  67.0  ...             228.69  36.6  formerly smoked\n",
            "1   51676  Female  61.0  ...             202.21   NaN     never smoked\n",
            "2   31112    Male  80.0  ...             105.92  32.5     never smoked\n",
            "3   60182  Female  49.0  ...             171.23  34.4           smokes\n",
            "4    1665  Female  79.0  ...             174.12  24.0     never smoked\n",
            "5   56669    Male  81.0  ...             186.21  29.0  formerly smoked\n",
            "6   53882    Male  74.0  ...              70.09  27.4     never smoked\n",
            "7   10434  Female  69.0  ...              94.39  22.8     never smoked\n",
            "8   27419  Female  59.0  ...              76.15   NaN          Unknown\n",
            "9   60491  Female  78.0  ...              58.57  24.2          Unknown\n",
            "10  12109  Female  81.0  ...              80.43  29.7     never smoked\n",
            "11  12095  Female  61.0  ...             120.46  36.8           smokes\n",
            "12  12175  Female  54.0  ...             104.51  27.3           smokes\n",
            "13   8213    Male  78.0  ...             219.84   NaN          Unknown\n",
            "14   5317  Female  79.0  ...             214.09  28.2     never smoked\n",
            "15  58202  Female  50.0  ...             167.41  30.9     never smoked\n",
            "16  56112    Male  64.0  ...             191.61  37.5           smokes\n",
            "17  34120    Male  75.0  ...             221.29  25.8           smokes\n",
            "18  27458  Female  60.0  ...              89.22  37.8     never smoked\n",
            "19  25226    Male  57.0  ...             217.08   NaN          Unknown\n",
            "\n",
            "[20 rows x 11 columns]\n"
          ]
        }
      ]
    },
    {
      "cell_type": "markdown",
      "metadata": {
        "id": "-OchX1eT-kny"
      },
      "source": [
        "**Dễ thấy cột id không ảnh hưởng đến kết quả bài toán nên ta sẽ bỏ cột này**"
      ]
    },
    {
      "cell_type": "code",
      "metadata": {
        "colab": {
          "base_uri": "https://localhost:8080/"
        },
        "id": "ymIs3DLL-vS7",
        "outputId": "b34865c7-d9e9-4b71-80e0-51b53ba24814"
      },
      "source": [
        "data.drop(columns=['id'],inplace=True) \n",
        "data.shape\n"
      ],
      "execution_count": null,
      "outputs": [
        {
          "output_type": "execute_result",
          "data": {
            "text/plain": [
              "(5110, 10)"
            ]
          },
          "metadata": {},
          "execution_count": 5
        }
      ]
    },
    {
      "cell_type": "markdown",
      "metadata": {
        "id": "fLVDxLLIefZA"
      },
      "source": [
        "**Xem thông tin dữ liệu**"
      ]
    },
    {
      "cell_type": "code",
      "metadata": {
        "colab": {
          "base_uri": "https://localhost:8080/"
        },
        "id": "O_VH6Hw5-_X2",
        "outputId": "4e386cb7-ab01-48b3-bdd6-8653688a06c9"
      },
      "source": [
        "data.info()"
      ],
      "execution_count": null,
      "outputs": [
        {
          "output_type": "stream",
          "name": "stdout",
          "text": [
            "<class 'pandas.core.frame.DataFrame'>\n",
            "RangeIndex: 5110 entries, 0 to 5109\n",
            "Data columns (total 10 columns):\n",
            " #   Column             Non-Null Count  Dtype  \n",
            "---  ------             --------------  -----  \n",
            " 0   gender             5110 non-null   object \n",
            " 1   age                5110 non-null   float64\n",
            " 2   hypertension       5110 non-null   int64  \n",
            " 3   heart_disease      5110 non-null   int64  \n",
            " 4   ever_married       5110 non-null   object \n",
            " 5   work_type          5110 non-null   object \n",
            " 6   Residence_type     5110 non-null   object \n",
            " 7   avg_glucose_level  5110 non-null   float64\n",
            " 8   bmi                4909 non-null   float64\n",
            " 9   smoking_status     5110 non-null   object \n",
            "dtypes: float64(3), int64(2), object(5)\n",
            "memory usage: 399.3+ KB\n"
          ]
        }
      ]
    },
    {
      "cell_type": "code",
      "metadata": {
        "colab": {
          "base_uri": "https://localhost:8080/",
          "height": 300
        },
        "id": "h_brtP8z_F5H",
        "outputId": "6c75cb10-e503-4c4d-edf7-8a6ffac5f535"
      },
      "source": [
        "data.describe()#mô tả dữ liệu số"
      ],
      "execution_count": null,
      "outputs": [
        {
          "output_type": "execute_result",
          "data": {
            "text/html": [
              "<div>\n",
              "<style scoped>\n",
              "    .dataframe tbody tr th:only-of-type {\n",
              "        vertical-align: middle;\n",
              "    }\n",
              "\n",
              "    .dataframe tbody tr th {\n",
              "        vertical-align: top;\n",
              "    }\n",
              "\n",
              "    .dataframe thead th {\n",
              "        text-align: right;\n",
              "    }\n",
              "</style>\n",
              "<table border=\"1\" class=\"dataframe\">\n",
              "  <thead>\n",
              "    <tr style=\"text-align: right;\">\n",
              "      <th></th>\n",
              "      <th>age</th>\n",
              "      <th>hypertension</th>\n",
              "      <th>heart_disease</th>\n",
              "      <th>avg_glucose_level</th>\n",
              "      <th>bmi</th>\n",
              "    </tr>\n",
              "  </thead>\n",
              "  <tbody>\n",
              "    <tr>\n",
              "      <th>count</th>\n",
              "      <td>5110.000000</td>\n",
              "      <td>5110.000000</td>\n",
              "      <td>5110.000000</td>\n",
              "      <td>5110.000000</td>\n",
              "      <td>4909.000000</td>\n",
              "    </tr>\n",
              "    <tr>\n",
              "      <th>mean</th>\n",
              "      <td>43.226614</td>\n",
              "      <td>0.097456</td>\n",
              "      <td>0.054012</td>\n",
              "      <td>106.147677</td>\n",
              "      <td>28.893237</td>\n",
              "    </tr>\n",
              "    <tr>\n",
              "      <th>std</th>\n",
              "      <td>22.612647</td>\n",
              "      <td>0.296607</td>\n",
              "      <td>0.226063</td>\n",
              "      <td>45.283560</td>\n",
              "      <td>7.854067</td>\n",
              "    </tr>\n",
              "    <tr>\n",
              "      <th>min</th>\n",
              "      <td>0.080000</td>\n",
              "      <td>0.000000</td>\n",
              "      <td>0.000000</td>\n",
              "      <td>55.120000</td>\n",
              "      <td>10.300000</td>\n",
              "    </tr>\n",
              "    <tr>\n",
              "      <th>25%</th>\n",
              "      <td>25.000000</td>\n",
              "      <td>0.000000</td>\n",
              "      <td>0.000000</td>\n",
              "      <td>77.245000</td>\n",
              "      <td>23.500000</td>\n",
              "    </tr>\n",
              "    <tr>\n",
              "      <th>50%</th>\n",
              "      <td>45.000000</td>\n",
              "      <td>0.000000</td>\n",
              "      <td>0.000000</td>\n",
              "      <td>91.885000</td>\n",
              "      <td>28.100000</td>\n",
              "    </tr>\n",
              "    <tr>\n",
              "      <th>75%</th>\n",
              "      <td>61.000000</td>\n",
              "      <td>0.000000</td>\n",
              "      <td>0.000000</td>\n",
              "      <td>114.090000</td>\n",
              "      <td>33.100000</td>\n",
              "    </tr>\n",
              "    <tr>\n",
              "      <th>max</th>\n",
              "      <td>82.000000</td>\n",
              "      <td>1.000000</td>\n",
              "      <td>1.000000</td>\n",
              "      <td>271.740000</td>\n",
              "      <td>97.600000</td>\n",
              "    </tr>\n",
              "  </tbody>\n",
              "</table>\n",
              "</div>"
            ],
            "text/plain": [
              "               age  hypertension  heart_disease  avg_glucose_level          bmi\n",
              "count  5110.000000   5110.000000    5110.000000        5110.000000  4909.000000\n",
              "mean     43.226614      0.097456       0.054012         106.147677    28.893237\n",
              "std      22.612647      0.296607       0.226063          45.283560     7.854067\n",
              "min       0.080000      0.000000       0.000000          55.120000    10.300000\n",
              "25%      25.000000      0.000000       0.000000          77.245000    23.500000\n",
              "50%      45.000000      0.000000       0.000000          91.885000    28.100000\n",
              "75%      61.000000      0.000000       0.000000         114.090000    33.100000\n",
              "max      82.000000      1.000000       1.000000         271.740000    97.600000"
            ]
          },
          "metadata": {},
          "execution_count": 7
        }
      ]
    },
    {
      "cell_type": "code",
      "metadata": {
        "colab": {
          "base_uri": "https://localhost:8080/",
          "height": 174
        },
        "id": "a8SKlEEgNvdA",
        "outputId": "ddbf4ba2-63fe-423e-ac4f-dbcc7723f221"
      },
      "source": [
        "data.describe(include=[np.object])"
      ],
      "execution_count": null,
      "outputs": [
        {
          "output_type": "execute_result",
          "data": {
            "text/html": [
              "<div>\n",
              "<style scoped>\n",
              "    .dataframe tbody tr th:only-of-type {\n",
              "        vertical-align: middle;\n",
              "    }\n",
              "\n",
              "    .dataframe tbody tr th {\n",
              "        vertical-align: top;\n",
              "    }\n",
              "\n",
              "    .dataframe thead th {\n",
              "        text-align: right;\n",
              "    }\n",
              "</style>\n",
              "<table border=\"1\" class=\"dataframe\">\n",
              "  <thead>\n",
              "    <tr style=\"text-align: right;\">\n",
              "      <th></th>\n",
              "      <th>gender</th>\n",
              "      <th>ever_married</th>\n",
              "      <th>work_type</th>\n",
              "      <th>Residence_type</th>\n",
              "      <th>smoking_status</th>\n",
              "    </tr>\n",
              "  </thead>\n",
              "  <tbody>\n",
              "    <tr>\n",
              "      <th>count</th>\n",
              "      <td>5110</td>\n",
              "      <td>5110</td>\n",
              "      <td>5110</td>\n",
              "      <td>5110</td>\n",
              "      <td>5110</td>\n",
              "    </tr>\n",
              "    <tr>\n",
              "      <th>unique</th>\n",
              "      <td>3</td>\n",
              "      <td>2</td>\n",
              "      <td>5</td>\n",
              "      <td>2</td>\n",
              "      <td>4</td>\n",
              "    </tr>\n",
              "    <tr>\n",
              "      <th>top</th>\n",
              "      <td>Female</td>\n",
              "      <td>Yes</td>\n",
              "      <td>Private</td>\n",
              "      <td>Urban</td>\n",
              "      <td>never smoked</td>\n",
              "    </tr>\n",
              "    <tr>\n",
              "      <th>freq</th>\n",
              "      <td>2994</td>\n",
              "      <td>3353</td>\n",
              "      <td>2925</td>\n",
              "      <td>2596</td>\n",
              "      <td>1892</td>\n",
              "    </tr>\n",
              "  </tbody>\n",
              "</table>\n",
              "</div>"
            ],
            "text/plain": [
              "        gender ever_married work_type Residence_type smoking_status\n",
              "count     5110         5110      5110           5110           5110\n",
              "unique       3            2         5              2              4\n",
              "top     Female          Yes   Private          Urban   never smoked\n",
              "freq      2994         3353      2925           2596           1892"
            ]
          },
          "metadata": {},
          "execution_count": 8
        }
      ]
    },
    {
      "cell_type": "markdown",
      "metadata": {
        "id": "B6rq2gTf-ycc"
      },
      "source": [
        "# Chuẩn hóa các dữ liệu "
      ]
    },
    {
      "cell_type": "markdown",
      "metadata": {
        "id": "FliSQLXyS_F6"
      },
      "source": [
        "## Hàm thống kê dữ liệu thiếu của mỗi loại feature"
      ]
    },
    {
      "cell_type": "code",
      "metadata": {
        "colab": {
          "base_uri": "https://localhost:8080/"
        },
        "id": "6YDDmoza-60F",
        "outputId": "c1372996-95bc-4696-bdef-283ffa9ffb38"
      },
      "source": [
        "def draw_missing_data_table(data):\n",
        "    total = data.isnull().sum().sort_values(ascending=False)\n",
        "    print(total)\n",
        "    percent = (data.isnull().sum()/data.isnull().count()).sort_values(ascending=False)\n",
        "    missing_data = pd.concat([total, percent], axis=1, keys=['Total', 'Percent'])\n",
        "    return missing_data\n",
        "draw_missing_data_table(data)\n",
        "#"
      ],
      "execution_count": null,
      "outputs": [
        {
          "output_type": "stream",
          "name": "stdout",
          "text": [
            "bmi                  201\n",
            "smoking_status         0\n",
            "avg_glucose_level      0\n",
            "Residence_type         0\n",
            "work_type              0\n",
            "ever_married           0\n",
            "heart_disease          0\n",
            "hypertension           0\n",
            "age                    0\n",
            "gender                 0\n",
            "dtype: int64\n"
          ]
        },
        {
          "output_type": "execute_result",
          "data": {
            "text/html": [
              "<div>\n",
              "<style scoped>\n",
              "    .dataframe tbody tr th:only-of-type {\n",
              "        vertical-align: middle;\n",
              "    }\n",
              "\n",
              "    .dataframe tbody tr th {\n",
              "        vertical-align: top;\n",
              "    }\n",
              "\n",
              "    .dataframe thead th {\n",
              "        text-align: right;\n",
              "    }\n",
              "</style>\n",
              "<table border=\"1\" class=\"dataframe\">\n",
              "  <thead>\n",
              "    <tr style=\"text-align: right;\">\n",
              "      <th></th>\n",
              "      <th>Total</th>\n",
              "      <th>Percent</th>\n",
              "    </tr>\n",
              "  </thead>\n",
              "  <tbody>\n",
              "    <tr>\n",
              "      <th>bmi</th>\n",
              "      <td>201</td>\n",
              "      <td>0.039335</td>\n",
              "    </tr>\n",
              "    <tr>\n",
              "      <th>smoking_status</th>\n",
              "      <td>0</td>\n",
              "      <td>0.000000</td>\n",
              "    </tr>\n",
              "    <tr>\n",
              "      <th>avg_glucose_level</th>\n",
              "      <td>0</td>\n",
              "      <td>0.000000</td>\n",
              "    </tr>\n",
              "    <tr>\n",
              "      <th>Residence_type</th>\n",
              "      <td>0</td>\n",
              "      <td>0.000000</td>\n",
              "    </tr>\n",
              "    <tr>\n",
              "      <th>work_type</th>\n",
              "      <td>0</td>\n",
              "      <td>0.000000</td>\n",
              "    </tr>\n",
              "    <tr>\n",
              "      <th>ever_married</th>\n",
              "      <td>0</td>\n",
              "      <td>0.000000</td>\n",
              "    </tr>\n",
              "    <tr>\n",
              "      <th>heart_disease</th>\n",
              "      <td>0</td>\n",
              "      <td>0.000000</td>\n",
              "    </tr>\n",
              "    <tr>\n",
              "      <th>hypertension</th>\n",
              "      <td>0</td>\n",
              "      <td>0.000000</td>\n",
              "    </tr>\n",
              "    <tr>\n",
              "      <th>age</th>\n",
              "      <td>0</td>\n",
              "      <td>0.000000</td>\n",
              "    </tr>\n",
              "    <tr>\n",
              "      <th>gender</th>\n",
              "      <td>0</td>\n",
              "      <td>0.000000</td>\n",
              "    </tr>\n",
              "  </tbody>\n",
              "</table>\n",
              "</div>"
            ],
            "text/plain": [
              "                   Total   Percent\n",
              "bmi                  201  0.039335\n",
              "smoking_status         0  0.000000\n",
              "avg_glucose_level      0  0.000000\n",
              "Residence_type         0  0.000000\n",
              "work_type              0  0.000000\n",
              "ever_married           0  0.000000\n",
              "heart_disease          0  0.000000\n",
              "hypertension           0  0.000000\n",
              "age                    0  0.000000\n",
              "gender                 0  0.000000"
            ]
          },
          "metadata": {},
          "execution_count": 9
        }
      ]
    },
    {
      "cell_type": "code",
      "source": [
        "# Hàm vẽ biểu đồ\n",
        "def Bieu_do_thong_ke(data):\n",
        "  # Tạo một bảng chứa các biểu đồ\n",
        "  fig,axes = plt.subplots(2,4,figsize = (16,20))\n",
        "\n",
        "  sns.set_style('whitegrid')\n",
        "  fig.suptitle(\"Biểu đồ thống kê một số thuộc tính quan trọng\")\n",
        "\n",
        "  sns.countplot(ax=axes[0,0],data=data,x='heart_disease')\n",
        "  sns.countplot(ax=axes[0,1],data=data,x='smoking_status')\n",
        "  sns.distplot(a=data['age'], ax=axes[0,2],hist= True)\n",
        "  sns.distplot(a=data['avg_glucose_level'], ax=axes[0,3],hist= True)\n",
        "  sns.distplot(a=data['bmi'], ax=axes[1,0],hist= True)\n",
        "  sns.distplot(a=data['hypertension'], ax=axes[1,1],hist= True)\n",
        "  sns.countplot(ax=axes[1,2],data=data,x='gender')\n",
        "  plt.show()"
      ],
      "metadata": {
        "id": "-sITEPvgFdC9"
      },
      "execution_count": null,
      "outputs": []
    },
    {
      "cell_type": "code",
      "source": [
        "Bieu_do_thong_ke(data)"
      ],
      "metadata": {
        "colab": {
          "base_uri": "https://localhost:8080/"
        },
        "id": "XwT3tZ-kFvuW",
        "outputId": "0ef9d3da-fcef-47da-cf81-52dc522e422a"
      },
      "execution_count": null,
      "outputs": [
        {
          "output_type": "display_data",
          "data": {
            "image/png": "[encoded data removed]",
            "text/plain": [
              "<Figure size 1152x1440 with 8 Axes>"
            ]
          },
          "metadata": {
            "needs_background": "light"
          }
        }
      ]
    },
    {
      "cell_type": "markdown",
      "metadata": {
        "id": "pVWr2Db_TLWY"
      },
      "source": [
        "## Điền các cột thiếu bằng mean các cột dó "
      ]
    },
    {
      "cell_type": "code",
      "metadata": {
        "id": "g42OTeL__tRs"
      },
      "source": [
        "\n",
        "data[['bmi']]=data[['bmi']].fillna(value=np.mean(data['bmi']))\n"
      ],
      "execution_count": null,
      "outputs": []
    },
    {
      "cell_type": "code",
      "source": [
        "data"
      ],
      "metadata": {
        "colab": {
          "base_uri": "https://localhost:8080/"
        },
        "id": "YyBc-RqGD5-n",
        "outputId": "5da3edd6-3223-48aa-f8c1-4f9c1cbec86b"
      },
      "execution_count": null,
      "outputs": [
        {
          "output_type": "execute_result",
          "data": {
            "text/html": [
              "<div>\n",
              "<style scoped>\n",
              "    .dataframe tbody tr th:only-of-type {\n",
              "        vertical-align: middle;\n",
              "    }\n",
              "\n",
              "    .dataframe tbody tr th {\n",
              "        vertical-align: top;\n",
              "    }\n",
              "\n",
              "    .dataframe thead th {\n",
              "        text-align: right;\n",
              "    }\n",
              "</style>\n",
              "<table border=\"1\" class=\"dataframe\">\n",
              "  <thead>\n",
              "    <tr style=\"text-align: right;\">\n",
              "      <th></th>\n",
              "      <th>gender</th>\n",
              "      <th>age</th>\n",
              "      <th>hypertension</th>\n",
              "      <th>heart_disease</th>\n",
              "      <th>ever_married</th>\n",
              "      <th>work_type</th>\n",
              "      <th>Residence_type</th>\n",
              "      <th>avg_glucose_level</th>\n",
              "      <th>bmi</th>\n",
              "      <th>smoking_status</th>\n",
              "    </tr>\n",
              "  </thead>\n",
              "  <tbody>\n",
              "    <tr>\n",
              "      <th>0</th>\n",
              "      <td>Male</td>\n",
              "      <td>67.0</td>\n",
              "      <td>0</td>\n",
              "      <td>1</td>\n",
              "      <td>Yes</td>\n",
              "      <td>Private</td>\n",
              "      <td>Urban</td>\n",
              "      <td>228.69</td>\n",
              "      <td>36.600000</td>\n",
              "      <td>formerly smoked</td>\n",
              "    </tr>\n",
              "    <tr>\n",
              "      <th>1</th>\n",
              "      <td>Female</td>\n",
              "      <td>61.0</td>\n",
              "      <td>0</td>\n",
              "      <td>0</td>\n",
              "      <td>Yes</td>\n",
              "      <td>Self-employed</td>\n",
              "      <td>Rural</td>\n",
              "      <td>202.21</td>\n",
              "      <td>28.893237</td>\n",
              "      <td>never smoked</td>\n",
              "    </tr>\n",
              "    <tr>\n",
              "      <th>2</th>\n",
              "      <td>Male</td>\n",
              "      <td>80.0</td>\n",
              "      <td>0</td>\n",
              "      <td>1</td>\n",
              "      <td>Yes</td>\n",
              "      <td>Private</td>\n",
              "      <td>Rural</td>\n",
              "      <td>105.92</td>\n",
              "      <td>32.500000</td>\n",
              "      <td>never smoked</td>\n",
              "    </tr>\n",
              "    <tr>\n",
              "      <th>3</th>\n",
              "      <td>Female</td>\n",
              "      <td>49.0</td>\n",
              "      <td>0</td>\n",
              "      <td>0</td>\n",
              "      <td>Yes</td>\n",
              "      <td>Private</td>\n",
              "      <td>Urban</td>\n",
              "      <td>171.23</td>\n",
              "      <td>34.400000</td>\n",
              "      <td>smokes</td>\n",
              "    </tr>\n",
              "    <tr>\n",
              "      <th>4</th>\n",
              "      <td>Female</td>\n",
              "      <td>79.0</td>\n",
              "      <td>1</td>\n",
              "      <td>0</td>\n",
              "      <td>Yes</td>\n",
              "      <td>Self-employed</td>\n",
              "      <td>Rural</td>\n",
              "      <td>174.12</td>\n",
              "      <td>24.000000</td>\n",
              "      <td>never smoked</td>\n",
              "    </tr>\n",
              "    <tr>\n",
              "      <th>...</th>\n",
              "      <td>...</td>\n",
              "      <td>...</td>\n",
              "      <td>...</td>\n",
              "      <td>...</td>\n",
              "      <td>...</td>\n",
              "      <td>...</td>\n",
              "      <td>...</td>\n",
              "      <td>...</td>\n",
              "      <td>...</td>\n",
              "      <td>...</td>\n",
              "    </tr>\n",
              "    <tr>\n",
              "      <th>5105</th>\n",
              "      <td>Female</td>\n",
              "      <td>80.0</td>\n",
              "      <td>1</td>\n",
              "      <td>0</td>\n",
              "      <td>Yes</td>\n",
              "      <td>Private</td>\n",
              "      <td>Urban</td>\n",
              "      <td>83.75</td>\n",
              "      <td>28.893237</td>\n",
              "      <td>never smoked</td>\n",
              "    </tr>\n",
              "    <tr>\n",
              "      <th>5106</th>\n",
              "      <td>Female</td>\n",
              "      <td>81.0</td>\n",
              "      <td>0</td>\n",
              "      <td>0</td>\n",
              "      <td>Yes</td>\n",
              "      <td>Self-employed</td>\n",
              "      <td>Urban</td>\n",
              "      <td>125.20</td>\n",
              "      <td>40.000000</td>\n",
              "      <td>never smoked</td>\n",
              "    </tr>\n",
              "    <tr>\n",
              "      <th>5107</th>\n",
              "      <td>Female</td>\n",
              "      <td>35.0</td>\n",
              "      <td>0</td>\n",
              "      <td>0</td>\n",
              "      <td>Yes</td>\n",
              "      <td>Self-employed</td>\n",
              "      <td>Rural</td>\n",
              "      <td>82.99</td>\n",
              "      <td>30.600000</td>\n",
              "      <td>never smoked</td>\n",
              "    </tr>\n",
              "    <tr>\n",
              "      <th>5108</th>\n",
              "      <td>Male</td>\n",
              "      <td>51.0</td>\n",
              "      <td>0</td>\n",
              "      <td>0</td>\n",
              "      <td>Yes</td>\n",
              "      <td>Private</td>\n",
              "      <td>Rural</td>\n",
              "      <td>166.29</td>\n",
              "      <td>25.600000</td>\n",
              "      <td>formerly smoked</td>\n",
              "    </tr>\n",
              "    <tr>\n",
              "      <th>5109</th>\n",
              "      <td>Female</td>\n",
              "      <td>44.0</td>\n",
              "      <td>0</td>\n",
              "      <td>0</td>\n",
              "      <td>Yes</td>\n",
              "      <td>Govt_job</td>\n",
              "      <td>Urban</td>\n",
              "      <td>85.28</td>\n",
              "      <td>26.200000</td>\n",
              "      <td>Unknown</td>\n",
              "    </tr>\n",
              "  </tbody>\n",
              "</table>\n",
              "<p>5110 rows × 10 columns</p>\n",
              "</div>"
            ],
            "text/plain": [
              "      gender   age  hypertension  ...  avg_glucose_level        bmi   smoking_status\n",
              "0       Male  67.0             0  ...             228.69  36.600000  formerly smoked\n",
              "1     Female  61.0             0  ...             202.21  28.893237     never smoked\n",
              "2       Male  80.0             0  ...             105.92  32.500000     never smoked\n",
              "3     Female  49.0             0  ...             171.23  34.400000           smokes\n",
              "4     Female  79.0             1  ...             174.12  24.000000     never smoked\n",
              "...      ...   ...           ...  ...                ...        ...              ...\n",
              "5105  Female  80.0             1  ...              83.75  28.893237     never smoked\n",
              "5106  Female  81.0             0  ...             125.20  40.000000     never smoked\n",
              "5107  Female  35.0             0  ...              82.99  30.600000     never smoked\n",
              "5108    Male  51.0             0  ...             166.29  25.600000  formerly smoked\n",
              "5109  Female  44.0             0  ...              85.28  26.200000          Unknown\n",
              "\n",
              "[5110 rows x 10 columns]"
            ]
          },
          "metadata": {},
          "execution_count": 13
        }
      ]
    },
    {
      "cell_type": "code",
      "metadata": {
        "id": "ZF9523ZKMIQT"
      },
      "source": [
        "data[['age']]=data[['age']].fillna(value=np.mean(data['age']))"
      ],
      "execution_count": null,
      "outputs": []
    },
    {
      "cell_type": "code",
      "metadata": {
        "id": "KuruAs65MUAR"
      },
      "source": [
        "data[['hypertension']]=data[['hypertension']].fillna(value=np.mean(data['hypertension']))"
      ],
      "execution_count": null,
      "outputs": []
    },
    {
      "cell_type": "code",
      "metadata": {
        "id": "uz8VMQZ3Mh3t"
      },
      "source": [
        "#avg_glucose_level\n",
        "data[['avg_glucose_level']]=data[['avg_glucose_level']].fillna(value=np.mean(data['avg_glucose_level']))"
      ],
      "execution_count": null,
      "outputs": []
    },
    {
      "cell_type": "code",
      "metadata": {
        "id": "NfF1ZmYTNFg1"
      },
      "source": [
        "data[['heart_disease']]=data[['heart_disease']].fillna(value=np.mean(data['heart_disease']))"
      ],
      "execution_count": null,
      "outputs": []
    },
    {
      "cell_type": "code",
      "metadata": {
        "colab": {
          "base_uri": "https://localhost:8080/"
        },
        "id": "PZZty010My9P",
        "outputId": "902bf0af-c175-465f-8704-8b755ba3ea3b"
      },
      "source": [
        "draw_missing_data_table(data)\n",
        "#"
      ],
      "execution_count": null,
      "outputs": [
        {
          "output_type": "stream",
          "name": "stdout",
          "text": [
            "smoking_status       0\n",
            "bmi                  0\n",
            "avg_glucose_level    0\n",
            "Residence_type       0\n",
            "work_type            0\n",
            "ever_married         0\n",
            "heart_disease        0\n",
            "hypertension         0\n",
            "age                  0\n",
            "gender               0\n",
            "dtype: int64\n"
          ]
        },
        {
          "output_type": "execute_result",
          "data": {
            "text/html": [
              "<div>\n",
              "<style scoped>\n",
              "    .dataframe tbody tr th:only-of-type {\n",
              "        vertical-align: middle;\n",
              "    }\n",
              "\n",
              "    .dataframe tbody tr th {\n",
              "        vertical-align: top;\n",
              "    }\n",
              "\n",
              "    .dataframe thead th {\n",
              "        text-align: right;\n",
              "    }\n",
              "</style>\n",
              "<table border=\"1\" class=\"dataframe\">\n",
              "  <thead>\n",
              "    <tr style=\"text-align: right;\">\n",
              "      <th></th>\n",
              "      <th>Total</th>\n",
              "      <th>Percent</th>\n",
              "    </tr>\n",
              "  </thead>\n",
              "  <tbody>\n",
              "    <tr>\n",
              "      <th>smoking_status</th>\n",
              "      <td>0</td>\n",
              "      <td>0.0</td>\n",
              "    </tr>\n",
              "    <tr>\n",
              "      <th>bmi</th>\n",
              "      <td>0</td>\n",
              "      <td>0.0</td>\n",
              "    </tr>\n",
              "    <tr>\n",
              "      <th>avg_glucose_level</th>\n",
              "      <td>0</td>\n",
              "      <td>0.0</td>\n",
              "    </tr>\n",
              "    <tr>\n",
              "      <th>Residence_type</th>\n",
              "      <td>0</td>\n",
              "      <td>0.0</td>\n",
              "    </tr>\n",
              "    <tr>\n",
              "      <th>work_type</th>\n",
              "      <td>0</td>\n",
              "      <td>0.0</td>\n",
              "    </tr>\n",
              "    <tr>\n",
              "      <th>ever_married</th>\n",
              "      <td>0</td>\n",
              "      <td>0.0</td>\n",
              "    </tr>\n",
              "    <tr>\n",
              "      <th>heart_disease</th>\n",
              "      <td>0</td>\n",
              "      <td>0.0</td>\n",
              "    </tr>\n",
              "    <tr>\n",
              "      <th>hypertension</th>\n",
              "      <td>0</td>\n",
              "      <td>0.0</td>\n",
              "    </tr>\n",
              "    <tr>\n",
              "      <th>age</th>\n",
              "      <td>0</td>\n",
              "      <td>0.0</td>\n",
              "    </tr>\n",
              "    <tr>\n",
              "      <th>gender</th>\n",
              "      <td>0</td>\n",
              "      <td>0.0</td>\n",
              "    </tr>\n",
              "  </tbody>\n",
              "</table>\n",
              "</div>"
            ],
            "text/plain": [
              "                   Total  Percent\n",
              "smoking_status         0      0.0\n",
              "bmi                    0      0.0\n",
              "avg_glucose_level      0      0.0\n",
              "Residence_type         0      0.0\n",
              "work_type              0      0.0\n",
              "ever_married           0      0.0\n",
              "heart_disease          0      0.0\n",
              "hypertension           0      0.0\n",
              "age                    0      0.0\n",
              "gender                 0      0.0"
            ]
          },
          "metadata": {},
          "execution_count": 18
        }
      ]
    },
    {
      "cell_type": "code",
      "metadata": {
        "colab": {
          "base_uri": "https://localhost:8080/"
        },
        "id": "zoJUle-MzzSN",
        "outputId": "d2c4bf8a-7cae-4448-ba22-6fabcd05e4cd"
      },
      "source": [
        "data.head(10)"
      ],
      "execution_count": null,
      "outputs": [
        {
          "output_type": "execute_result",
          "data": {
            "text/html": [
              "<div>\n",
              "<style scoped>\n",
              "    .dataframe tbody tr th:only-of-type {\n",
              "        vertical-align: middle;\n",
              "    }\n",
              "\n",
              "    .dataframe tbody tr th {\n",
              "        vertical-align: top;\n",
              "    }\n",
              "\n",
              "    .dataframe thead th {\n",
              "        text-align: right;\n",
              "    }\n",
              "</style>\n",
              "<table border=\"1\" class=\"dataframe\">\n",
              "  <thead>\n",
              "    <tr style=\"text-align: right;\">\n",
              "      <th></th>\n",
              "      <th>gender</th>\n",
              "      <th>age</th>\n",
              "      <th>hypertension</th>\n",
              "      <th>heart_disease</th>\n",
              "      <th>ever_married</th>\n",
              "      <th>work_type</th>\n",
              "      <th>Residence_type</th>\n",
              "      <th>avg_glucose_level</th>\n",
              "      <th>bmi</th>\n",
              "      <th>smoking_status</th>\n",
              "    </tr>\n",
              "  </thead>\n",
              "  <tbody>\n",
              "    <tr>\n",
              "      <th>0</th>\n",
              "      <td>Male</td>\n",
              "      <td>67.0</td>\n",
              "      <td>0</td>\n",
              "      <td>1</td>\n",
              "      <td>Yes</td>\n",
              "      <td>Private</td>\n",
              "      <td>Urban</td>\n",
              "      <td>228.69</td>\n",
              "      <td>36.600000</td>\n",
              "      <td>formerly smoked</td>\n",
              "    </tr>\n",
              "    <tr>\n",
              "      <th>1</th>\n",
              "      <td>Female</td>\n",
              "      <td>61.0</td>\n",
              "      <td>0</td>\n",
              "      <td>0</td>\n",
              "      <td>Yes</td>\n",
              "      <td>Self-employed</td>\n",
              "      <td>Rural</td>\n",
              "      <td>202.21</td>\n",
              "      <td>28.893237</td>\n",
              "      <td>never smoked</td>\n",
              "    </tr>\n",
              "    <tr>\n",
              "      <th>2</th>\n",
              "      <td>Male</td>\n",
              "      <td>80.0</td>\n",
              "      <td>0</td>\n",
              "      <td>1</td>\n",
              "      <td>Yes</td>\n",
              "      <td>Private</td>\n",
              "      <td>Rural</td>\n",
              "      <td>105.92</td>\n",
              "      <td>32.500000</td>\n",
              "      <td>never smoked</td>\n",
              "    </tr>\n",
              "    <tr>\n",
              "      <th>3</th>\n",
              "      <td>Female</td>\n",
              "      <td>49.0</td>\n",
              "      <td>0</td>\n",
              "      <td>0</td>\n",
              "      <td>Yes</td>\n",
              "      <td>Private</td>\n",
              "      <td>Urban</td>\n",
              "      <td>171.23</td>\n",
              "      <td>34.400000</td>\n",
              "      <td>smokes</td>\n",
              "    </tr>\n",
              "    <tr>\n",
              "      <th>4</th>\n",
              "      <td>Female</td>\n",
              "      <td>79.0</td>\n",
              "      <td>1</td>\n",
              "      <td>0</td>\n",
              "      <td>Yes</td>\n",
              "      <td>Self-employed</td>\n",
              "      <td>Rural</td>\n",
              "      <td>174.12</td>\n",
              "      <td>24.000000</td>\n",
              "      <td>never smoked</td>\n",
              "    </tr>\n",
              "    <tr>\n",
              "      <th>5</th>\n",
              "      <td>Male</td>\n",
              "      <td>81.0</td>\n",
              "      <td>0</td>\n",
              "      <td>0</td>\n",
              "      <td>Yes</td>\n",
              "      <td>Private</td>\n",
              "      <td>Urban</td>\n",
              "      <td>186.21</td>\n",
              "      <td>29.000000</td>\n",
              "      <td>formerly smoked</td>\n",
              "    </tr>\n",
              "    <tr>\n",
              "      <th>6</th>\n",
              "      <td>Male</td>\n",
              "      <td>74.0</td>\n",
              "      <td>1</td>\n",
              "      <td>1</td>\n",
              "      <td>Yes</td>\n",
              "      <td>Private</td>\n",
              "      <td>Rural</td>\n",
              "      <td>70.09</td>\n",
              "      <td>27.400000</td>\n",
              "      <td>never smoked</td>\n",
              "    </tr>\n",
              "    <tr>\n",
              "      <th>7</th>\n",
              "      <td>Female</td>\n",
              "      <td>69.0</td>\n",
              "      <td>0</td>\n",
              "      <td>0</td>\n",
              "      <td>No</td>\n",
              "      <td>Private</td>\n",
              "      <td>Urban</td>\n",
              "      <td>94.39</td>\n",
              "      <td>22.800000</td>\n",
              "      <td>never smoked</td>\n",
              "    </tr>\n",
              "    <tr>\n",
              "      <th>8</th>\n",
              "      <td>Female</td>\n",
              "      <td>59.0</td>\n",
              "      <td>0</td>\n",
              "      <td>0</td>\n",
              "      <td>Yes</td>\n",
              "      <td>Private</td>\n",
              "      <td>Rural</td>\n",
              "      <td>76.15</td>\n",
              "      <td>28.893237</td>\n",
              "      <td>Unknown</td>\n",
              "    </tr>\n",
              "    <tr>\n",
              "      <th>9</th>\n",
              "      <td>Female</td>\n",
              "      <td>78.0</td>\n",
              "      <td>0</td>\n",
              "      <td>0</td>\n",
              "      <td>Yes</td>\n",
              "      <td>Private</td>\n",
              "      <td>Urban</td>\n",
              "      <td>58.57</td>\n",
              "      <td>24.200000</td>\n",
              "      <td>Unknown</td>\n",
              "    </tr>\n",
              "  </tbody>\n",
              "</table>\n",
              "</div>"
            ],
            "text/plain": [
              "   gender   age  hypertension  ...  avg_glucose_level        bmi   smoking_status\n",
              "0    Male  67.0             0  ...             228.69  36.600000  formerly smoked\n",
              "1  Female  61.0             0  ...             202.21  28.893237     never smoked\n",
              "2    Male  80.0             0  ...             105.92  32.500000     never smoked\n",
              "3  Female  49.0             0  ...             171.23  34.400000           smokes\n",
              "4  Female  79.0             1  ...             174.12  24.000000     never smoked\n",
              "5    Male  81.0             0  ...             186.21  29.000000  formerly smoked\n",
              "6    Male  74.0             1  ...              70.09  27.400000     never smoked\n",
              "7  Female  69.0             0  ...              94.39  22.800000     never smoked\n",
              "8  Female  59.0             0  ...              76.15  28.893237          Unknown\n",
              "9  Female  78.0             0  ...              58.57  24.200000          Unknown\n",
              "\n",
              "[10 rows x 10 columns]"
            ]
          },
          "metadata": {},
          "execution_count": 19
        }
      ]
    },
    {
      "cell_type": "code",
      "metadata": {
        "id": "X5M7UfUIA_4x"
      },
      "source": [
        "# Classifying data into numerical and categorical variables.\n",
        "data_numerical=data[['age','avg_glucose_level','bmi']]\n",
        "data_categorical=data[['gender', 'hypertension', 'heart_disease', 'ever_married','work_type', 'Residence_type', \n",
        "                       'smoking_status']]"
      ],
      "execution_count": null,
      "outputs": []
    },
    {
      "cell_type": "code",
      "metadata": {
        "colab": {
          "base_uri": "https://localhost:8080/"
        },
        "id": "fNhRCYx2DZNH",
        "outputId": "86f41491-1bcf-4ff2-e65e-aa94eab2a994"
      },
      "source": [
        "fig, ax = plt.subplots(figsize = (12,6))\n",
        "fig.patch.set_facecolor('#f6f5f7')\n",
        "ax.set_facecolor('#f6f5f5')\n",
        "sns.kdeplot(data=data_numerical,shade=True,palette='rocket') # Distributions\n",
        "# removing spines\n",
        "for i in [\"top\",\"right\"]:\n",
        "    ax.spines[i].set_visible(False)\n",
        "plt.title('Kde Plots for age, avg_glucose_level and bmi',weight='bold')"
      ],
      "execution_count": null,
      "outputs": [
        {
          "output_type": "execute_result",
          "data": {
            "text/plain": [
              "Text(0.5, 1.0, 'Kde Plots for age, avg_glucose_level and bmi')"
            ]
          },
          "metadata": {},
          "execution_count": 21
        },
        {
          "output_type": "display_data",
          "data": {
            "image/png": "[encoded data removed]",
            "text/plain": [
              "<Figure size 864x432 with 1 Axes>"
            ]
          },
          "metadata": {}
        }
      ]
    },
    {
      "cell_type": "code",
      "metadata": {
        "colab": {
          "base_uri": "https://localhost:8080/"
        },
        "id": "-ssxUL4RBe0s",
        "outputId": "3e18ef8a-940e-4906-9352-e4b8ce1c44c0"
      },
      "source": [
        "labels =label.value_counts(sort = True).index\n",
        "sizes = label.value_counts(sort = True)\n",
        "\n",
        "colors = [\"lightblue\",\"red\"]\n",
        "explode = (0.05,0) \n",
        " \n",
        "plt.figure(figsize=(7,7))\n",
        "plt.pie(sizes, explode=explode, labels=labels, colors=colors, autopct='%1.1f%%', shadow=True, startangle=90,)\n",
        "\n",
        "plt.title('Number of stroke in the dataset')\n",
        "plt.show()"
      ],
      "execution_count": null,
      "outputs": [
        {
          "output_type": "display_data",
          "data": {
            "image/png": "[encoded data removed]",
            "text/plain": [
              "<Figure size 504x504 with 1 Axes>"
            ]
          },
          "metadata": {}
        }
      ]
    },
    {
      "cell_type": "markdown",
      "metadata": {
        "id": "76cw-VZdTcwc"
      },
      "source": [
        "**Nhận xét: Dữ liệu bị mất cân bằng nghiêm trọng**"
      ]
    },
    {
      "cell_type": "markdown",
      "metadata": {
        "id": "3I2RMvsPBnR_"
      },
      "source": [
        "# Xử lý dữ liệu về dạng các feature để đưa vào model"
      ]
    },
    {
      "cell_type": "code",
      "metadata": {
        "id": "mxGnjLplVLcl"
      },
      "source": [
        "import random"
      ],
      "execution_count": null,
      "outputs": []
    },
    {
      "cell_type": "markdown",
      "metadata": {
        "id": "_6fIm5tBXQHP"
      },
      "source": [
        "## Chuẩn hóa cho gender,residence_type,ever_married"
      ]
    },
    {
      "cell_type": "code",
      "metadata": {
        "id": "RHKNMCTcD7pz"
      },
      "source": [
        "# Convert Marrital Status, Residence and Gender into 0's and 1's\n",
        "data['gender']=data['gender'].apply(lambda x : 1 if x=='Male' else 0) \n",
        "data[\"Residence_type\"] = data[\"Residence_type\"].apply(lambda x: 1 if x==\"Urban\" else ( -0 if x==\"Rural\" else random.randint(0,1)))\n",
        "data[\"ever_married\"] = data[\"ever_married\"].apply(lambda x: 1 if x==\"Yes\" else 0)"
      ],
      "execution_count": null,
      "outputs": []
    },
    {
      "cell_type": "code",
      "metadata": {
        "colab": {
          "base_uri": "https://localhost:8080/"
        },
        "id": "MfCNpw7ImflN",
        "outputId": "bed0a60c-9d9e-4823-a5a4-e163dd37fe51"
      },
      "source": [
        "data['Residence_type'].value_counts()"
      ],
      "execution_count": null,
      "outputs": [
        {
          "output_type": "execute_result",
          "data": {
            "text/plain": [
              "1    2596\n",
              "0    2514\n",
              "Name: Residence_type, dtype: int64"
            ]
          },
          "metadata": {},
          "execution_count": 25
        }
      ]
    },
    {
      "cell_type": "code",
      "metadata": {
        "colab": {
          "base_uri": "https://localhost:8080/"
        },
        "id": "JEHyRL6fRfmS",
        "outputId": "42a940d2-b22e-4443-ba5d-7a1c799c27ae"
      },
      "source": [
        "data.head(10 )"
      ],
      "execution_count": null,
      "outputs": [
        {
          "output_type": "execute_result",
          "data": {
            "text/html": [
              "<div>\n",
              "<style scoped>\n",
              "    .dataframe tbody tr th:only-of-type {\n",
              "        vertical-align: middle;\n",
              "    }\n",
              "\n",
              "    .dataframe tbody tr th {\n",
              "        vertical-align: top;\n",
              "    }\n",
              "\n",
              "    .dataframe thead th {\n",
              "        text-align: right;\n",
              "    }\n",
              "</style>\n",
              "<table border=\"1\" class=\"dataframe\">\n",
              "  <thead>\n",
              "    <tr style=\"text-align: right;\">\n",
              "      <th></th>\n",
              "      <th>gender</th>\n",
              "      <th>age</th>\n",
              "      <th>hypertension</th>\n",
              "      <th>heart_disease</th>\n",
              "      <th>ever_married</th>\n",
              "      <th>work_type</th>\n",
              "      <th>Residence_type</th>\n",
              "      <th>avg_glucose_level</th>\n",
              "      <th>bmi</th>\n",
              "      <th>smoking_status</th>\n",
              "    </tr>\n",
              "  </thead>\n",
              "  <tbody>\n",
              "    <tr>\n",
              "      <th>0</th>\n",
              "      <td>1</td>\n",
              "      <td>67.0</td>\n",
              "      <td>0</td>\n",
              "      <td>1</td>\n",
              "      <td>1</td>\n",
              "      <td>Private</td>\n",
              "      <td>1</td>\n",
              "      <td>228.69</td>\n",
              "      <td>36.600000</td>\n",
              "      <td>formerly smoked</td>\n",
              "    </tr>\n",
              "    <tr>\n",
              "      <th>1</th>\n",
              "      <td>0</td>\n",
              "      <td>61.0</td>\n",
              "      <td>0</td>\n",
              "      <td>0</td>\n",
              "      <td>1</td>\n",
              "      <td>Self-employed</td>\n",
              "      <td>0</td>\n",
              "      <td>202.21</td>\n",
              "      <td>28.893237</td>\n",
              "      <td>never smoked</td>\n",
              "    </tr>\n",
              "    <tr>\n",
              "      <th>2</th>\n",
              "      <td>1</td>\n",
              "      <td>80.0</td>\n",
              "      <td>0</td>\n",
              "      <td>1</td>\n",
              "      <td>1</td>\n",
              "      <td>Private</td>\n",
              "      <td>0</td>\n",
              "      <td>105.92</td>\n",
              "      <td>32.500000</td>\n",
              "      <td>never smoked</td>\n",
              "    </tr>\n",
              "    <tr>\n",
              "      <th>3</th>\n",
              "      <td>0</td>\n",
              "      <td>49.0</td>\n",
              "      <td>0</td>\n",
              "      <td>0</td>\n",
              "      <td>1</td>\n",
              "      <td>Private</td>\n",
              "      <td>1</td>\n",
              "      <td>171.23</td>\n",
              "      <td>34.400000</td>\n",
              "      <td>smokes</td>\n",
              "    </tr>\n",
              "    <tr>\n",
              "      <th>4</th>\n",
              "      <td>0</td>\n",
              "      <td>79.0</td>\n",
              "      <td>1</td>\n",
              "      <td>0</td>\n",
              "      <td>1</td>\n",
              "      <td>Self-employed</td>\n",
              "      <td>0</td>\n",
              "      <td>174.12</td>\n",
              "      <td>24.000000</td>\n",
              "      <td>never smoked</td>\n",
              "    </tr>\n",
              "    <tr>\n",
              "      <th>5</th>\n",
              "      <td>1</td>\n",
              "      <td>81.0</td>\n",
              "      <td>0</td>\n",
              "      <td>0</td>\n",
              "      <td>1</td>\n",
              "      <td>Private</td>\n",
              "      <td>1</td>\n",
              "      <td>186.21</td>\n",
              "      <td>29.000000</td>\n",
              "      <td>formerly smoked</td>\n",
              "    </tr>\n",
              "    <tr>\n",
              "      <th>6</th>\n",
              "      <td>1</td>\n",
              "      <td>74.0</td>\n",
              "      <td>1</td>\n",
              "      <td>1</td>\n",
              "      <td>1</td>\n",
              "      <td>Private</td>\n",
              "      <td>0</td>\n",
              "      <td>70.09</td>\n",
              "      <td>27.400000</td>\n",
              "      <td>never smoked</td>\n",
              "    </tr>\n",
              "    <tr>\n",
              "      <th>7</th>\n",
              "      <td>0</td>\n",
              "      <td>69.0</td>\n",
              "      <td>0</td>\n",
              "      <td>0</td>\n",
              "      <td>0</td>\n",
              "      <td>Private</td>\n",
              "      <td>1</td>\n",
              "      <td>94.39</td>\n",
              "      <td>22.800000</td>\n",
              "      <td>never smoked</td>\n",
              "    </tr>\n",
              "    <tr>\n",
              "      <th>8</th>\n",
              "      <td>0</td>\n",
              "      <td>59.0</td>\n",
              "      <td>0</td>\n",
              "      <td>0</td>\n",
              "      <td>1</td>\n",
              "      <td>Private</td>\n",
              "      <td>0</td>\n",
              "      <td>76.15</td>\n",
              "      <td>28.893237</td>\n",
              "      <td>Unknown</td>\n",
              "    </tr>\n",
              "    <tr>\n",
              "      <th>9</th>\n",
              "      <td>0</td>\n",
              "      <td>78.0</td>\n",
              "      <td>0</td>\n",
              "      <td>0</td>\n",
              "      <td>1</td>\n",
              "      <td>Private</td>\n",
              "      <td>1</td>\n",
              "      <td>58.57</td>\n",
              "      <td>24.200000</td>\n",
              "      <td>Unknown</td>\n",
              "    </tr>\n",
              "  </tbody>\n",
              "</table>\n",
              "</div>"
            ],
            "text/plain": [
              "   gender   age  hypertension  ...  avg_glucose_level        bmi   smoking_status\n",
              "0       1  67.0             0  ...             228.69  36.600000  formerly smoked\n",
              "1       0  61.0             0  ...             202.21  28.893237     never smoked\n",
              "2       1  80.0             0  ...             105.92  32.500000     never smoked\n",
              "3       0  49.0             0  ...             171.23  34.400000           smokes\n",
              "4       0  79.0             1  ...             174.12  24.000000     never smoked\n",
              "5       1  81.0             0  ...             186.21  29.000000  formerly smoked\n",
              "6       1  74.0             1  ...              70.09  27.400000     never smoked\n",
              "7       0  69.0             0  ...              94.39  22.800000     never smoked\n",
              "8       0  59.0             0  ...              76.15  28.893237          Unknown\n",
              "9       0  78.0             0  ...              58.57  24.200000          Unknown\n",
              "\n",
              "[10 rows x 10 columns]"
            ]
          },
          "metadata": {},
          "execution_count": 26
        }
      ]
    },
    {
      "cell_type": "markdown",
      "metadata": {
        "id": "H_hd3quBXaFK"
      },
      "source": [
        "## Chuẩn hóa smoking_status, work_type"
      ]
    },
    {
      "cell_type": "code",
      "metadata": {
        "id": "6rrXyik9TmMU"
      },
      "source": [
        "# One Hot encoding smoking_status, work_type\n",
        "data_dummies = data[['smoking_status']]\n",
        "data_dummies=pd.get_dummies(data_dummies)\n",
        "data.drop(columns=['smoking_status'],inplace=True)\n",
        "data=data.merge(data_dummies,left_index=True, right_index=True,how='left')"
      ],
      "execution_count": null,
      "outputs": []
    },
    {
      "cell_type": "code",
      "metadata": {
        "id": "5w3tnohlcS7K"
      },
      "source": [
        "# #One Hot encoding smoking_status, work_type\n",
        "data_dummies = data[['work_type']]\n",
        "data_dummies=pd.get_dummies(data_dummies)\n",
        "data.drop(columns=['work_type'],inplace=True)\n",
        "data=data.merge(data_dummies,left_index=True, right_index=True,how='left')"
      ],
      "execution_count": null,
      "outputs": []
    },
    {
      "cell_type": "code",
      "metadata": {
        "colab": {
          "base_uri": "https://localhost:8080/"
        },
        "id": "5bkqaSOXT3Lv",
        "outputId": "a48c22a4-b470-4ac9-d904-ed9764413fbf"
      },
      "source": [
        "draw_missing_data_table(data)"
      ],
      "execution_count": null,
      "outputs": [
        {
          "output_type": "stream",
          "name": "stdout",
          "text": [
            "work_type_children                0\n",
            "bmi                               0\n",
            "age                               0\n",
            "hypertension                      0\n",
            "heart_disease                     0\n",
            "ever_married                      0\n",
            "Residence_type                    0\n",
            "avg_glucose_level                 0\n",
            "smoking_status_Unknown            0\n",
            "work_type_Self-employed           0\n",
            "smoking_status_formerly smoked    0\n",
            "smoking_status_never smoked       0\n",
            "smoking_status_smokes             0\n",
            "work_type_Govt_job                0\n",
            "work_type_Never_worked            0\n",
            "work_type_Private                 0\n",
            "gender                            0\n",
            "dtype: int64\n"
          ]
        },
        {
          "output_type": "execute_result",
          "data": {
            "text/html": [
              "<div>\n",
              "<style scoped>\n",
              "    .dataframe tbody tr th:only-of-type {\n",
              "        vertical-align: middle;\n",
              "    }\n",
              "\n",
              "    .dataframe tbody tr th {\n",
              "        vertical-align: top;\n",
              "    }\n",
              "\n",
              "    .dataframe thead th {\n",
              "        text-align: right;\n",
              "    }\n",
              "</style>\n",
              "<table border=\"1\" class=\"dataframe\">\n",
              "  <thead>\n",
              "    <tr style=\"text-align: right;\">\n",
              "      <th></th>\n",
              "      <th>Total</th>\n",
              "      <th>Percent</th>\n",
              "    </tr>\n",
              "  </thead>\n",
              "  <tbody>\n",
              "    <tr>\n",
              "      <th>work_type_children</th>\n",
              "      <td>0</td>\n",
              "      <td>0.0</td>\n",
              "    </tr>\n",
              "    <tr>\n",
              "      <th>bmi</th>\n",
              "      <td>0</td>\n",
              "      <td>0.0</td>\n",
              "    </tr>\n",
              "    <tr>\n",
              "      <th>age</th>\n",
              "      <td>0</td>\n",
              "      <td>0.0</td>\n",
              "    </tr>\n",
              "    <tr>\n",
              "      <th>hypertension</th>\n",
              "      <td>0</td>\n",
              "      <td>0.0</td>\n",
              "    </tr>\n",
              "    <tr>\n",
              "      <th>heart_disease</th>\n",
              "      <td>0</td>\n",
              "      <td>0.0</td>\n",
              "    </tr>\n",
              "    <tr>\n",
              "      <th>ever_married</th>\n",
              "      <td>0</td>\n",
              "      <td>0.0</td>\n",
              "    </tr>\n",
              "    <tr>\n",
              "      <th>Residence_type</th>\n",
              "      <td>0</td>\n",
              "      <td>0.0</td>\n",
              "    </tr>\n",
              "    <tr>\n",
              "      <th>avg_glucose_level</th>\n",
              "      <td>0</td>\n",
              "      <td>0.0</td>\n",
              "    </tr>\n",
              "    <tr>\n",
              "      <th>smoking_status_Unknown</th>\n",
              "      <td>0</td>\n",
              "      <td>0.0</td>\n",
              "    </tr>\n",
              "    <tr>\n",
              "      <th>work_type_Self-employed</th>\n",
              "      <td>0</td>\n",
              "      <td>0.0</td>\n",
              "    </tr>\n",
              "    <tr>\n",
              "      <th>smoking_status_formerly smoked</th>\n",
              "      <td>0</td>\n",
              "      <td>0.0</td>\n",
              "    </tr>\n",
              "    <tr>\n",
              "      <th>smoking_status_never smoked</th>\n",
              "      <td>0</td>\n",
              "      <td>0.0</td>\n",
              "    </tr>\n",
              "    <tr>\n",
              "      <th>smoking_status_smokes</th>\n",
              "      <td>0</td>\n",
              "      <td>0.0</td>\n",
              "    </tr>\n",
              "    <tr>\n",
              "      <th>work_type_Govt_job</th>\n",
              "      <td>0</td>\n",
              "      <td>0.0</td>\n",
              "    </tr>\n",
              "    <tr>\n",
              "      <th>work_type_Never_worked</th>\n",
              "      <td>0</td>\n",
              "      <td>0.0</td>\n",
              "    </tr>\n",
              "    <tr>\n",
              "      <th>work_type_Private</th>\n",
              "      <td>0</td>\n",
              "      <td>0.0</td>\n",
              "    </tr>\n",
              "    <tr>\n",
              "      <th>gender</th>\n",
              "      <td>0</td>\n",
              "      <td>0.0</td>\n",
              "    </tr>\n",
              "  </tbody>\n",
              "</table>\n",
              "</div>"
            ],
            "text/plain": [
              "                                Total  Percent\n",
              "work_type_children                  0      0.0\n",
              "bmi                                 0      0.0\n",
              "age                                 0      0.0\n",
              "hypertension                        0      0.0\n",
              "heart_disease                       0      0.0\n",
              "ever_married                        0      0.0\n",
              "Residence_type                      0      0.0\n",
              "avg_glucose_level                   0      0.0\n",
              "smoking_status_Unknown              0      0.0\n",
              "work_type_Self-employed             0      0.0\n",
              "smoking_status_formerly smoked      0      0.0\n",
              "smoking_status_never smoked         0      0.0\n",
              "smoking_status_smokes               0      0.0\n",
              "work_type_Govt_job                  0      0.0\n",
              "work_type_Never_worked              0      0.0\n",
              "work_type_Private                   0      0.0\n",
              "gender                              0      0.0"
            ]
          },
          "metadata": {},
          "execution_count": 29
        }
      ]
    },
    {
      "cell_type": "markdown",
      "metadata": {
        "id": "2S4NqJFOWr5U"
      },
      "source": [
        "# Huấn luyện "
      ]
    },
    {
      "cell_type": "code",
      "metadata": {
        "colab": {
          "base_uri": "https://localhost:8080/"
        },
        "id": "mEV9Fn1WRcAM",
        "outputId": "e31a345e-5ff2-450b-c07c-479d6da2d7d6"
      },
      "source": [
        "data.shape"
      ],
      "execution_count": null,
      "outputs": [
        {
          "output_type": "execute_result",
          "data": {
            "text/plain": [
              "(4500, 17)"
            ]
          },
          "metadata": {
            "tags": []
          },
          "execution_count": 353
        }
      ]
    },
    {
      "cell_type": "code",
      "metadata": {
        "id": "qu6Yr6kS3W6H"
      },
      "source": [
        "labels=pd.read_csv('healthcare-dataset-stroke-data.csv')['stroke']"
      ],
      "execution_count": null,
      "outputs": []
    },
    {
      "cell_type": "code",
      "source": [
        "labels"
      ],
      "metadata": {
        "colab": {
          "base_uri": "https://localhost:8080/"
        },
        "id": "CoYYNkrLE7dn",
        "outputId": "deb28c4e-dd3b-47bb-b158-856c106793e8"
      },
      "execution_count": null,
      "outputs": [
        {
          "output_type": "execute_result",
          "data": {
            "text/plain": [
              "0       1\n",
              "1       1\n",
              "2       1\n",
              "3       1\n",
              "4       1\n",
              "       ..\n",
              "5105    0\n",
              "5106    0\n",
              "5107    0\n",
              "5108    0\n",
              "5109    0\n",
              "Name: stroke, Length: 5110, dtype: int64"
            ]
          },
          "metadata": {},
          "execution_count": 41
        }
      ]
    },
    {
      "cell_type": "code",
      "source": [
        "data"
      ],
      "metadata": {
        "colab": {
          "base_uri": "https://localhost:8080/",
          "height": 461
        },
        "id": "-H9mUALvIAYT",
        "outputId": "d975090e-dfb4-4bfb-afde-886a02aca8e8"
      },
      "execution_count": null,
      "outputs": [
        {
          "output_type": "execute_result",
          "data": {
            "text/html": [
              "<div>\n",
              "<style scoped>\n",
              "    .dataframe tbody tr th:only-of-type {\n",
              "        vertical-align: middle;\n",
              "    }\n",
              "\n",
              "    .dataframe tbody tr th {\n",
              "        vertical-align: top;\n",
              "    }\n",
              "\n",
              "    .dataframe thead th {\n",
              "        text-align: right;\n",
              "    }\n",
              "</style>\n",
              "<table border=\"1\" class=\"dataframe\">\n",
              "  <thead>\n",
              "    <tr style=\"text-align: right;\">\n",
              "      <th></th>\n",
              "      <th>gender</th>\n",
              "      <th>age</th>\n",
              "      <th>hypertension</th>\n",
              "      <th>heart_disease</th>\n",
              "      <th>ever_married</th>\n",
              "      <th>Residence_type</th>\n",
              "      <th>avg_glucose_level</th>\n",
              "      <th>bmi</th>\n",
              "      <th>smoking_status_Unknown</th>\n",
              "      <th>smoking_status_formerly smoked</th>\n",
              "      <th>smoking_status_never smoked</th>\n",
              "      <th>smoking_status_smokes</th>\n",
              "      <th>work_type_Govt_job</th>\n",
              "      <th>work_type_Never_worked</th>\n",
              "      <th>work_type_Private</th>\n",
              "      <th>work_type_Self-employed</th>\n",
              "      <th>work_type_children</th>\n",
              "    </tr>\n",
              "  </thead>\n",
              "  <tbody>\n",
              "    <tr>\n",
              "      <th>0</th>\n",
              "      <td>1</td>\n",
              "      <td>67.0</td>\n",
              "      <td>0</td>\n",
              "      <td>1</td>\n",
              "      <td>1</td>\n",
              "      <td>1</td>\n",
              "      <td>228.69</td>\n",
              "      <td>36.600000</td>\n",
              "      <td>0</td>\n",
              "      <td>1</td>\n",
              "      <td>0</td>\n",
              "      <td>0</td>\n",
              "      <td>0</td>\n",
              "      <td>0</td>\n",
              "      <td>1</td>\n",
              "      <td>0</td>\n",
              "      <td>0</td>\n",
              "    </tr>\n",
              "    <tr>\n",
              "      <th>1</th>\n",
              "      <td>0</td>\n",
              "      <td>61.0</td>\n",
              "      <td>0</td>\n",
              "      <td>0</td>\n",
              "      <td>1</td>\n",
              "      <td>0</td>\n",
              "      <td>202.21</td>\n",
              "      <td>28.893237</td>\n",
              "      <td>0</td>\n",
              "      <td>0</td>\n",
              "      <td>1</td>\n",
              "      <td>0</td>\n",
              "      <td>0</td>\n",
              "      <td>0</td>\n",
              "      <td>0</td>\n",
              "      <td>1</td>\n",
              "      <td>0</td>\n",
              "    </tr>\n",
              "    <tr>\n",
              "      <th>2</th>\n",
              "      <td>1</td>\n",
              "      <td>80.0</td>\n",
              "      <td>0</td>\n",
              "      <td>1</td>\n",
              "      <td>1</td>\n",
              "      <td>0</td>\n",
              "      <td>105.92</td>\n",
              "      <td>32.500000</td>\n",
              "      <td>0</td>\n",
              "      <td>0</td>\n",
              "      <td>1</td>\n",
              "      <td>0</td>\n",
              "      <td>0</td>\n",
              "      <td>0</td>\n",
              "      <td>1</td>\n",
              "      <td>0</td>\n",
              "      <td>0</td>\n",
              "    </tr>\n",
              "    <tr>\n",
              "      <th>3</th>\n",
              "      <td>0</td>\n",
              "      <td>49.0</td>\n",
              "      <td>0</td>\n",
              "      <td>0</td>\n",
              "      <td>1</td>\n",
              "      <td>1</td>\n",
              "      <td>171.23</td>\n",
              "      <td>34.400000</td>\n",
              "      <td>0</td>\n",
              "      <td>0</td>\n",
              "      <td>0</td>\n",
              "      <td>1</td>\n",
              "      <td>0</td>\n",
              "      <td>0</td>\n",
              "      <td>1</td>\n",
              "      <td>0</td>\n",
              "      <td>0</td>\n",
              "    </tr>\n",
              "    <tr>\n",
              "      <th>4</th>\n",
              "      <td>0</td>\n",
              "      <td>79.0</td>\n",
              "      <td>1</td>\n",
              "      <td>0</td>\n",
              "      <td>1</td>\n",
              "      <td>0</td>\n",
              "      <td>174.12</td>\n",
              "      <td>24.000000</td>\n",
              "      <td>0</td>\n",
              "      <td>0</td>\n",
              "      <td>1</td>\n",
              "      <td>0</td>\n",
              "      <td>0</td>\n",
              "      <td>0</td>\n",
              "      <td>0</td>\n",
              "      <td>1</td>\n",
              "      <td>0</td>\n",
              "    </tr>\n",
              "    <tr>\n",
              "      <th>...</th>\n",
              "      <td>...</td>\n",
              "      <td>...</td>\n",
              "      <td>...</td>\n",
              "      <td>...</td>\n",
              "      <td>...</td>\n",
              "      <td>...</td>\n",
              "      <td>...</td>\n",
              "      <td>...</td>\n",
              "      <td>...</td>\n",
              "      <td>...</td>\n",
              "      <td>...</td>\n",
              "      <td>...</td>\n",
              "      <td>...</td>\n",
              "      <td>...</td>\n",
              "      <td>...</td>\n",
              "      <td>...</td>\n",
              "      <td>...</td>\n",
              "    </tr>\n",
              "    <tr>\n",
              "      <th>5105</th>\n",
              "      <td>0</td>\n",
              "      <td>80.0</td>\n",
              "      <td>1</td>\n",
              "      <td>0</td>\n",
              "      <td>1</td>\n",
              "      <td>1</td>\n",
              "      <td>83.75</td>\n",
              "      <td>28.893237</td>\n",
              "      <td>0</td>\n",
              "      <td>0</td>\n",
              "      <td>1</td>\n",
              "      <td>0</td>\n",
              "      <td>0</td>\n",
              "      <td>0</td>\n",
              "      <td>1</td>\n",
              "      <td>0</td>\n",
              "      <td>0</td>\n",
              "    </tr>\n",
              "    <tr>\n",
              "      <th>5106</th>\n",
              "      <td>0</td>\n",
              "      <td>81.0</td>\n",
              "      <td>0</td>\n",
              "      <td>0</td>\n",
              "      <td>1</td>\n",
              "      <td>1</td>\n",
              "      <td>125.20</td>\n",
              "      <td>40.000000</td>\n",
              "      <td>0</td>\n",
              "      <td>0</td>\n",
              "      <td>1</td>\n",
              "      <td>0</td>\n",
              "      <td>0</td>\n",
              "      <td>0</td>\n",
              "      <td>0</td>\n",
              "      <td>1</td>\n",
              "      <td>0</td>\n",
              "    </tr>\n",
              "    <tr>\n",
              "      <th>5107</th>\n",
              "      <td>0</td>\n",
              "      <td>35.0</td>\n",
              "      <td>0</td>\n",
              "      <td>0</td>\n",
              "      <td>1</td>\n",
              "      <td>0</td>\n",
              "      <td>82.99</td>\n",
              "      <td>30.600000</td>\n",
              "      <td>0</td>\n",
              "      <td>0</td>\n",
              "      <td>1</td>\n",
              "      <td>0</td>\n",
              "      <td>0</td>\n",
              "      <td>0</td>\n",
              "      <td>0</td>\n",
              "      <td>1</td>\n",
              "      <td>0</td>\n",
              "    </tr>\n",
              "    <tr>\n",
              "      <th>5108</th>\n",
              "      <td>1</td>\n",
              "      <td>51.0</td>\n",
              "      <td>0</td>\n",
              "      <td>0</td>\n",
              "      <td>1</td>\n",
              "      <td>0</td>\n",
              "      <td>166.29</td>\n",
              "      <td>25.600000</td>\n",
              "      <td>0</td>\n",
              "      <td>1</td>\n",
              "      <td>0</td>\n",
              "      <td>0</td>\n",
              "      <td>0</td>\n",
              "      <td>0</td>\n",
              "      <td>1</td>\n",
              "      <td>0</td>\n",
              "      <td>0</td>\n",
              "    </tr>\n",
              "    <tr>\n",
              "      <th>5109</th>\n",
              "      <td>0</td>\n",
              "      <td>44.0</td>\n",
              "      <td>0</td>\n",
              "      <td>0</td>\n",
              "      <td>1</td>\n",
              "      <td>1</td>\n",
              "      <td>85.28</td>\n",
              "      <td>26.200000</td>\n",
              "      <td>1</td>\n",
              "      <td>0</td>\n",
              "      <td>0</td>\n",
              "      <td>0</td>\n",
              "      <td>1</td>\n",
              "      <td>0</td>\n",
              "      <td>0</td>\n",
              "      <td>0</td>\n",
              "      <td>0</td>\n",
              "    </tr>\n",
              "  </tbody>\n",
              "</table>\n",
              "<p>5110 rows × 17 columns</p>\n",
              "</div>"
            ],
            "text/plain": [
              "      gender   age  ...  work_type_Self-employed  work_type_children\n",
              "0          1  67.0  ...                        0                   0\n",
              "1          0  61.0  ...                        1                   0\n",
              "2          1  80.0  ...                        0                   0\n",
              "3          0  49.0  ...                        0                   0\n",
              "4          0  79.0  ...                        1                   0\n",
              "...      ...   ...  ...                      ...                 ...\n",
              "5105       0  80.0  ...                        0                   0\n",
              "5106       0  81.0  ...                        1                   0\n",
              "5107       0  35.0  ...                        1                   0\n",
              "5108       1  51.0  ...                        0                   0\n",
              "5109       0  44.0  ...                        0                   0\n",
              "\n",
              "[5110 rows x 17 columns]"
            ]
          },
          "metadata": {},
          "execution_count": 99
        }
      ]
    },
    {
      "cell_type": "markdown",
      "metadata": {
        "id": "Z1EaB5rRYsZv"
      },
      "source": [
        "## Tạo tập train và test"
      ]
    },
    {
      "cell_type": "code",
      "metadata": {
        "id": "ORqQ-JpxODbt"
      },
      "source": [
        "x_train=data[0:]# tập train là 4000 mẫu đầu\n",
        "#x_test=data[4000:]# số mẫu sau là tập test\n",
        "y_train=labels.values# lấy label 4000 mẫu đầu"
      ],
      "execution_count": null,
      "outputs": []
    },
    {
      "cell_type": "code",
      "source": [
        "y_train"
      ],
      "metadata": {
        "colab": {
          "base_uri": "https://localhost:8080/"
        },
        "id": "UEFx_ErC7IpV",
        "outputId": "769c1ddb-6c50-4c11-83ca-e23374e2ba76"
      },
      "execution_count": null,
      "outputs": [
        {
          "output_type": "execute_result",
          "data": {
            "text/plain": [
              "array([1, 1, 1, ..., 0, 0, 0])"
            ]
          },
          "metadata": {},
          "execution_count": 65
        }
      ]
    },
    {
      "cell_type": "code",
      "source": [
        "X_new = SelectKBest(chi2, k=20).fit_transform(X, y)t"
      ],
      "metadata": {
        "id": "X8lZw8K27OPH"
      },
      "execution_count": null,
      "outputs": []
    },
    {
      "cell_type": "code",
      "source": [
        "from sklearn.feature_selection import SelectKBest, chi2\n",
        "x_train=SelectKBest(chi2,k=15).fit_transform(x_train,y_train)"
      ],
      "metadata": {
        "id": "4CW4FKFC61Il"
      },
      "execution_count": null,
      "outputs": []
    },
    {
      "cell_type": "code",
      "source": [
        "labels"
      ],
      "metadata": {
        "colab": {
          "base_uri": "https://localhost:8080/"
        },
        "id": "qVyAVPMVEq8n",
        "outputId": "e065d5fe-b2d1-46a7-b4de-614d857b2baa"
      },
      "execution_count": null,
      "outputs": [
        {
          "output_type": "execute_result",
          "data": {
            "text/plain": [
              "Int64Index([0, 1], dtype='int64')"
            ]
          },
          "metadata": {},
          "execution_count": 39
        }
      ]
    },
    {
      "cell_type": "code",
      "metadata": {
        "colab": {
          "base_uri": "https://localhost:8080/"
        },
        "id": "pvrzuGhQi0Sj",
        "outputId": "fe974fa8-87db-44a1-a51d-833d895de938"
      },
      "source": [
        "x_train.shape"
      ],
      "execution_count": null,
      "outputs": [
        {
          "output_type": "execute_result",
          "data": {
            "text/plain": [
              "(5610, 22)"
            ]
          },
          "metadata": {},
          "execution_count": 156
        }
      ]
    },
    {
      "cell_type": "code",
      "metadata": {
        "colab": {
          "base_uri": "https://localhost:8080/"
        },
        "id": "4eip_gc3mqHF",
        "outputId": "d79f1e99-c930-4875-e1d6-c06b675c4cdb"
      },
      "source": [
        "labels.shape"
      ],
      "execution_count": null,
      "outputs": [
        {
          "output_type": "execute_result",
          "data": {
            "text/plain": [
              "(5110,)"
            ]
          },
          "metadata": {},
          "execution_count": 87
        }
      ]
    },
    {
      "cell_type": "markdown",
      "metadata": {
        "id": "XfOa6eKhXGHC"
      },
      "source": [
        "## Import thư viện máy học cho training"
      ]
    },
    {
      "cell_type": "code",
      "metadata": {
        "id": "nbOs7CbCX7gT"
      },
      "source": [
        "from sklearn.model_selection import train_test_split\n",
        "from sklearn.svm import SVC\n",
        "from sklearn import metrics\n",
        "from sklearn.metrics import accuracy_score, f1_score\n",
        "from sklearn.linear_model import LogisticRegression\n",
        "from sklearn.model_selection import GridSearchCV\n",
        "from sklearn.metrics import confusion_matrix\n",
        "from sklearn.tree import DecisionTreeClassifier\n",
        "from sklearn import svm\n",
        "# Oversample with SMOTE and random undersample for imbalanced dataset\n",
        "from collections import Counter\n",
        "from sklearn.datasets import make_classification\n",
        "from imblearn.over_sampling import SMOTE\n",
        "from imblearn.under_sampling import RandomUnderSampler\n",
        "from imblearn.pipeline import Pipeline\n",
        "from matplotlib import pyplot\n",
        "from numpy import where\n",
        "from imblearn.combine import SMOTEENN\n",
        "# Oversample with SMOTE and random undersample for imbalanced dataset"
      ],
      "execution_count": null,
      "outputs": []
    },
    {
      "cell_type": "code",
      "metadata": {
        "id": "EkE-s50f3HB5",
        "colab": {
          "base_uri": "https://localhost:8080/"
        },
        "outputId": "810c999f-0c68-415d-a9dc-c1bbbb8f6ac0"
      },
      "source": [
        "smote =  SMOTEENN(random_state=42)\n",
        "X_resample, y_resample = smote.fit_resample(x_train, y_train.ravel())\n",
        "print('Shape of Training features: {}'.format(X_resample.shape))\n",
        "print('Shape of Training targets: {}'.format(y_resample.shape))\n",
        "# print('Shape of Testing features: {}'.format(x_test.shape))"
      ],
      "execution_count": null,
      "outputs": [
        {
          "output_type": "stream",
          "name": "stdout",
          "text": [
            "Shape of Training features: (8247, 17)\n",
            "Shape of Training targets: (8247,)\n"
          ]
        }
      ]
    },
    {
      "cell_type": "code",
      "source": [
        "y_resample"
      ],
      "metadata": {
        "colab": {
          "base_uri": "https://localhost:8080/"
        },
        "id": "YmKx_HP6IIbY",
        "outputId": "5aa6de86-9e0d-418e-e50d-72c46b01a085"
      },
      "execution_count": null,
      "outputs": [
        {
          "output_type": "execute_result",
          "data": {
            "text/plain": [
              "array([1, 1, 1, ..., 1, 1, 1])"
            ]
          },
          "metadata": {},
          "execution_count": 104
        }
      ]
    },
    {
      "cell_type": "markdown",
      "metadata": {
        "id": "YVQoLz99Zoyv"
      },
      "source": [
        "## Thử nghiệm kết quả với nhìu Model khác nhau (một model nên chạy nhìu lần để có kết quả tốt nhất)"
      ]
    },
    {
      "cell_type": "code",
      "metadata": {
        "id": "BeFqexRid1Tu"
      },
      "source": [
        "from sklearn.model_selection import train_test_split\n",
        "X_train, X_test, Y_train, Y_test = train_test_split(X_resample,y_resample, test_size = 0.3, shuffle = True, random_state = 2021)"
      ],
      "execution_count": null,
      "outputs": []
    },
    {
      "cell_type": "code",
      "metadata": {
        "id": "0aHJTC1_ihMV"
      },
      "source": [
        "# scaler = StandardScaler()\n",
        "# X_train = scaler.fit_transform(X_train)\n",
        "# # x_test = scaler.transform(x_test)\n",
        "# X_valid=scaler.transform(X_valid)"
      ],
      "execution_count": null,
      "outputs": []
    },
    {
      "cell_type": "markdown",
      "metadata": {
        "id": "-CzLd8XZaHAQ"
      },
      "source": [
        "### Logistic Regression "
      ]
    },
    {
      "cell_type": "code",
      "metadata": {
        "colab": {
          "base_uri": "https://localhost:8080/"
        },
        "id": "XITds0NFXDpj",
        "outputId": "ff3cc7e6-66ca-444b-a798-d3ffd1d51641"
      },
      "source": [
        "\n",
        "#Train với tập train gốc\n",
        "model=LogisticRegression()\n",
        "model.fit(X_train,Y_train)\n",
        "# score = model.score(x_test, y_test)\n",
        "y_pred=model.predict(X_test)\n",
        "score_f1=f1_score(Y_test,y_pred)\n",
        "score = model.score(X_test, Y_test)\n",
        "print(f'F1 score: {score_f1}'),\n",
        "print(f'Accuracy: {score}')\n",
        "print(y_pred)\n",
        "# y_pred_public_test=model.predict(x_test)\n",
        "# print(f\"Kết quả tập public test: {y_pred_public_test}\")\n",
        "# y_pred_public_test.shape"
      ],
      "execution_count": null,
      "outputs": [
        {
          "output_type": "stream",
          "name": "stdout",
          "text": [
            "F1 score: 0.9425872093023255\n",
            "Accuracy: 0.9361616161616162\n",
            "[1 0 0 ... 1 1 0]\n"
          ]
        }
      ]
    },
    {
      "cell_type": "code",
      "source": [
        "\n",
        "#Train với tập train gốc\n",
        "model=LogisticRegression()\n",
        "model.fit(X_train,Y_train)\n",
        "# score = model.score(x_test, y_test)\n",
        "y_pred=model.predict(X_test)\n",
        "score_f1=f1_score(Y_test,y_pred)\n",
        "score = model.score(X_test, Y_test)\n",
        "print(f'F1 score: {score_f1}'),\n",
        "print(f'Accuracy: {score}')\n",
        "print(y_pred)\n",
        "# y_pred_public_test=model.predict(x_test)\n",
        "# print(f\"Kết quả tập public test: {y_pred_public_test}\")\n",
        "# y_pred_public_test.shape"
      ],
      "metadata": {
        "colab": {
          "base_uri": "https://localhost:8080/"
        },
        "id": "JmcLzEMt7x8i",
        "outputId": "7a0be82f-1398-484a-f322-500721aa1107"
      },
      "execution_count": null,
      "outputs": [
        {
          "output_type": "stream",
          "name": "stdout",
          "text": [
            "F1 score: 0.8754373687893632\n",
            "Accuracy: 0.8558120696638315\n",
            "[1 0 0 ... 1 1 1]\n"
          ]
        }
      ]
    },
    {
      "cell_type": "code",
      "metadata": {
        "id": "wqbsreDuw43J"
      },
      "source": [
        "from sklearn.model_selection import RepeatedStratifiedKFold"
      ],
      "execution_count": null,
      "outputs": []
    },
    {
      "cell_type": "markdown",
      "metadata": {
        "id": "yvgjNPbQfRyl"
      },
      "source": [
        "### Random Forest"
      ]
    },
    {
      "cell_type": "code",
      "metadata": {
        "colab": {
          "base_uri": "https://localhost:8080/"
        },
        "id": "dQ3dfH9mfQsk",
        "outputId": "0018b576-3ede-4c9e-efaa-2c1a04ae4ef9"
      },
      "source": [
        "#Train với tập train gốc\n",
        "model=RandomForestClassifier(random_state = 42)\n",
        "model.fit(X_train,Y_train)\n",
        "# score = model.score(x_test, y_test)\n",
        "y_pred=model.predict(X_test)\n",
        "score_f1=f1_score(Y_test,y_pred)\n",
        "score = model.score(X_test, Y_test)\n",
        "print(f'F1 score: {score_f1}'),\n",
        "print(f'Accuracy: {score}')\n",
        "print(y_pred)\n",
        "# cv = RepeatedStratifiedKFold(n_splits=10, n_repeats=3, random_state=1)\n",
        "# scores = cross_val_score(model, X_test, Y_test, scoring='roc_auc', cv=cv, n_jobs=-1)\n",
        "#print(scores)\n",
        "# y_pred_public_test=model.predict(x_test)\n",
        "# print(f\"Kết quả tập public test: {y_pred_public_test}\")\n",
        "# y_pred_public_test.shape"
      ],
      "execution_count": null,
      "outputs": [
        {
          "output_type": "stream",
          "name": "stdout",
          "text": [
            "F1 score: 0.9733812949640289\n",
            "Accuracy: 0.9701010101010101\n",
            "[0 0 0 ... 1 1 0]\n"
          ]
        }
      ]
    },
    {
      "cell_type": "code",
      "source": [
        "#Train với tập train gốc\n",
        "model=RandomForestClassifier(random_state = 42)\n",
        "model.fit(X_train,Y_train)\n",
        "# score = model.score(x_test, y_test)\n",
        "y_pred=model.predict(X_test)\n",
        "score_f1=f1_score(Y_test,y_pred)\n",
        "score = model.score(X_test, Y_test)\n",
        "print(f'F1 score: {score_f1}'),\n",
        "print(f'Accuracy: {score}')\n",
        "print(y_pred)\n",
        "# cv = RepeatedStratifiedKFold(n_splits=10, n_repeats=3, random_state=1)\n",
        "# scores = cross_val_score(model, X_test, Y_test, scoring='roc_auc', cv=cv, n_jobs=-1)\n",
        "#print(scores)\n",
        "# y_pred_public_test=model.predict(x_test)\n",
        "# print(f\"Kết quả tập public test: {y_pred_public_test}\")\n",
        "# y_pred_public_test.shape"
      ],
      "metadata": {
        "colab": {
          "base_uri": "https://localhost:8080/"
        },
        "id": "_L4PjMYz71tu",
        "outputId": "739831c0-b63c-4163-f126-0ecfa2ca201d"
      },
      "execution_count": null,
      "outputs": [
        {
          "output_type": "stream",
          "name": "stdout",
          "text": [
            "F1 score: 0.9727371864776445\n",
            "Accuracy: 0.9696233292831106\n",
            "[0 0 0 ... 1 1 1]\n"
          ]
        }
      ]
    },
    {
      "cell_type": "code",
      "source": [
        "Y_test"
      ],
      "metadata": {
        "colab": {
          "base_uri": "https://localhost:8080/"
        },
        "id": "sADa4RRyH6b6",
        "outputId": "aaa9f646-2215-49b3-956c-19634b5eff23"
      },
      "execution_count": null,
      "outputs": [
        {
          "output_type": "execute_result",
          "data": {
            "text/plain": [
              "array([0, 1, 1, ..., 1, 0, 1])"
            ]
          },
          "metadata": {},
          "execution_count": 97
        }
      ]
    },
    {
      "cell_type": "code",
      "source": [
        "print(sum(y_pred))"
      ],
      "metadata": {
        "colab": {
          "base_uri": "https://localhost:8080/"
        },
        "id": "oS1Le-oSH00w",
        "outputId": "795a8207-0232-480a-e360-6d655ce78c2a"
      },
      "execution_count": null,
      "outputs": [
        {
          "output_type": "stream",
          "name": "stdout",
          "text": [
            "2236\n"
          ]
        }
      ]
    },
    {
      "cell_type": "code",
      "metadata": {
        "colab": {
          "base_uri": "https://localhost:8080/"
        },
        "id": "Dkl6r_zbTNtW",
        "outputId": "759a9562-f5cd-42cd-a300-f4bd224ce13d"
      },
      "source": [
        "X_train.shape"
      ],
      "execution_count": null,
      "outputs": [
        {
          "output_type": "execute_result",
          "data": {
            "text/plain": [
              "(8218, 24)"
            ]
          },
          "metadata": {
            "tags": []
          },
          "execution_count": 63
        }
      ]
    },
    {
      "cell_type": "code",
      "metadata": {
        "colab": {
          "base_uri": "https://localhost:8080/"
        },
        "id": "5s7U2o0nPcr_",
        "outputId": "b0121be7-af0d-48ae-a76f-b7f3b1a355e2"
      },
      "source": [
        "model=SVC(kernel='linear')\n",
        "model.fit(X_train,Y_train)\n",
        "# score = model.score(x_test, y_test)\n",
        "y_pred=model.predict(X_test)\n",
        "score_f1=f1_score(Y_test,y_pred)\n",
        "score = model.score(X_test, Y_test)\n",
        "print(f'F1 score: {score_f1}'),\n",
        "print(f'Accuracy: {score}')\n",
        "# y_pred_public_test=model.predict(x_test)\n",
        "# print(f\"Kết quả tập public test: {y_pred_public_test}\")\n",
        "# y_pred_public_test.shape"
      ],
      "execution_count": null,
      "outputs": [
        {
          "output_type": "stream",
          "name": "stdout",
          "text": [
            "F1 score: 0.9438366156090445\n",
            "Accuracy: 0.9377777777777778\n"
          ]
        }
      ]
    },
    {
      "cell_type": "code",
      "source": [
        "model=SVC(kernel='linear')\n",
        "model.fit(X_train,Y_train)\n",
        "# score = model.score(x_test, y_test)\n",
        "y_pred=model.predict(X_test)\n",
        "score_f1=f1_score(Y_test,y_pred)\n",
        "score = model.score(X_test, Y_test)\n",
        "print(f'F1 score: {score_f1}'),\n",
        "print(f'Accuracy: {score}')\n",
        "# y_pred_public_test=model.predict(x_test)\n",
        "# print(f\"Kết quả tập public test: {y_pred_public_test}\")\n",
        "# y_pred_public_test.shape"
      ],
      "metadata": {
        "colab": {
          "base_uri": "https://localhost:8080/"
        },
        "id": "bCdLE2LW75vZ",
        "outputId": "88549a30-7055-4abd-c0dd-dfd35edcdad8"
      },
      "execution_count": null,
      "outputs": [
        {
          "output_type": "stream",
          "name": "stdout",
          "text": [
            "F1 score: 0.8763102725366876\n",
            "Accuracy: 0.8566221142162819\n"
          ]
        }
      ]
    },
    {
      "cell_type": "markdown",
      "metadata": {
        "id": "sTCffABSgJqt"
      },
      "source": [
        "### Decision Tree"
      ]
    },
    {
      "cell_type": "code",
      "metadata": {
        "colab": {
          "base_uri": "https://localhost:8080/"
        },
        "id": "HdN4TN7wkWM0",
        "outputId": "778b923b-94ca-46e9-dbe4-cd7cf5788fab"
      },
      "source": [
        "model=DecisionTreeClassifier(random_state = 2021)\n",
        "\n",
        "model.fit(X_train,Y_train)\n",
        "# score = model.score(x_test, y_test)\n",
        "y_pred=model.predict(X_test)\n",
        "score_f1=f1_score(Y_test,y_pred)\n",
        "score = model.score(X_test, Y_test)\n",
        "print(f'F1 score: {score_f1}'),\n",
        "print(f'Accuracy: {score}')\n",
        "# y_pred_public_test=model.predict(x_test)\n",
        "# cv = RepeatedStratifiedKFold(n_splits=10, n_repeats=3, random_state=1)\n",
        "# scores = cross_val_score(model, X_test, Y_test, scoring='roc_auc', cv=cv, n_jobs=-1)\n",
        "# # print(scores)\n",
        "# # print(f\"Kết quả tập public test: {y_pred_public_test}\")\n",
        "# # y_pred_public_test.shape"
      ],
      "execution_count": null,
      "outputs": [
        {
          "output_type": "stream",
          "name": "stdout",
          "text": [
            "F1 score: 0.9597989949748744\n",
            "Accuracy: 0.9547474747474748\n"
          ]
        }
      ]
    },
    {
      "cell_type": "code",
      "source": [
        "model=DecisionTreeClassifier(random_state = 2021)\n",
        "\n",
        "model.fit(X_train,Y_train)\n",
        "# score = model.score(x_test, y_test)\n",
        "y_pred=model.predict(X_test)\n",
        "score_f1=f1_score(Y_test,y_pred)\n",
        "score = model.score(X_test, Y_test)\n",
        "print(f'F1 score: {score_f1}'),\n",
        "print(f'Accuracy: {score}')"
      ],
      "metadata": {
        "colab": {
          "base_uri": "https://localhost:8080/"
        },
        "id": "UcXTDA468USk",
        "outputId": "23f50545-757a-4af5-8c46-2d2b51f50efc"
      },
      "execution_count": null,
      "outputs": [
        {
          "output_type": "stream",
          "name": "stdout",
          "text": [
            "F1 score: 0.9501613481534601\n",
            "Accuracy: 0.9437019036046983\n"
          ]
        }
      ]
    },
    {
      "cell_type": "markdown",
      "metadata": {
        "id": "RjGs_ObogdK9"
      },
      "source": [
        "### SVM RBF"
      ]
    },
    {
      "cell_type": "code",
      "metadata": {
        "colab": {
          "base_uri": "https://localhost:8080/"
        },
        "id": "PFnfupWKhc1t",
        "outputId": "e8389322-beb0-4783-f908-792413ea7926"
      },
      "source": [
        "model=SVC(kernel='rbf',random_state=42)\n",
        "model.fit(X_train,Y_train)\n",
        "# score = model.score(x_test, y_test)\n",
        "y_pred=model.predict(X_test)\n",
        "score_f1=f1_score(Y_test,y_pred)\n",
        "score = model.score(X_test, Y_test)\n",
        "print(f'F1 score: {score_f1}'),\n",
        "print(f'Accuracy: {score}')\n",
        "# y_pred_public_test=model.predict(x_test)\n",
        "# cv = RepeatedStratifiedKFold(n_splits=10, n_repeats=3, random_state=1)\n",
        "# scores = cross_val_score(model, X_test, Y_test, scoring='roc_auc', cv=cv, n_jobs=-1)\n",
        "# print(scores)\n",
        "# print(f\"Kết quả tập public test: {y_pred_public_test}\")\n",
        "# y_pred_public_test.shape"
      ],
      "execution_count": null,
      "outputs": [
        {
          "output_type": "stream",
          "name": "stdout",
          "text": [
            "F1 score: 0.8700842696629214\n",
            "Accuracy: 0.8505050505050505\n"
          ]
        }
      ]
    },
    {
      "cell_type": "code",
      "source": [
        "model=SVC(C=10,gamma=0.1,kernel='rbf',random_state=42)\n",
        "model.fit(X_train,Y_train)\n",
        "# score = model.score(x_test, y_test)\n",
        "y_pred=model.predict(X_test)\n",
        "score_f1=f1_score(Y_test,y_pred)\n",
        "score = model.score(X_test, Y_test)\n",
        "print(f'F1 score: {score_f1}'),\n",
        "print(f'Accuracy: {score}')\n",
        "# y_pred_public_test=model.predict(x_test)\n",
        "# cv = RepeatedStratifiedKFold(n_splits=10, n_repeats=3, random_state=1)\n",
        "# scores = cross_val_score(model, X_test, Y_test, scoring='roc_auc', cv=cv, n_jobs=-1)\n",
        "# print(scores)\n",
        "# print(f\"Kết quả tập public test: {y_pred_public_test}\")\n",
        "# y_pred_public_test.shape"
      ],
      "metadata": {
        "colab": {
          "base_uri": "https://localhost:8080/"
        },
        "id": "DuTyJHqQqWtm",
        "outputId": "163f674e-b881-4923-939b-a0786c7a975c"
      },
      "execution_count": null,
      "outputs": [
        {
          "output_type": "stream",
          "name": "stdout",
          "text": [
            "F1 score: 0.9956772334293948\n",
            "Accuracy: 0.9951397326852977\n"
          ]
        }
      ]
    },
    {
      "cell_type": "code",
      "source": [
        "model=SVC(kernel='rbf',random_state=42)\n",
        "model.fit(X_train,Y_train)\n",
        "# score = model.score(x_test, y_test)\n",
        "y_pred=model.predict(X_test)\n",
        "score_f1=f1_score(Y_test,y_pred)\n",
        "score = model.score(X_test, Y_test)\n",
        "print(f'F1 score: {score_f1}'),\n",
        "print(f'Accuracy: {score}')\n",
        "# y_pred_public_test=model.predict(x_test)\n",
        "# cv = RepeatedStratifiedKFold(n_splits=10, n_repeats=3, random_state=1)\n",
        "# scores = cross_val_score(model, X_test, Y_test, scoring='roc_auc', cv=cv, n_jobs=-1)\n",
        "# print(scores)\n",
        "# print(f\"Kết quả tập public test: {y_pred_public_test}\")\n",
        "# y_pred_public_test.shape"
      ],
      "metadata": {
        "colab": {
          "base_uri": "https://localhost:8080/"
        },
        "id": "h4ssrphD8Y0Z",
        "outputId": "7e7c4de5-7165-4692-a262-a3eeb50b1c89"
      },
      "execution_count": null,
      "outputs": [
        {
          "output_type": "stream",
          "name": "stdout",
          "text": [
            "F1 score: 0.8722741433021807\n",
            "Accuracy: 0.850546780072904\n"
          ]
        }
      ]
    },
    {
      "cell_type": "markdown",
      "metadata": {
        "id": "uGT58_I2Qh28"
      },
      "source": [
        "### AdaBoost"
      ]
    },
    {
      "cell_type": "code",
      "metadata": {
        "colab": {
          "base_uri": "https://localhost:8080/"
        },
        "id": "3VI0-dyZAhQU",
        "outputId": "fc27cc44-3b22-4026-94d2-b5657a40005a"
      },
      "source": [
        "\n",
        "# AdaBoost\n",
        "model=AdaBoostClassifier(base_estimator=DecisionTreeClassifier(), n_estimators=100, learning_rate=0.01, random_state=100)\n",
        "model.fit(X_train,Y_train)\n",
        "# score = model.score(x_test, y_test)\n",
        "y_pred=model.predict(X_test)\n",
        "score_f1=f1_score(Y_test,y_pred)\n",
        "score = model.score(X_test, Y_test)\n",
        "print(f'F1 score: {score_f1}'),\n",
        "print(f'Accuracy: {score}')\n",
        "# y_pred_public_test=model.predict(x_test)\n",
        "# print(f\"Kết quả tập public test: {y_pred_public_test}\")\n",
        "# y_pred_public_test.shape"
      ],
      "execution_count": null,
      "outputs": [
        {
          "output_type": "stream",
          "name": "stdout",
          "text": [
            "F1 score: 0.9600575746671466\n",
            "Accuracy: 0.9551515151515152\n"
          ]
        }
      ]
    },
    {
      "cell_type": "code",
      "source": [
        "\n",
        "# AdaBoost\n",
        "model=AdaBoostClassifier(base_estimator=DecisionTreeClassifier(), n_estimators=100, learning_rate=0.01, random_state=100)\n",
        "model.fit(X_train,Y_train)\n",
        "# score = model.score(x_test, y_test)\n",
        "y_pred=model.predict(X_test)\n",
        "score_f1=f1_score(Y_test,y_pred)\n",
        "score = model.score(X_test, Y_test)\n",
        "print(f'F1 score: {score_f1}'),\n",
        "print(f'Accuracy: {score}')\n",
        "# y_pred_public_test=model.predict(x_test)\n",
        "# print(f\"Kết quả tập public test: {y_pred_public_test}\")\n",
        "# y_pred_public_test.shape"
      ],
      "metadata": {
        "colab": {
          "base_uri": "https://localhost:8080/"
        },
        "id": "2pjoVjM28bxF",
        "outputId": "7f74f910-d71e-4caa-8086-83ba90976b14"
      },
      "execution_count": null,
      "outputs": [
        {
          "output_type": "stream",
          "name": "stdout",
          "text": [
            "F1 score: 0.9492623245771861\n",
            "Accuracy: 0.9428918590522479\n"
          ]
        }
      ]
    },
    {
      "cell_type": "markdown",
      "metadata": {
        "id": "dZhS6kd4Qlsl"
      },
      "source": [
        "### Grandient Booting "
      ]
    },
    {
      "cell_type": "code",
      "metadata": {
        "colab": {
          "base_uri": "https://localhost:8080/"
        },
        "id": "oUWQJRA6QEDD",
        "outputId": "b2ebac6e-1a50-4438-8a53-bf787b6d04a9"
      },
      "source": [
        "model = GradientBoostingClassifier(random_state=42)\n",
        "model.fit(X_train,Y_train)\n",
        "# score = model.score(x_test, y_test)\n",
        "y_pred=model.predict(X_test)\n",
        "score_f1=f1_score(Y_test,y_pred)\n",
        "score = model.score(X_test, Y_test)\n",
        "print(f'F1 score: {score_f1}'),\n",
        "print(f'Accuracy: {score}')\n",
        "# y_pred_public_test=model.predict(x_test)\n",
        "# print(f\"Kết quả tập public test: {y_pred_public_test}\")\n",
        "# y_pred_public_test.shape"
      ],
      "execution_count": null,
      "outputs": [
        {
          "output_type": "stream",
          "name": "stdout",
          "text": [
            "F1 score: 0.9597122302158274\n",
            "Accuracy: 0.9547474747474748\n"
          ]
        }
      ]
    },
    {
      "cell_type": "markdown",
      "metadata": {
        "id": "ZqXg-Hr_tKuz"
      },
      "source": [
        "### XGB"
      ]
    },
    {
      "cell_type": "code",
      "metadata": {
        "colab": {
          "base_uri": "https://localhost:8080/"
        },
        "id": "-RRVYCD2tMmH",
        "outputId": "ae10877c-49d7-4e54-f316-26162f3700d4"
      },
      "source": [
        "import xgboost as xgb\n",
        "model = xgb.XGBClassifier()\n",
        "model.fit(X_train,Y_train)\n",
        "# score = model.score(x_test, y_test)\n",
        "y_pred=model.predict(X_test)\n",
        "score_f1=f1_score(Y_test,y_pred)\n",
        "score = model.score(X_test, Y_test)\n",
        "print(f'F1 score: {score_f1}')\n",
        "print(f'Accuracy: {score}')\n",
        "# y_pred_public_test=model.predict(x_test)\n",
        "# print(f\"Kết quả tập public test: {y_pred_public_test}\")\n",
        "# y_pred_public_test.shape"
      ],
      "execution_count": null,
      "outputs": [
        {
          "output_type": "stream",
          "name": "stdout",
          "text": [
            "F1 score: 0.9608336327703916\n",
            "Accuracy: 0.955959595959596\n"
          ]
        }
      ]
    },
    {
      "cell_type": "code",
      "source": [
        "import xgboost as xgb\n",
        "model = xgb.XGBClassifier()\n",
        "model.fit(X_train,Y_train)\n",
        "# score = model.score(x_test, y_test)\n",
        "y_pred=model.predict(X_test)\n",
        "score_f1=f1_score(Y_test,y_pred)\n",
        "score = model.score(X_test, Y_test)\n",
        "print(f'F1 score: {score_f1}')\n",
        "print(f'Accuracy: {score}')\n",
        "# y_pred_public_test=model.predict(x_test)\n",
        "# print(f\"Kết quả tập public test: {y_pred_public_test}\")\n",
        "# y_pred_public_test.shape"
      ],
      "metadata": {
        "colab": {
          "base_uri": "https://localhost:8080/"
        },
        "id": "txmr6Y4Y8eub",
        "outputId": "1cb28e3a-9543-4e65-d1cb-57f9b6d03553"
      },
      "execution_count": null,
      "outputs": [
        {
          "output_type": "stream",
          "name": "stdout",
          "text": [
            "F1 score: 0.9705775517617145\n",
            "Accuracy: 0.9671931956257594\n"
          ]
        }
      ]
    },
    {
      "cell_type": "markdown",
      "metadata": {
        "id": "VYMwEUzUQ2KI"
      },
      "source": [
        "### MLPClassifier"
      ]
    },
    {
      "cell_type": "code",
      "metadata": {
        "id": "eZYD4ChARH7r"
      },
      "source": [
        "from sklearn.neural_network import MLPClassifier"
      ],
      "execution_count": null,
      "outputs": []
    },
    {
      "cell_type": "code",
      "metadata": {
        "colab": {
          "base_uri": "https://localhost:8080/"
        },
        "id": "JhI6UbfNQ0f5",
        "outputId": "41489227-6a06-4ae2-957d-7bcaea52dc9e"
      },
      "source": [
        "# mlp = MLPClassifier(hidden_layer_sizes=(1000,300, 300, 300), solver='adam', shuffle=False, tol = 0.0001)\n",
        "model=MLPClassifier(hidden_layer_sizes=(300,300,300), max_iter=1000, alpha=0.00001,\n",
        "                     solver='adam', verbose=10,  random_state=42)\n",
        "model.fit(X_train,Y_train)\n",
        "# score = model.score(x_test, y_test)\n",
        "y_pred=model.predict(X_test)\n",
        "score_f1=f1_score(Y_test,y_pred)\n",
        "score = model.score(X_test, Y_test)\n",
        "print(f'F1 score: {score_f1}'),\n",
        "print(f'Accuracy: {score}')\n",
        "# y_pred_public_test=model.predict(x_test)\n",
        "# print(f\"Kết quả tập public test: {y_pred_public_test}\")\n",
        "# y_pred_public_test.shape"
      ],
      "execution_count": null,
      "outputs": [
        {
          "output_type": "stream",
          "name": "stdout",
          "text": [
            "Iteration 1, loss = 1.37598163\n",
            "Iteration 2, loss = 0.38568014\n",
            "Iteration 3, loss = 0.36470540\n",
            "Iteration 4, loss = 0.34988283\n",
            "Iteration 5, loss = 0.34597747\n",
            "Iteration 6, loss = 0.31904281\n",
            "Iteration 7, loss = 0.30973483\n",
            "Iteration 8, loss = 0.25542944\n",
            "Iteration 9, loss = 0.22097554\n",
            "Iteration 10, loss = 0.21944595\n",
            "Iteration 11, loss = 0.21803232\n",
            "Iteration 12, loss = 0.18741653\n",
            "Iteration 13, loss = 0.16380608\n",
            "Iteration 14, loss = 0.16326439\n",
            "Iteration 15, loss = 0.14652754\n",
            "Iteration 16, loss = 0.14766304\n",
            "Iteration 17, loss = 0.14581491\n",
            "Iteration 18, loss = 0.16646416\n",
            "Iteration 19, loss = 0.13302162\n",
            "Iteration 20, loss = 0.14618894\n",
            "Iteration 21, loss = 0.18312083\n",
            "Iteration 22, loss = 0.14375830\n",
            "Iteration 23, loss = 0.15794757\n",
            "Iteration 24, loss = 0.19142742\n",
            "Iteration 25, loss = 0.20226789\n",
            "Iteration 26, loss = 0.15242907\n",
            "Iteration 27, loss = 0.14043981\n",
            "Iteration 28, loss = 0.13246110\n",
            "Iteration 29, loss = 0.12974338\n",
            "Iteration 30, loss = 0.13350067\n",
            "Iteration 31, loss = 0.12285191\n",
            "Iteration 32, loss = 0.13307479\n",
            "Iteration 33, loss = 0.12689884\n",
            "Iteration 34, loss = 0.12882767\n",
            "Iteration 35, loss = 0.13994035\n",
            "Iteration 36, loss = 0.13110800\n",
            "Iteration 37, loss = 0.12515802\n",
            "Iteration 38, loss = 0.14468359\n",
            "Iteration 39, loss = 0.12404066\n",
            "Iteration 40, loss = 0.13721389\n",
            "Iteration 41, loss = 0.14500441\n",
            "Iteration 42, loss = 0.12891069\n",
            "Training loss did not improve more than tol=0.000100 for 10 consecutive epochs. Stopping.\n",
            "F1 score: 0.9583484244838826\n",
            "Accuracy: 0.9535353535353536\n"
          ]
        }
      ]
    },
    {
      "cell_type": "code",
      "source": [
        "# mlp = MLPClassifier(hidden_layer_sizes=(1000,300, 300, 300), solver='adam', shuffle=False, tol = 0.0001)\n",
        "model=MLPClassifier(hidden_layer_sizes=(300,300,300), max_iter=1000, alpha=0.00001,\n",
        "                     solver='adam', verbose=10,  random_state=42)\n",
        "model.fit(X_train,Y_train)\n",
        "# score = model.score(x_test, y_test)\n",
        "y_pred=model.predict(X_test)\n",
        "score_f1=f1_score(Y_test,y_pred)\n",
        "score = model.score(X_test, Y_test)\n",
        "print(f'F1 score: {score_f1}'),\n",
        "print(f'Accuracy: {score}')\n",
        "# y_pred_public_test=model.predict(x_test)\n",
        "# print(f\"Kết quả tập public test: {y_pred_public_test}\")\n",
        "# y_pred_public_test.shape"
      ],
      "metadata": {
        "colab": {
          "base_uri": "https://localhost:8080/"
        },
        "id": "B1CdoEbC8htJ",
        "outputId": "4961fa9b-96b4-4f72-b37e-d1d33f729949"
      },
      "execution_count": null,
      "outputs": [
        {
          "output_type": "stream",
          "name": "stdout",
          "text": [
            "Iteration 1, loss = 1.34603244\n",
            "Iteration 2, loss = 0.42069674\n",
            "Iteration 3, loss = 0.39401269\n",
            "Iteration 4, loss = 0.39109644\n",
            "Iteration 5, loss = 0.38453432\n",
            "Iteration 6, loss = 0.39000575\n",
            "Iteration 7, loss = 0.38653488\n",
            "Iteration 8, loss = 0.37383098\n",
            "Iteration 9, loss = 0.37533030\n",
            "Iteration 10, loss = 0.37959903\n",
            "Iteration 11, loss = 0.37251582\n",
            "Iteration 12, loss = 0.35616259\n",
            "Iteration 13, loss = 0.35861291\n",
            "Iteration 14, loss = 0.35828518\n",
            "Iteration 15, loss = 0.34941938\n",
            "Iteration 16, loss = 0.35291866\n",
            "Iteration 17, loss = 0.36348303\n",
            "Iteration 18, loss = 0.34754592\n",
            "Iteration 19, loss = 0.34141022\n",
            "Iteration 20, loss = 0.33289801\n",
            "Iteration 21, loss = 0.32283612\n",
            "Iteration 22, loss = 0.32286509\n",
            "Iteration 23, loss = 0.32855114\n",
            "Iteration 24, loss = 0.31932652\n",
            "Iteration 25, loss = 0.31814390\n",
            "Iteration 26, loss = 0.33088242\n",
            "Iteration 27, loss = 0.31848956\n",
            "Iteration 28, loss = 0.31082182\n",
            "Iteration 29, loss = 0.30909175\n",
            "Iteration 30, loss = 0.31653505\n",
            "Iteration 31, loss = 0.30015041\n",
            "Iteration 32, loss = 0.29993068\n",
            "Iteration 33, loss = 0.29935196\n",
            "Iteration 34, loss = 0.32563352\n",
            "Iteration 35, loss = 0.30301515\n",
            "Iteration 36, loss = 0.29632364\n",
            "Iteration 37, loss = 0.29400055\n",
            "Iteration 38, loss = 0.29343942\n",
            "Iteration 39, loss = 0.28393614\n",
            "Iteration 40, loss = 0.27981769\n",
            "Iteration 41, loss = 0.30496437\n",
            "Iteration 42, loss = 0.28811745\n",
            "Iteration 43, loss = 0.28119801\n",
            "Iteration 44, loss = 0.28389690\n",
            "Iteration 45, loss = 0.27725922\n",
            "Iteration 46, loss = 0.26712035\n",
            "Iteration 47, loss = 0.26592267\n",
            "Iteration 48, loss = 0.27087650\n",
            "Iteration 49, loss = 0.27448839\n",
            "Iteration 50, loss = 0.27283446\n",
            "Iteration 51, loss = 0.26436043\n",
            "Iteration 52, loss = 0.26381303\n",
            "Iteration 53, loss = 0.25935801\n",
            "Iteration 54, loss = 0.26255855\n",
            "Iteration 55, loss = 0.27075433\n",
            "Iteration 56, loss = 0.26461319\n",
            "Iteration 57, loss = 0.27120533\n",
            "Iteration 58, loss = 0.27084279\n",
            "Iteration 59, loss = 0.25406038\n",
            "Iteration 60, loss = 0.24554814\n",
            "Iteration 61, loss = 0.23861909\n",
            "Iteration 62, loss = 0.27920636\n",
            "Iteration 63, loss = 0.26026534\n",
            "Iteration 64, loss = 0.25250929\n",
            "Iteration 65, loss = 0.25558326\n",
            "Iteration 66, loss = 0.24405099\n",
            "Iteration 67, loss = 0.23529856\n",
            "Iteration 68, loss = 0.24229197\n",
            "Iteration 69, loss = 0.25091834\n",
            "Iteration 70, loss = 0.24978446\n",
            "Iteration 71, loss = 0.23308693\n",
            "Iteration 72, loss = 0.22202097\n",
            "Iteration 73, loss = 0.22798433\n",
            "Iteration 74, loss = 0.22835880\n",
            "Iteration 75, loss = 0.22968639\n",
            "Iteration 76, loss = 0.23207470\n",
            "Iteration 77, loss = 0.22157216\n",
            "Iteration 78, loss = 0.22496757\n",
            "Iteration 79, loss = 0.21676404\n",
            "Iteration 80, loss = 0.21575533\n",
            "Iteration 81, loss = 0.21492514\n",
            "Iteration 82, loss = 0.21753189\n",
            "Iteration 83, loss = 0.21140772\n",
            "Iteration 84, loss = 0.21712286\n",
            "Iteration 85, loss = 0.21766793\n",
            "Iteration 86, loss = 0.22028577\n",
            "Iteration 87, loss = 0.21398902\n",
            "Iteration 88, loss = 0.20543411\n",
            "Iteration 89, loss = 0.19977255\n",
            "Iteration 90, loss = 0.19337341\n",
            "Iteration 91, loss = 0.18598775\n",
            "Iteration 92, loss = 0.19517024\n",
            "Iteration 93, loss = 0.18405429\n",
            "Iteration 94, loss = 0.19509111\n",
            "Iteration 95, loss = 0.18338965\n",
            "Iteration 96, loss = 0.19783638\n",
            "Iteration 97, loss = 0.17559882\n",
            "Iteration 98, loss = 0.17725429\n",
            "Iteration 99, loss = 0.17184946\n",
            "Iteration 100, loss = 0.18457173\n",
            "Iteration 101, loss = 0.17832698\n",
            "Iteration 102, loss = 0.17668687\n",
            "Iteration 103, loss = 0.17219915\n",
            "Iteration 104, loss = 0.16816218\n",
            "Iteration 105, loss = 0.17802972\n",
            "Iteration 106, loss = 0.16661895\n",
            "Iteration 107, loss = 0.16790710\n",
            "Iteration 108, loss = 0.16863768\n",
            "Iteration 109, loss = 0.17737235\n",
            "Iteration 110, loss = 0.19075078\n",
            "Iteration 111, loss = 0.16080115\n",
            "Iteration 112, loss = 0.14684937\n",
            "Iteration 113, loss = 0.14725901\n",
            "Iteration 114, loss = 0.16422181\n",
            "Iteration 115, loss = 0.16995504\n",
            "Iteration 116, loss = 0.16325810\n",
            "Iteration 117, loss = 0.14336832\n",
            "Iteration 118, loss = 0.14772029\n",
            "Iteration 119, loss = 0.15873199\n",
            "Iteration 120, loss = 0.13306816\n",
            "Iteration 121, loss = 0.12893508\n",
            "Iteration 122, loss = 0.14998267\n",
            "Iteration 123, loss = 0.16909076\n",
            "Iteration 124, loss = 0.18339389\n",
            "Iteration 125, loss = 0.13189530\n",
            "Iteration 126, loss = 0.12363399\n",
            "Iteration 127, loss = 0.11507170\n",
            "Iteration 128, loss = 0.11936248\n",
            "Iteration 129, loss = 0.13060538\n",
            "Iteration 130, loss = 0.14820413\n",
            "Iteration 131, loss = 0.12626203\n",
            "Iteration 132, loss = 0.12728495\n",
            "Iteration 133, loss = 0.11538572\n",
            "Iteration 134, loss = 0.11985710\n",
            "Iteration 135, loss = 0.13440733\n",
            "Iteration 136, loss = 0.13089137\n",
            "Iteration 137, loss = 0.12188362\n",
            "Iteration 138, loss = 0.11718202\n",
            "Training loss did not improve more than tol=0.000100 for 10 consecutive epochs. Stopping.\n",
            "F1 score: 0.945774647887324\n",
            "Accuracy: 0.9376265694613204\n"
          ]
        }
      ]
    },
    {
      "cell_type": "markdown",
      "metadata": {
        "id": "tqFO87vOqfLX"
      },
      "source": [
        "### Kneighbor"
      ]
    },
    {
      "cell_type": "code",
      "metadata": {
        "colab": {
          "base_uri": "https://localhost:8080/"
        },
        "id": "8cXuw2klqjOH",
        "outputId": "36a7d952-75f8-4c36-9b0f-bc93849c3dc3"
      },
      "source": [
        "from sklearn.neighbors import KNeighborsClassifier\n",
        "model = KNeighborsClassifier()\n",
        "model.fit(X_train,Y_train)\n",
        "# score = model.score(x_test, y_test)\n",
        "y_pred=model.predict(X_test)\n",
        "score_f1=f1_score(Y_test,y_pred)\n",
        "score = model.score(X_test, Y_test)\n",
        "print(f'F1 score: {score_f1}'),\n",
        "print(f'Accuracy: {score}')\n",
        "# y_pred_public_test=model.predict(x_test)\n",
        "# print(f\"Kết quả tập public test: {y_pred_public_test}\")\n",
        "# y_pred_public_test.shape"
      ],
      "execution_count": null,
      "outputs": [
        {
          "output_type": "stream",
          "name": "stdout",
          "text": [
            "F1 score: 0.9739436619718309\n",
            "Accuracy: 0.9700283515593358\n"
          ]
        }
      ]
    },
    {
      "cell_type": "code",
      "source": [
        "from sklearn.neighbors import KNeighborsClassifier\n",
        "model = KNeighborsClassifier()\n",
        "model.fit(X_train,Y_train)\n",
        "# score = model.score(x_test, y_test)\n",
        "y_pred=model.predict(X_test)\n",
        "score_f1=f1_score(Y_test,y_pred)\n",
        "score = model.score(X_test, Y_test)\n",
        "print(f'F1 score: {score_f1}'),\n",
        "print(f'Accuracy: {score}')\n",
        "# y_pred_public_test=model.predict(x_test)\n",
        "# print(f\"Kết quả tập public test: {y_pred_public_test}\")\n",
        "# y_pred_public_test.shape"
      ],
      "metadata": {
        "colab": {
          "base_uri": "https://localhost:8080/"
        },
        "id": "JWNXpaBN9VOv",
        "outputId": "d4b18d3d-d537-4ce9-c34d-6c7e01037b0a"
      },
      "execution_count": null,
      "outputs": [
        {
          "output_type": "stream",
          "name": "stdout",
          "text": [
            "F1 score: 0.9739436619718309\n",
            "Accuracy: 0.9700283515593358\n"
          ]
        }
      ]
    },
    {
      "cell_type": "markdown",
      "source": [
        "## Tuning HyperparamHyperparameter"
      ],
      "metadata": {
        "id": "jZid_GBCVm0J"
      }
    },
    {
      "cell_type": "markdown",
      "source": [
        "### duyệt trâu"
      ],
      "metadata": {
        "id": "C0c9e7hKkA1c"
      }
    },
    {
      "cell_type": "code",
      "source": [
        "# duyệt trâu \n",
        "best_C = 0\n",
        "best_gamma = 0\n",
        "best_acc = 0\n",
        "best_kernel = ''\n",
        "C_arr=[]\n",
        "gamma_arr=[]\n",
        "kernel_arr=[]\n",
        "acc_arr=[]\n",
        "for c in [0.1, 1, 10, 100, 1000]:\n",
        "    for g in [1, 0.1, 0.01, 0.001, 0.0001]:\n",
        "        for k in [\"poly\"]:\n",
        "            model = SVC(C= c, gamma= g, kernel= k)\n",
        "            model.fit(X_train,Y_train)\n",
        "# score = model.score(x_test, y_test)\n",
        "            y_pred=model.predict(X_test)\n",
        "            score_f1=f1_score(Y_test,y_pred)\n",
        "            acc = model.score(X_test, Y_test)\n",
        "            C_arr.append(c)\n",
        "            gamma_arr.append(g)\n",
        "            kernel_arr.append(k)\n",
        "            acc_arr.append(acc)\n",
        "            print(c,g,k,acc)\n",
        "            if acc > best_acc:\n",
        "                best_acc = acc\n",
        "                best_C = c\n",
        "                best_gamma = g\n",
        "                best_kernel = k"
      ],
      "metadata": {
        "id": "u_EzVMVvVooj"
      },
      "execution_count": null,
      "outputs": []
    },
    {
      "cell_type": "code",
      "source": [
        "# duyệt trâu 22\n",
        "best_C = 0\n",
        "best_gamma = 0\n",
        "best_acc = 0\n",
        "best_kernel = ''\n",
        "C_arr=[]\n",
        "gamma_arr=[]\n",
        "kernel_arr=[]\n",
        "acc_arr=[]\n",
        "for c in [0.1, 1, 10, 100, 1000]:\n",
        "    for g in [1, 0.1, 0.01, 0.001, 0.0001]:\n",
        "        for k in ['linear','rbf',\"sigmoid\"]:\n",
        "            model = SVC(C= c, gamma= g, kernel= k)\n",
        "            model.fit(X_train,Y_train)\n",
        "# score = model.score(x_test, y_test)\n",
        "            y_pred=model.predict(X_test)\n",
        "            score_f1=f1_score(Y_test,y_pred)\n",
        "            acc = model.score(X_test, Y_test)\n",
        "            C_arr.append(c)\n",
        "            gamma_arr.append(g)\n",
        "            kernel_arr.append(k)\n",
        "            acc_arr.append(acc)\n",
        "            print(c,g,k,acc)\n",
        "            if acc > best_acc:\n",
        "                best_acc = acc\n",
        "                best_C = c\n",
        "                best_gamma = g\n",
        "                best_kernel = k"
      ],
      "metadata": {
        "colab": {
          "base_uri": "https://localhost:8080/"
        },
        "id": "w8QqWe5I9ckM",
        "outputId": "1a13e47e-d168-4598-faa6-692295aaf786"
      },
      "execution_count": null,
      "outputs": [
        {
          "output_type": "stream",
          "name": "stdout",
          "text": [
            "0.1 1 linear 0.8578371810449574\n",
            "0.1 1 rbf 0.5629809639530174\n",
            "0.1 1 sigmoid 0.5629809639530174\n",
            "0.1 0.1 linear 0.8578371810449574\n",
            "0.1 0.1 rbf 0.9424868367760226\n",
            "0.1 0.1 sigmoid 0.5629809639530174\n",
            "0.1 0.01 linear 0.8578371810449574\n",
            "0.1 0.01 rbf 0.905224787363305\n",
            "0.1 0.01 sigmoid 0.5629809639530174\n",
            "0.1 0.001 linear 0.8578371810449574\n",
            "0.1 0.001 rbf 0.8545970028351559\n",
            "0.1 0.001 sigmoid 0.5629809639530174\n",
            "0.1 0.0001 linear 0.8578371810449574\n",
            "0.1 0.0001 rbf 0.8444714459295262\n",
            "0.1 0.0001 sigmoid 0.8015390846496557\n",
            "1 1 linear 0.8566221142162819\n",
            "1 1 rbf 0.9275010125556906\n",
            "1 1 sigmoid 0.5629809639530174\n",
            "1 0.1 linear 0.8566221142162819\n",
            "1 0.1 rbf 0.9935196435803969\n",
            "1 0.1 sigmoid 0.5629809639530174\n",
            "1 0.01 linear 0.8566221142162819\n",
            "1 0.01 rbf 0.9505872823005266\n",
            "1 0.01 sigmoid 0.5629809639530174\n",
            "1 0.001 linear 0.8566221142162819\n",
            "1 0.001 rbf 0.875658161198866\n",
            "1 0.001 sigmoid 0.5629809639530174\n",
            "1 0.0001 linear 0.8566221142162819\n",
            "1 0.0001 rbf 0.8554070473876063\n",
            "1 0.0001 sigmoid 0.7829080599432969\n",
            "10 1 linear 0.8566221142162819\n",
            "10 1 rbf 0.9343863912515188\n",
            "10 1 sigmoid 0.5629809639530174\n",
            "10 0.1 linear 0.8566221142162819\n",
            "10 0.1 rbf 0.9951397326852977\n",
            "10 0.1 sigmoid 0.5629809639530174\n",
            "10 0.01 linear 0.8566221142162819\n",
            "10 0.01 rbf 0.9797488861887403\n",
            "10 0.01 sigmoid 0.5629809639530174\n",
            "10 0.001 linear 0.8566221142162819\n",
            "10 0.001 rbf 0.89469420818145\n",
            "10 0.001 sigmoid 0.5629809639530174\n",
            "10 0.0001 linear 0.8566221142162819\n",
            "10 0.0001 rbf 0.8558120696638315\n",
            "10 0.0001 sigmoid 0.772782503037667\n",
            "100 1 linear 0.8594572701498583\n",
            "100 1 rbf 0.9343863912515188\n",
            "100 1 sigmoid 0.5629809639530174\n",
            "100 0.1 linear 0.8594572701498583\n",
            "100 0.1 rbf 0.9951397326852977\n",
            "100 0.1 sigmoid 0.5629809639530174\n",
            "100 0.01 linear 0.8594572701498583\n",
            "100 0.01 rbf 0.9878493317132442\n",
            "100 0.01 sigmoid 0.5629809639530174\n",
            "100 0.001 linear 0.8594572701498583\n",
            "100 0.001 rbf 0.9129202106115837\n",
            "100 0.001 sigmoid 0.5629809639530174\n",
            "100 0.0001 linear 0.8594572701498583\n",
            "100 0.0001 rbf 0.8744430943701904\n",
            "100 0.0001 sigmoid 0.7723774807614419\n",
            "1000 1 linear 0.8489266909680032\n",
            "1000 1 rbf 0.9343863912515188\n",
            "1000 1 sigmoid 0.5629809639530174\n",
            "1000 0.1 linear 0.8489266909680032\n",
            "1000 0.1 rbf 0.9951397326852977\n",
            "1000 0.1 sigmoid 0.5629809639530174\n",
            "1000 0.01 linear 0.8489266909680032\n",
            "1000 0.01 rbf 0.9882543539894694\n",
            "1000 0.01 sigmoid 0.5629809639530174\n",
            "1000 0.001 linear 0.8489266909680032\n",
            "1000 0.001 rbf 0.9408667476711219\n",
            "1000 0.001 sigmoid 0.4001620089104901\n",
            "1000 0.0001 linear 0.8489266909680032\n",
            "1000 0.0001 rbf 0.8825435398946943\n",
            "1000 0.0001 sigmoid 0.7719724584852167\n"
          ]
        }
      ]
    },
    {
      "cell_type": "code",
      "source": [
        "print(best_C,best_gamma,best_kernel,best_acc)"
      ],
      "metadata": {
        "id": "AH0rCL_tWe-X"
      },
      "execution_count": null,
      "outputs": []
    },
    {
      "cell_type": "markdown",
      "source": [
        "### Sử dụng Grid Search"
      ],
      "metadata": {
        "id": "rPASMfGZkKHx"
      }
    },
    {
      "cell_type": "code",
      "source": [
        "# sử dụng gridSearchgridSearch\n",
        "from sklearn.model_selection import GridSearchCV\n",
        " \n",
        "# defining parameter range\n",
        "param_grid = {'C': [0.1, 1, 10, 100, 1000],\n",
        "              'gamma': [1, 0.1, 0.01, 0.001, 0.0001],\n",
        "              'kernel': ['linear','rbf',\"sigmoid\"]}\n",
        " \n",
        "grid = GridSearchCV(SVC(), param_grid, refit = True, verbose = 3)\n",
        "# fitting the model for grid search\n",
        "grid.fit(X_train, Y_train)\n",
        "# print best parameter after tuning\n",
        "print(grid.best_params_)\n",
        "# print how our model looks after hyper-parameter tuning\n",
        "print(grid.best_estimator_)"
      ],
      "metadata": {
        "colab": {
          "base_uri": "https://localhost:8080/"
        },
        "id": "j3i8iTaJHaA5",
        "outputId": "15ffed4b-79fd-4d7f-ef35-e3e7c62bf180"
      },
      "execution_count": null,
      "outputs": [
        {
          "output_type": "stream",
          "name": "stdout",
          "text": [
            "Fitting 5 folds for each of 75 candidates, totalling 375 fits\n",
            "[CV 1/5] END .....C=0.1, gamma=1, kernel=linear;, score=0.945 total time=   1.2s\n",
            "[CV 2/5] END .....C=0.1, gamma=1, kernel=linear;, score=0.938 total time=   1.2s\n",
            "[CV 3/5] END .....C=0.1, gamma=1, kernel=linear;, score=0.927 total time=   1.0s\n",
            "[CV 4/5] END .....C=0.1, gamma=1, kernel=linear;, score=0.930 total time=   1.1s\n",
            "[CV 5/5] END .....C=0.1, gamma=1, kernel=linear;, score=0.932 total time=   1.1s\n",
            "[CV 1/5] END ........C=0.1, gamma=1, kernel=rbf;, score=0.555 total time=   1.7s\n",
            "[CV 2/5] END ........C=0.1, gamma=1, kernel=rbf;, score=0.555 total time=   1.7s\n",
            "[CV 3/5] END ........C=0.1, gamma=1, kernel=rbf;, score=0.555 total time=   1.7s\n",
            "[CV 4/5] END ........C=0.1, gamma=1, kernel=rbf;, score=0.555 total time=   1.7s\n",
            "[CV 5/5] END ........C=0.1, gamma=1, kernel=rbf;, score=0.555 total time=   1.7s\n",
            "[CV 1/5] END ....C=0.1, gamma=1, kernel=sigmoid;, score=0.555 total time=   0.8s\n",
            "[CV 2/5] END ....C=0.1, gamma=1, kernel=sigmoid;, score=0.555 total time=   0.8s\n",
            "[CV 3/5] END ....C=0.1, gamma=1, kernel=sigmoid;, score=0.555 total time=   0.8s\n",
            "[CV 4/5] END ....C=0.1, gamma=1, kernel=sigmoid;, score=0.555 total time=   0.8s\n",
            "[CV 5/5] END ....C=0.1, gamma=1, kernel=sigmoid;, score=0.555 total time=   0.9s\n",
            "[CV 1/5] END ...C=0.1, gamma=0.1, kernel=linear;, score=0.945 total time=   1.3s\n",
            "[CV 2/5] END ...C=0.1, gamma=0.1, kernel=linear;, score=0.938 total time=   1.2s\n",
            "[CV 3/5] END ...C=0.1, gamma=0.1, kernel=linear;, score=0.927 total time=   1.0s\n",
            "[CV 4/5] END ...C=0.1, gamma=0.1, kernel=linear;, score=0.930 total time=   1.1s\n",
            "[CV 5/5] END ...C=0.1, gamma=0.1, kernel=linear;, score=0.932 total time=   1.1s\n",
            "[CV 1/5] END ......C=0.1, gamma=0.1, kernel=rbf;, score=0.950 total time=   1.9s\n",
            "[CV 2/5] END ......C=0.1, gamma=0.1, kernel=rbf;, score=0.958 total time=   1.9s\n",
            "[CV 3/5] END ......C=0.1, gamma=0.1, kernel=rbf;, score=0.958 total time=   1.9s\n",
            "[CV 4/5] END ......C=0.1, gamma=0.1, kernel=rbf;, score=0.960 total time=   1.9s\n",
            "[CV 5/5] END ......C=0.1, gamma=0.1, kernel=rbf;, score=0.971 total time=   1.9s\n",
            "[CV 1/5] END ..C=0.1, gamma=0.1, kernel=sigmoid;, score=0.555 total time=   0.8s\n",
            "[CV 2/5] END ..C=0.1, gamma=0.1, kernel=sigmoid;, score=0.555 total time=   0.8s\n",
            "[CV 3/5] END ..C=0.1, gamma=0.1, kernel=sigmoid;, score=0.555 total time=   0.9s\n",
            "[CV 4/5] END ..C=0.1, gamma=0.1, kernel=sigmoid;, score=0.555 total time=   0.8s\n",
            "[CV 5/5] END ..C=0.1, gamma=0.1, kernel=sigmoid;, score=0.555 total time=   0.8s\n",
            "[CV 1/5] END ..C=0.1, gamma=0.01, kernel=linear;, score=0.945 total time=   1.3s\n",
            "[CV 2/5] END ..C=0.1, gamma=0.01, kernel=linear;, score=0.938 total time=   1.2s\n",
            "[CV 3/5] END ..C=0.1, gamma=0.01, kernel=linear;, score=0.927 total time=   1.0s\n",
            "[CV 4/5] END ..C=0.1, gamma=0.01, kernel=linear;, score=0.930 total time=   1.1s\n",
            "[CV 5/5] END ..C=0.1, gamma=0.01, kernel=linear;, score=0.932 total time=   1.1s\n",
            "[CV 1/5] END .....C=0.1, gamma=0.01, kernel=rbf;, score=0.900 total time=   1.0s\n",
            "[CV 2/5] END .....C=0.1, gamma=0.01, kernel=rbf;, score=0.894 total time=   1.0s\n",
            "[CV 3/5] END .....C=0.1, gamma=0.01, kernel=rbf;, score=0.893 total time=   1.0s\n",
            "[CV 4/5] END .....C=0.1, gamma=0.01, kernel=rbf;, score=0.895 total time=   1.0s\n",
            "[CV 5/5] END .....C=0.1, gamma=0.01, kernel=rbf;, score=0.905 total time=   1.0s\n",
            "[CV 1/5] END .C=0.1, gamma=0.01, kernel=sigmoid;, score=0.555 total time=   0.8s\n",
            "[CV 2/5] END .C=0.1, gamma=0.01, kernel=sigmoid;, score=0.555 total time=   0.8s\n",
            "[CV 3/5] END .C=0.1, gamma=0.01, kernel=sigmoid;, score=0.555 total time=   0.8s\n",
            "[CV 4/5] END .C=0.1, gamma=0.01, kernel=sigmoid;, score=0.555 total time=   0.8s\n",
            "[CV 5/5] END .C=0.1, gamma=0.01, kernel=sigmoid;, score=0.555 total time=   0.8s\n",
            "[CV 1/5] END .C=0.1, gamma=0.001, kernel=linear;, score=0.945 total time=   1.2s\n",
            "[CV 2/5] END .C=0.1, gamma=0.001, kernel=linear;, score=0.938 total time=   1.2s\n",
            "[CV 3/5] END .C=0.1, gamma=0.001, kernel=linear;, score=0.927 total time=   1.0s\n",
            "[CV 4/5] END .C=0.1, gamma=0.001, kernel=linear;, score=0.930 total time=   1.1s\n",
            "[CV 5/5] END .C=0.1, gamma=0.001, kernel=linear;, score=0.932 total time=   1.2s\n",
            "[CV 1/5] END ....C=0.1, gamma=0.001, kernel=rbf;, score=0.855 total time=   0.8s\n",
            "[CV 2/5] END ....C=0.1, gamma=0.001, kernel=rbf;, score=0.864 total time=   0.8s\n",
            "[CV 3/5] END ....C=0.1, gamma=0.001, kernel=rbf;, score=0.850 total time=   0.8s\n",
            "[CV 4/5] END ....C=0.1, gamma=0.001, kernel=rbf;, score=0.849 total time=   0.8s\n",
            "[CV 5/5] END ....C=0.1, gamma=0.001, kernel=rbf;, score=0.876 total time=   0.8s\n",
            "[CV 1/5] END C=0.1, gamma=0.001, kernel=sigmoid;, score=0.555 total time=   1.9s\n",
            "[CV 2/5] END C=0.1, gamma=0.001, kernel=sigmoid;, score=0.555 total time=   1.9s\n",
            "[CV 3/5] END C=0.1, gamma=0.001, kernel=sigmoid;, score=0.555 total time=   1.9s\n",
            "[CV 4/5] END C=0.1, gamma=0.001, kernel=sigmoid;, score=0.555 total time=   1.9s\n",
            "[CV 5/5] END C=0.1, gamma=0.001, kernel=sigmoid;, score=0.555 total time=   1.9s\n",
            "[CV 1/5] END C=0.1, gamma=0.0001, kernel=linear;, score=0.945 total time=   1.3s\n",
            "[CV 2/5] END C=0.1, gamma=0.0001, kernel=linear;, score=0.938 total time=   1.2s\n",
            "[CV 3/5] END C=0.1, gamma=0.0001, kernel=linear;, score=0.927 total time=   1.0s\n",
            "[CV 4/5] END C=0.1, gamma=0.0001, kernel=linear;, score=0.930 total time=   1.1s\n",
            "[CV 5/5] END C=0.1, gamma=0.0001, kernel=linear;, score=0.932 total time=   1.1s\n",
            "[CV 1/5] END ...C=0.1, gamma=0.0001, kernel=rbf;, score=0.847 total time=   0.9s\n",
            "[CV 2/5] END ...C=0.1, gamma=0.0001, kernel=rbf;, score=0.854 total time=   0.9s\n",
            "[CV 3/5] END ...C=0.1, gamma=0.0001, kernel=rbf;, score=0.836 total time=   0.8s\n",
            "[CV 4/5] END ...C=0.1, gamma=0.0001, kernel=rbf;, score=0.838 total time=   0.9s\n",
            "[CV 5/5] END ...C=0.1, gamma=0.0001, kernel=rbf;, score=0.867 total time=   0.9s\n",
            "[CV 1/5] END C=0.1, gamma=0.0001, kernel=sigmoid;, score=0.356 total time=   1.6s\n",
            "[CV 2/5] END C=0.1, gamma=0.0001, kernel=sigmoid;, score=0.350 total time=   1.6s\n",
            "[CV 3/5] END C=0.1, gamma=0.0001, kernel=sigmoid;, score=0.366 total time=   1.6s\n",
            "[CV 4/5] END C=0.1, gamma=0.0001, kernel=sigmoid;, score=0.374 total time=   1.6s\n",
            "[CV 5/5] END C=0.1, gamma=0.0001, kernel=sigmoid;, score=0.347 total time=   2.3s\n",
            "[CV 1/5] END .......C=1, gamma=1, kernel=linear;, score=0.948 total time=   3.2s\n",
            "[CV 2/5] END .......C=1, gamma=1, kernel=linear;, score=0.942 total time=   3.2s\n",
            "[CV 3/5] END .......C=1, gamma=1, kernel=linear;, score=0.932 total time=   3.5s\n",
            "[CV 4/5] END .......C=1, gamma=1, kernel=linear;, score=0.936 total time=   3.3s\n",
            "[CV 5/5] END .......C=1, gamma=1, kernel=linear;, score=0.941 total time=   3.1s\n",
            "[CV 1/5] END ..........C=1, gamma=1, kernel=rbf;, score=0.880 total time=   2.0s\n",
            "[CV 2/5] END ..........C=1, gamma=1, kernel=rbf;, score=0.884 total time=   2.0s\n",
            "[CV 3/5] END ..........C=1, gamma=1, kernel=rbf;, score=0.893 total time=   2.0s\n",
            "[CV 4/5] END ..........C=1, gamma=1, kernel=rbf;, score=0.901 total time=   2.0s\n",
            "[CV 5/5] END ..........C=1, gamma=1, kernel=rbf;, score=0.897 total time=   2.0s\n",
            "[CV 1/5] END ......C=1, gamma=1, kernel=sigmoid;, score=0.555 total time=   0.8s\n",
            "[CV 2/5] END ......C=1, gamma=1, kernel=sigmoid;, score=0.555 total time=   0.8s\n",
            "[CV 3/5] END ......C=1, gamma=1, kernel=sigmoid;, score=0.555 total time=   0.8s\n",
            "[CV 4/5] END ......C=1, gamma=1, kernel=sigmoid;, score=0.555 total time=   0.8s\n",
            "[CV 5/5] END ......C=1, gamma=1, kernel=sigmoid;, score=0.555 total time=   0.8s\n",
            "[CV 1/5] END .....C=1, gamma=0.1, kernel=linear;, score=0.948 total time=   3.2s\n",
            "[CV 2/5] END .....C=1, gamma=0.1, kernel=linear;, score=0.942 total time=   3.1s\n",
            "[CV 3/5] END .....C=1, gamma=0.1, kernel=linear;, score=0.932 total time=   3.5s\n",
            "[CV 4/5] END .....C=1, gamma=0.1, kernel=linear;, score=0.936 total time=   3.3s\n",
            "[CV 5/5] END .....C=1, gamma=0.1, kernel=linear;, score=0.941 total time=   3.2s\n",
            "[CV 1/5] END ........C=1, gamma=0.1, kernel=rbf;, score=0.990 total time=   2.6s\n",
            "[CV 2/5] END ........C=1, gamma=0.1, kernel=rbf;, score=0.992 total time=   2.3s\n",
            "[CV 3/5] END ........C=1, gamma=0.1, kernel=rbf;, score=0.987 total time=   2.2s\n",
            "[CV 4/5] END ........C=1, gamma=0.1, kernel=rbf;, score=0.997 total time=   2.2s\n",
            "[CV 5/5] END ........C=1, gamma=0.1, kernel=rbf;, score=0.996 total time=   2.2s\n",
            "[CV 1/5] END ....C=1, gamma=0.1, kernel=sigmoid;, score=0.555 total time=   0.9s\n",
            "[CV 2/5] END ....C=1, gamma=0.1, kernel=sigmoid;, score=0.555 total time=   0.8s\n",
            "[CV 3/5] END ....C=1, gamma=0.1, kernel=sigmoid;, score=0.555 total time=   0.8s\n",
            "[CV 4/5] END ....C=1, gamma=0.1, kernel=sigmoid;, score=0.555 total time=   0.8s\n",
            "[CV 5/5] END ....C=1, gamma=0.1, kernel=sigmoid;, score=0.555 total time=   0.8s\n",
            "[CV 1/5] END ....C=1, gamma=0.01, kernel=linear;, score=0.948 total time=   3.2s\n",
            "[CV 2/5] END ....C=1, gamma=0.01, kernel=linear;, score=0.942 total time=   3.2s\n",
            "[CV 3/5] END ....C=1, gamma=0.01, kernel=linear;, score=0.932 total time=   3.5s\n",
            "[CV 4/5] END ....C=1, gamma=0.01, kernel=linear;, score=0.936 total time=   3.3s\n",
            "[CV 5/5] END ....C=1, gamma=0.01, kernel=linear;, score=0.941 total time=   3.2s\n",
            "[CV 1/5] END .......C=1, gamma=0.01, kernel=rbf;, score=0.944 total time=   0.7s\n",
            "[CV 2/5] END .......C=1, gamma=0.01, kernel=rbf;, score=0.945 total time=   0.7s\n",
            "[CV 3/5] END .......C=1, gamma=0.01, kernel=rbf;, score=0.949 total time=   0.7s\n",
            "[CV 4/5] END .......C=1, gamma=0.01, kernel=rbf;, score=0.944 total time=   0.7s\n",
            "[CV 5/5] END .......C=1, gamma=0.01, kernel=rbf;, score=0.947 total time=   0.7s\n",
            "[CV 1/5] END ...C=1, gamma=0.01, kernel=sigmoid;, score=0.555 total time=   0.8s\n",
            "[CV 2/5] END ...C=1, gamma=0.01, kernel=sigmoid;, score=0.555 total time=   0.9s\n",
            "[CV 3/5] END ...C=1, gamma=0.01, kernel=sigmoid;, score=0.555 total time=   0.8s\n",
            "[CV 4/5] END ...C=1, gamma=0.01, kernel=sigmoid;, score=0.555 total time=   0.8s\n",
            "[CV 5/5] END ...C=1, gamma=0.01, kernel=sigmoid;, score=0.555 total time=   0.8s\n",
            "[CV 1/5] END ...C=1, gamma=0.001, kernel=linear;, score=0.948 total time=   3.2s\n",
            "[CV 2/5] END ...C=1, gamma=0.001, kernel=linear;, score=0.942 total time=   3.2s\n",
            "[CV 3/5] END ...C=1, gamma=0.001, kernel=linear;, score=0.932 total time=   3.5s\n",
            "[CV 4/5] END ...C=1, gamma=0.001, kernel=linear;, score=0.936 total time=   3.3s\n",
            "[CV 5/5] END ...C=1, gamma=0.001, kernel=linear;, score=0.941 total time=   3.2s\n",
            "[CV 1/5] END ......C=1, gamma=0.001, kernel=rbf;, score=0.882 total time=   0.7s\n",
            "[CV 2/5] END ......C=1, gamma=0.001, kernel=rbf;, score=0.887 total time=   0.7s\n",
            "[CV 3/5] END ......C=1, gamma=0.001, kernel=rbf;, score=0.870 total time=   0.7s\n",
            "[CV 4/5] END ......C=1, gamma=0.001, kernel=rbf;, score=0.878 total time=   0.7s\n",
            "[CV 5/5] END ......C=1, gamma=0.001, kernel=rbf;, score=0.888 total time=   0.7s\n",
            "[CV 1/5] END ..C=1, gamma=0.001, kernel=sigmoid;, score=0.555 total time=   1.9s\n",
            "[CV 2/5] END ..C=1, gamma=0.001, kernel=sigmoid;, score=0.555 total time=   1.9s\n",
            "[CV 3/5] END ..C=1, gamma=0.001, kernel=sigmoid;, score=0.555 total time=   1.9s\n",
            "[CV 4/5] END ..C=1, gamma=0.001, kernel=sigmoid;, score=0.555 total time=   1.9s\n",
            "[CV 5/5] END ..C=1, gamma=0.001, kernel=sigmoid;, score=0.555 total time=   1.9s\n",
            "[CV 1/5] END ..C=1, gamma=0.0001, kernel=linear;, score=0.948 total time=   3.2s\n",
            "[CV 2/5] END ..C=1, gamma=0.0001, kernel=linear;, score=0.942 total time=   3.2s\n",
            "[CV 3/5] END ..C=1, gamma=0.0001, kernel=linear;, score=0.932 total time=   3.5s\n",
            "[CV 4/5] END ..C=1, gamma=0.0001, kernel=linear;, score=0.936 total time=   3.3s\n",
            "[CV 5/5] END ..C=1, gamma=0.0001, kernel=linear;, score=0.941 total time=   3.1s\n",
            "[CV 1/5] END .....C=1, gamma=0.0001, kernel=rbf;, score=0.851 total time=   0.8s\n",
            "[CV 2/5] END .....C=1, gamma=0.0001, kernel=rbf;, score=0.868 total time=   0.8s\n",
            "[CV 3/5] END .....C=1, gamma=0.0001, kernel=rbf;, score=0.844 total time=   0.7s\n",
            "[CV 4/5] END .....C=1, gamma=0.0001, kernel=rbf;, score=0.847 total time=   0.8s\n",
            "[CV 5/5] END .....C=1, gamma=0.0001, kernel=rbf;, score=0.878 total time=   0.8s\n",
            "[CV 1/5] END .C=1, gamma=0.0001, kernel=sigmoid;, score=0.354 total time=   1.5s\n",
            "[CV 2/5] END .C=1, gamma=0.0001, kernel=sigmoid;, score=0.349 total time=   1.5s\n",
            "[CV 3/5] END .C=1, gamma=0.0001, kernel=sigmoid;, score=0.365 total time=   1.5s\n",
            "[CV 4/5] END .C=1, gamma=0.0001, kernel=sigmoid;, score=0.373 total time=   1.5s\n",
            "[CV 5/5] END .C=1, gamma=0.0001, kernel=sigmoid;, score=0.799 total time=   0.6s\n",
            "[CV 1/5] END ......C=10, gamma=1, kernel=linear;, score=0.949 total time=  19.6s\n",
            "[CV 2/5] END ......C=10, gamma=1, kernel=linear;, score=0.941 total time=  28.8s\n",
            "[CV 3/5] END ......C=10, gamma=1, kernel=linear;, score=0.935 total time=  19.8s\n",
            "[CV 4/5] END ......C=10, gamma=1, kernel=linear;, score=0.934 total time=  34.9s\n",
            "[CV 5/5] END ......C=10, gamma=1, kernel=linear;, score=0.938 total time=  22.3s\n",
            "[CV 1/5] END .........C=10, gamma=1, kernel=rbf;, score=0.885 total time=   2.0s\n",
            "[CV 2/5] END .........C=10, gamma=1, kernel=rbf;, score=0.898 total time=   2.0s\n",
            "[CV 3/5] END .........C=10, gamma=1, kernel=rbf;, score=0.904 total time=   1.9s\n",
            "[CV 4/5] END .........C=10, gamma=1, kernel=rbf;, score=0.906 total time=   2.0s\n",
            "[CV 5/5] END .........C=10, gamma=1, kernel=rbf;, score=0.905 total time=   2.1s\n",
            "[CV 1/5] END .....C=10, gamma=1, kernel=sigmoid;, score=0.555 total time=   0.8s\n",
            "[CV 2/5] END .....C=10, gamma=1, kernel=sigmoid;, score=0.555 total time=   0.8s\n",
            "[CV 3/5] END .....C=10, gamma=1, kernel=sigmoid;, score=0.555 total time=   0.8s\n",
            "[CV 4/5] END .....C=10, gamma=1, kernel=sigmoid;, score=0.555 total time=   0.8s\n",
            "[CV 5/5] END .....C=10, gamma=1, kernel=sigmoid;, score=0.555 total time=   0.8s\n",
            "[CV 1/5] END ....C=10, gamma=0.1, kernel=linear;, score=0.949 total time=  19.5s\n",
            "[CV 2/5] END ....C=10, gamma=0.1, kernel=linear;, score=0.941 total time=  29.0s\n",
            "[CV 3/5] END ....C=10, gamma=0.1, kernel=linear;, score=0.935 total time=  19.8s\n",
            "[CV 4/5] END ....C=10, gamma=0.1, kernel=linear;, score=0.934 total time=  34.8s\n",
            "[CV 5/5] END ....C=10, gamma=0.1, kernel=linear;, score=0.938 total time=  22.3s\n",
            "[CV 1/5] END .......C=10, gamma=0.1, kernel=rbf;, score=0.991 total time=   2.2s\n",
            "[CV 2/5] END .......C=10, gamma=0.1, kernel=rbf;, score=0.994 total time=   2.2s\n",
            "[CV 3/5] END .......C=10, gamma=0.1, kernel=rbf;, score=0.989 total time=   2.3s\n",
            "[CV 4/5] END .......C=10, gamma=0.1, kernel=rbf;, score=0.997 total time=   2.3s\n",
            "[CV 5/5] END .......C=10, gamma=0.1, kernel=rbf;, score=0.996 total time=   2.3s\n",
            "[CV 1/5] END ...C=10, gamma=0.1, kernel=sigmoid;, score=0.555 total time=   0.8s\n",
            "[CV 2/5] END ...C=10, gamma=0.1, kernel=sigmoid;, score=0.555 total time=   0.8s\n",
            "[CV 3/5] END ...C=10, gamma=0.1, kernel=sigmoid;, score=0.555 total time=   0.8s\n",
            "[CV 4/5] END ...C=10, gamma=0.1, kernel=sigmoid;, score=0.555 total time=   0.8s\n",
            "[CV 5/5] END ...C=10, gamma=0.1, kernel=sigmoid;, score=0.555 total time=   0.8s\n",
            "[CV 1/5] END ...C=10, gamma=0.01, kernel=linear;, score=0.949 total time=  19.6s\n",
            "[CV 2/5] END ...C=10, gamma=0.01, kernel=linear;, score=0.941 total time=  28.8s\n",
            "[CV 3/5] END ...C=10, gamma=0.01, kernel=linear;, score=0.935 total time=  19.8s\n",
            "[CV 4/5] END ...C=10, gamma=0.01, kernel=linear;, score=0.934 total time=  34.9s\n",
            "[CV 5/5] END ...C=10, gamma=0.01, kernel=linear;, score=0.938 total time=  22.3s\n",
            "[CV 1/5] END ......C=10, gamma=0.01, kernel=rbf;, score=0.976 total time=   0.5s\n",
            "[CV 2/5] END ......C=10, gamma=0.01, kernel=rbf;, score=0.978 total time=   0.5s\n",
            "[CV 3/5] END ......C=10, gamma=0.01, kernel=rbf;, score=0.983 total time=   0.5s\n",
            "[CV 4/5] END ......C=10, gamma=0.01, kernel=rbf;, score=0.977 total time=   0.5s\n",
            "[CV 5/5] END ......C=10, gamma=0.01, kernel=rbf;, score=0.981 total time=   0.5s\n",
            "[CV 1/5] END ..C=10, gamma=0.01, kernel=sigmoid;, score=0.555 total time=   0.8s\n",
            "[CV 2/5] END ..C=10, gamma=0.01, kernel=sigmoid;, score=0.555 total time=   0.9s\n",
            "[CV 3/5] END ..C=10, gamma=0.01, kernel=sigmoid;, score=0.555 total time=   0.9s\n",
            "[CV 4/5] END ..C=10, gamma=0.01, kernel=sigmoid;, score=0.555 total time=   0.8s\n",
            "[CV 5/5] END ..C=10, gamma=0.01, kernel=sigmoid;, score=0.555 total time=   0.8s\n",
            "[CV 1/5] END ..C=10, gamma=0.001, kernel=linear;, score=0.949 total time=  19.5s\n",
            "[CV 2/5] END ..C=10, gamma=0.001, kernel=linear;, score=0.941 total time=  28.7s\n",
            "[CV 3/5] END ..C=10, gamma=0.001, kernel=linear;, score=0.935 total time=  19.9s\n",
            "[CV 4/5] END ..C=10, gamma=0.001, kernel=linear;, score=0.934 total time=  34.9s\n",
            "[CV 5/5] END ..C=10, gamma=0.001, kernel=linear;, score=0.938 total time=  22.4s\n",
            "[CV 1/5] END .....C=10, gamma=0.001, kernel=rbf;, score=0.939 total time=   0.6s\n",
            "[CV 2/5] END .....C=10, gamma=0.001, kernel=rbf;, score=0.940 total time=   0.7s\n",
            "[CV 3/5] END .....C=10, gamma=0.001, kernel=rbf;, score=0.920 total time=   0.6s\n",
            "[CV 4/5] END .....C=10, gamma=0.001, kernel=rbf;, score=0.924 total time=   0.6s\n",
            "[CV 5/5] END .....C=10, gamma=0.001, kernel=rbf;, score=0.928 total time=   0.7s\n",
            "[CV 1/5] END .C=10, gamma=0.001, kernel=sigmoid;, score=0.555 total time=   1.9s\n",
            "[CV 2/5] END .C=10, gamma=0.001, kernel=sigmoid;, score=0.555 total time=   1.9s\n",
            "[CV 3/5] END .C=10, gamma=0.001, kernel=sigmoid;, score=0.555 total time=   1.9s\n",
            "[CV 4/5] END .C=10, gamma=0.001, kernel=sigmoid;, score=0.555 total time=   1.9s\n",
            "[CV 5/5] END .C=10, gamma=0.001, kernel=sigmoid;, score=0.555 total time=   1.9s\n",
            "[CV 1/5] END .C=10, gamma=0.0001, kernel=linear;, score=0.949 total time=  19.5s\n",
            "[CV 2/5] END .C=10, gamma=0.0001, kernel=linear;, score=0.941 total time=  28.8s\n",
            "[CV 3/5] END .C=10, gamma=0.0001, kernel=linear;, score=0.935 total time=  19.8s\n",
            "[CV 4/5] END .C=10, gamma=0.0001, kernel=linear;, score=0.934 total time=  34.8s\n",
            "[CV 5/5] END .C=10, gamma=0.0001, kernel=linear;, score=0.938 total time=  22.3s\n",
            "[CV 1/5] END ....C=10, gamma=0.0001, kernel=rbf;, score=0.872 total time=   0.8s\n",
            "[CV 2/5] END ....C=10, gamma=0.0001, kernel=rbf;, score=0.887 total time=   0.8s\n",
            "[CV 3/5] END ....C=10, gamma=0.0001, kernel=rbf;, score=0.865 total time=   0.8s\n",
            "[CV 4/5] END ....C=10, gamma=0.0001, kernel=rbf;, score=0.875 total time=   0.8s\n",
            "[CV 5/5] END ....C=10, gamma=0.0001, kernel=rbf;, score=0.891 total time=   0.8s\n",
            "[CV 1/5] END C=10, gamma=0.0001, kernel=sigmoid;, score=0.353 total time=   1.5s\n",
            "[CV 2/5] END C=10, gamma=0.0001, kernel=sigmoid;, score=0.349 total time=   1.5s\n",
            "[CV 3/5] END C=10, gamma=0.0001, kernel=sigmoid;, score=0.365 total time=   1.5s\n",
            "[CV 4/5] END C=10, gamma=0.0001, kernel=sigmoid;, score=0.373 total time=   1.5s\n",
            "[CV 5/5] END C=10, gamma=0.0001, kernel=sigmoid;, score=0.786 total time=   0.5s\n",
            "[CV 1/5] END .....C=100, gamma=1, kernel=linear;, score=0.950 total time=  59.4s\n",
            "[CV 2/5] END .....C=100, gamma=1, kernel=linear;, score=0.943 total time= 1.6min\n",
            "[CV 3/5] END .....C=100, gamma=1, kernel=linear;, score=0.934 total time= 1.1min\n",
            "[CV 4/5] END .....C=100, gamma=1, kernel=linear;, score=0.936 total time= 1.1min\n",
            "[CV 5/5] END .....C=100, gamma=1, kernel=linear;, score=0.943 total time= 1.4min\n",
            "[CV 1/5] END ........C=100, gamma=1, kernel=rbf;, score=0.885 total time=   2.0s\n",
            "[CV 2/5] END ........C=100, gamma=1, kernel=rbf;, score=0.898 total time=   2.0s\n",
            "[CV 3/5] END ........C=100, gamma=1, kernel=rbf;, score=0.904 total time=   1.9s\n",
            "[CV 4/5] END ........C=100, gamma=1, kernel=rbf;, score=0.906 total time=   2.0s\n",
            "[CV 5/5] END ........C=100, gamma=1, kernel=rbf;, score=0.905 total time=   2.1s\n",
            "[CV 1/5] END ....C=100, gamma=1, kernel=sigmoid;, score=0.555 total time=   0.8s\n",
            "[CV 2/5] END ....C=100, gamma=1, kernel=sigmoid;, score=0.555 total time=   0.8s\n",
            "[CV 3/5] END ....C=100, gamma=1, kernel=sigmoid;, score=0.555 total time=   0.8s\n",
            "[CV 4/5] END ....C=100, gamma=1, kernel=sigmoid;, score=0.555 total time=   0.8s\n",
            "[CV 5/5] END ....C=100, gamma=1, kernel=sigmoid;, score=0.555 total time=   0.8s\n",
            "[CV 1/5] END ...C=100, gamma=0.1, kernel=linear;, score=0.950 total time=  59.0s\n",
            "[CV 2/5] END ...C=100, gamma=0.1, kernel=linear;, score=0.943 total time= 1.6min\n",
            "[CV 3/5] END ...C=100, gamma=0.1, kernel=linear;, score=0.934 total time= 1.1min\n",
            "[CV 4/5] END ...C=100, gamma=0.1, kernel=linear;, score=0.936 total time= 1.1min\n",
            "[CV 5/5] END ...C=100, gamma=0.1, kernel=linear;, score=0.943 total time= 1.4min\n",
            "[CV 1/5] END ......C=100, gamma=0.1, kernel=rbf;, score=0.991 total time=   2.2s\n",
            "[CV 2/5] END ......C=100, gamma=0.1, kernel=rbf;, score=0.994 total time=   2.2s\n",
            "[CV 3/5] END ......C=100, gamma=0.1, kernel=rbf;, score=0.989 total time=   2.3s\n",
            "[CV 4/5] END ......C=100, gamma=0.1, kernel=rbf;, score=0.997 total time=   2.3s\n",
            "[CV 5/5] END ......C=100, gamma=0.1, kernel=rbf;, score=0.996 total time=   2.3s\n",
            "[CV 1/5] END ..C=100, gamma=0.1, kernel=sigmoid;, score=0.555 total time=   0.8s\n",
            "[CV 2/5] END ..C=100, gamma=0.1, kernel=sigmoid;, score=0.555 total time=   0.8s\n",
            "[CV 3/5] END ..C=100, gamma=0.1, kernel=sigmoid;, score=0.555 total time=   0.8s\n",
            "[CV 4/5] END ..C=100, gamma=0.1, kernel=sigmoid;, score=0.555 total time=   0.8s\n",
            "[CV 5/5] END ..C=100, gamma=0.1, kernel=sigmoid;, score=0.555 total time=   0.8s\n",
            "[CV 1/5] END ..C=100, gamma=0.01, kernel=linear;, score=0.950 total time=  59.0s\n",
            "[CV 2/5] END ..C=100, gamma=0.01, kernel=linear;, score=0.943 total time= 1.6min\n",
            "[CV 3/5] END ..C=100, gamma=0.01, kernel=linear;, score=0.934 total time= 1.1min\n",
            "[CV 4/5] END ..C=100, gamma=0.01, kernel=linear;, score=0.936 total time= 1.1min\n",
            "[CV 5/5] END ..C=100, gamma=0.01, kernel=linear;, score=0.943 total time= 1.4min\n",
            "[CV 1/5] END .....C=100, gamma=0.01, kernel=rbf;, score=0.977 total time=   0.5s\n",
            "[CV 2/5] END .....C=100, gamma=0.01, kernel=rbf;, score=0.986 total time=   0.5s\n",
            "[CV 3/5] END .....C=100, gamma=0.01, kernel=rbf;, score=0.984 total time=   0.5s\n",
            "[CV 4/5] END .....C=100, gamma=0.01, kernel=rbf;, score=0.983 total time=   0.5s\n",
            "[CV 5/5] END .....C=100, gamma=0.01, kernel=rbf;, score=0.985 total time=   0.5s\n",
            "[CV 1/5] END .C=100, gamma=0.01, kernel=sigmoid;, score=0.555 total time=   0.9s\n",
            "[CV 2/5] END .C=100, gamma=0.01, kernel=sigmoid;, score=0.555 total time=   0.8s\n",
            "[CV 3/5] END .C=100, gamma=0.01, kernel=sigmoid;, score=0.555 total time=   0.8s\n",
            "[CV 4/5] END .C=100, gamma=0.01, kernel=sigmoid;, score=0.555 total time=   0.8s\n",
            "[CV 5/5] END .C=100, gamma=0.01, kernel=sigmoid;, score=0.555 total time=   0.8s\n",
            "[CV 1/5] END .C=100, gamma=0.001, kernel=linear;, score=0.950 total time=  59.1s\n",
            "[CV 2/5] END .C=100, gamma=0.001, kernel=linear;, score=0.943 total time= 1.6min\n",
            "[CV 3/5] END .C=100, gamma=0.001, kernel=linear;, score=0.934 total time= 1.1min\n",
            "[CV 4/5] END .C=100, gamma=0.001, kernel=linear;, score=0.936 total time= 1.1min\n",
            "[CV 5/5] END .C=100, gamma=0.001, kernel=linear;, score=0.943 total time= 1.4min\n",
            "[CV 1/5] END ....C=100, gamma=0.001, kernel=rbf;, score=0.960 total time=   0.7s\n",
            "[CV 2/5] END ....C=100, gamma=0.001, kernel=rbf;, score=0.965 total time=   0.7s\n",
            "[CV 3/5] END ....C=100, gamma=0.001, kernel=rbf;, score=0.955 total time=   0.7s\n",
            "[CV 4/5] END ....C=100, gamma=0.001, kernel=rbf;, score=0.963 total time=   0.7s\n",
            "[CV 5/5] END ....C=100, gamma=0.001, kernel=rbf;, score=0.958 total time=   0.7s\n",
            "[CV 1/5] END C=100, gamma=0.001, kernel=sigmoid;, score=0.555 total time=   1.8s\n",
            "[CV 2/5] END C=100, gamma=0.001, kernel=sigmoid;, score=0.555 total time=   1.9s\n",
            "[CV 3/5] END C=100, gamma=0.001, kernel=sigmoid;, score=0.555 total time=   1.9s\n",
            "[CV 4/5] END C=100, gamma=0.001, kernel=sigmoid;, score=0.555 total time=   1.9s\n",
            "[CV 5/5] END C=100, gamma=0.001, kernel=sigmoid;, score=0.555 total time=   1.9s\n",
            "[CV 1/5] END C=100, gamma=0.0001, kernel=linear;, score=0.950 total time=  59.0s\n",
            "[CV 2/5] END C=100, gamma=0.0001, kernel=linear;, score=0.943 total time= 1.6min\n",
            "[CV 3/5] END C=100, gamma=0.0001, kernel=linear;, score=0.934 total time= 1.1min\n",
            "[CV 4/5] END C=100, gamma=0.0001, kernel=linear;, score=0.936 total time= 1.1min\n",
            "[CV 5/5] END C=100, gamma=0.0001, kernel=linear;, score=0.943 total time= 1.4min\n",
            "[CV 1/5] END ...C=100, gamma=0.0001, kernel=rbf;, score=0.938 total time=   0.7s\n",
            "[CV 2/5] END ...C=100, gamma=0.0001, kernel=rbf;, score=0.940 total time=   0.8s\n",
            "[CV 3/5] END ...C=100, gamma=0.0001, kernel=rbf;, score=0.924 total time=   0.7s\n",
            "[CV 4/5] END ...C=100, gamma=0.0001, kernel=rbf;, score=0.932 total time=   0.7s\n",
            "[CV 5/5] END ...C=100, gamma=0.0001, kernel=rbf;, score=0.927 total time=   0.7s\n",
            "[CV 1/5] END C=100, gamma=0.0001, kernel=sigmoid;, score=0.353 total time=   1.5s\n",
            "[CV 2/5] END C=100, gamma=0.0001, kernel=sigmoid;, score=0.349 total time=   1.4s\n",
            "[CV 3/5] END C=100, gamma=0.0001, kernel=sigmoid;, score=0.364 total time=   1.5s\n",
            "[CV 4/5] END C=100, gamma=0.0001, kernel=sigmoid;, score=0.373 total time=   1.5s\n",
            "[CV 5/5] END C=100, gamma=0.0001, kernel=sigmoid;, score=0.784 total time=   0.5s\n",
            "[CV 1/5] END ....C=1000, gamma=1, kernel=linear;, score=0.951 total time= 1.5min\n",
            "[CV 2/5] END ....C=1000, gamma=1, kernel=linear;, score=0.939 total time= 2.0min\n",
            "[CV 3/5] END ....C=1000, gamma=1, kernel=linear;, score=0.931 total time= 1.8min\n",
            "[CV 4/5] END ....C=1000, gamma=1, kernel=linear;, score=0.935 total time= 1.4min\n",
            "[CV 5/5] END ....C=1000, gamma=1, kernel=linear;, score=0.941 total time= 1.7min\n",
            "[CV 1/5] END .......C=1000, gamma=1, kernel=rbf;, score=0.885 total time=   2.0s\n",
            "[CV 2/5] END .......C=1000, gamma=1, kernel=rbf;, score=0.898 total time=   2.0s\n",
            "[CV 3/5] END .......C=1000, gamma=1, kernel=rbf;, score=0.904 total time=   1.9s\n",
            "[CV 4/5] END .......C=1000, gamma=1, kernel=rbf;, score=0.906 total time=   2.0s\n",
            "[CV 5/5] END .......C=1000, gamma=1, kernel=rbf;, score=0.905 total time=   2.1s\n",
            "[CV 1/5] END ...C=1000, gamma=1, kernel=sigmoid;, score=0.555 total time=   0.8s\n",
            "[CV 2/5] END ...C=1000, gamma=1, kernel=sigmoid;, score=0.555 total time=   0.8s\n",
            "[CV 3/5] END ...C=1000, gamma=1, kernel=sigmoid;, score=0.555 total time=   0.8s\n",
            "[CV 4/5] END ...C=1000, gamma=1, kernel=sigmoid;, score=0.555 total time=   0.8s\n",
            "[CV 5/5] END ...C=1000, gamma=1, kernel=sigmoid;, score=0.555 total time=   0.8s\n",
            "[CV 1/5] END ..C=1000, gamma=0.1, kernel=linear;, score=0.951 total time= 1.5min\n",
            "[CV 2/5] END ..C=1000, gamma=0.1, kernel=linear;, score=0.939 total time= 2.0min\n",
            "[CV 3/5] END ..C=1000, gamma=0.1, kernel=linear;, score=0.931 total time= 1.8min\n",
            "[CV 4/5] END ..C=1000, gamma=0.1, kernel=linear;, score=0.935 total time= 1.4min\n",
            "[CV 5/5] END ..C=1000, gamma=0.1, kernel=linear;, score=0.941 total time= 1.7min\n",
            "[CV 1/5] END .....C=1000, gamma=0.1, kernel=rbf;, score=0.991 total time=   2.2s\n",
            "[CV 2/5] END .....C=1000, gamma=0.1, kernel=rbf;, score=0.994 total time=   2.2s\n",
            "[CV 3/5] END .....C=1000, gamma=0.1, kernel=rbf;, score=0.989 total time=   2.3s\n",
            "[CV 4/5] END .....C=1000, gamma=0.1, kernel=rbf;, score=0.997 total time=   2.3s\n",
            "[CV 5/5] END .....C=1000, gamma=0.1, kernel=rbf;, score=0.996 total time=   2.3s\n",
            "[CV 1/5] END .C=1000, gamma=0.1, kernel=sigmoid;, score=0.555 total time=   0.8s\n",
            "[CV 2/5] END .C=1000, gamma=0.1, kernel=sigmoid;, score=0.555 total time=   0.8s\n",
            "[CV 3/5] END .C=1000, gamma=0.1, kernel=sigmoid;, score=0.555 total time=   0.8s\n",
            "[CV 4/5] END .C=1000, gamma=0.1, kernel=sigmoid;, score=0.555 total time=   0.8s\n",
            "[CV 5/5] END .C=1000, gamma=0.1, kernel=sigmoid;, score=0.555 total time=   0.9s\n",
            "[CV 1/5] END .C=1000, gamma=0.01, kernel=linear;, score=0.951 total time= 1.5min\n",
            "[CV 2/5] END .C=1000, gamma=0.01, kernel=linear;, score=0.939 total time= 2.0min\n",
            "[CV 3/5] END .C=1000, gamma=0.01, kernel=linear;, score=0.931 total time= 1.8min\n",
            "[CV 4/5] END .C=1000, gamma=0.01, kernel=linear;, score=0.935 total time= 1.4min\n",
            "[CV 5/5] END .C=1000, gamma=0.01, kernel=linear;, score=0.941 total time= 1.7min\n",
            "[CV 1/5] END ....C=1000, gamma=0.01, kernel=rbf;, score=0.977 total time=   0.5s\n",
            "[CV 2/5] END ....C=1000, gamma=0.01, kernel=rbf;, score=0.984 total time=   0.5s\n",
            "[CV 3/5] END ....C=1000, gamma=0.01, kernel=rbf;, score=0.982 total time=   0.5s\n",
            "[CV 4/5] END ....C=1000, gamma=0.01, kernel=rbf;, score=0.984 total time=   0.5s\n",
            "[CV 5/5] END ....C=1000, gamma=0.01, kernel=rbf;, score=0.984 total time=   0.5s\n",
            "[CV 1/5] END C=1000, gamma=0.01, kernel=sigmoid;, score=0.555 total time=   0.8s\n",
            "[CV 2/5] END C=1000, gamma=0.01, kernel=sigmoid;, score=0.555 total time=   0.8s\n",
            "[CV 3/5] END C=1000, gamma=0.01, kernel=sigmoid;, score=0.555 total time=   0.8s\n",
            "[CV 4/5] END C=1000, gamma=0.01, kernel=sigmoid;, score=0.555 total time=   0.8s\n",
            "[CV 5/5] END C=1000, gamma=0.01, kernel=sigmoid;, score=0.555 total time=   0.8s\n",
            "[CV 1/5] END C=1000, gamma=0.001, kernel=linear;, score=0.951 total time= 1.5min\n",
            "[CV 2/5] END C=1000, gamma=0.001, kernel=linear;, score=0.939 total time= 2.0min\n",
            "[CV 3/5] END C=1000, gamma=0.001, kernel=linear;, score=0.931 total time= 1.8min\n",
            "[CV 4/5] END C=1000, gamma=0.001, kernel=linear;, score=0.935 total time= 1.4min\n",
            "[CV 5/5] END C=1000, gamma=0.001, kernel=linear;, score=0.941 total time= 1.7min\n",
            "[CV 1/5] END ...C=1000, gamma=0.001, kernel=rbf;, score=0.962 total time=   1.2s\n",
            "[CV 2/5] END ...C=1000, gamma=0.001, kernel=rbf;, score=0.963 total time=   1.3s\n",
            "[CV 3/5] END ...C=1000, gamma=0.001, kernel=rbf;, score=0.958 total time=   1.2s\n",
            "[CV 4/5] END ...C=1000, gamma=0.001, kernel=rbf;, score=0.962 total time=   1.1s\n",
            "[CV 5/5] END ...C=1000, gamma=0.001, kernel=rbf;, score=0.964 total time=   1.3s\n",
            "[CV 1/5] END C=1000, gamma=0.001, kernel=sigmoid;, score=0.400 total time=   1.8s\n",
            "[CV 2/5] END C=1000, gamma=0.001, kernel=sigmoid;, score=0.396 total time=   1.7s\n",
            "[CV 3/5] END C=1000, gamma=0.001, kernel=sigmoid;, score=0.392 total time=   1.7s\n",
            "[CV 4/5] END C=1000, gamma=0.001, kernel=sigmoid;, score=0.410 total time=   1.7s\n",
            "[CV 5/5] END C=1000, gamma=0.001, kernel=sigmoid;, score=0.396 total time=   1.8s\n",
            "[CV 1/5] END C=1000, gamma=0.0001, kernel=linear;, score=0.951 total time= 1.5min\n",
            "[CV 2/5] END C=1000, gamma=0.0001, kernel=linear;, score=0.939 total time= 2.0min\n",
            "[CV 3/5] END C=1000, gamma=0.0001, kernel=linear;, score=0.931 total time= 1.8min\n",
            "[CV 4/5] END C=1000, gamma=0.0001, kernel=linear;, score=0.935 total time= 1.4min\n",
            "[CV 1/5] END ..C=1000, gamma=0.0001, kernel=rbf;, score=0.944 total time=   0.9s\n",
            "[CV 2/5] END ..C=1000, gamma=0.0001, kernel=rbf;, score=0.946 total time=   1.0s\n",
            "[CV 3/5] END ..C=1000, gamma=0.0001, kernel=rbf;, score=0.944 total time=   1.0s\n",
            "[CV 4/5] END ..C=1000, gamma=0.0001, kernel=rbf;, score=0.945 total time=   0.9s\n",
            "[CV 5/5] END ..C=1000, gamma=0.0001, kernel=rbf;, score=0.940 total time=   1.0s\n",
            "[CV 1/5] END C=1000, gamma=0.0001, kernel=sigmoid;, score=0.353 total time=   1.5s\n",
            "[CV 2/5] END C=1000, gamma=0.0001, kernel=sigmoid;, score=0.349 total time=   1.5s\n",
            "[CV 3/5] END C=1000, gamma=0.0001, kernel=sigmoid;, score=0.364 total time=   1.4s\n",
            "[CV 4/5] END C=1000, gamma=0.0001, kernel=sigmoid;, score=0.373 total time=   1.5s\n",
            "[CV 5/5] END C=1000, gamma=0.0001, kernel=sigmoid;, score=0.784 total time=   0.5s\n",
            "{'C': 10, 'gamma': 0.1, 'kernel': 'rbf'}\n",
            "SVC(C=10, gamma=0.1)\n"
          ]
        }
      ]
    },
    {
      "cell_type": "code",
      "source": [
        "# sử dụng gridSearchgridSearch\n",
        "from sklearn.model_selection import GridSearchCV\n",
        " \n",
        "# defining parameter range\n",
        "param_grid = {'C': [0.1, 1, 10, 100, 1000],\n",
        "              'gamma': [1, 0.1, 0.01, 0.001, 0.0001],\n",
        "              'kernel': ['linear','rbf',\"sigmoid\"]}\n",
        " \n",
        "grid = GridSearchCV(SVC(), param_grid, refit = True, verbose = 3,cv=5)\n",
        "# fitting the model for grid search\n",
        "grid.fit(X_resample,y_resample)\n",
        "# print best parameter after tuning\n",
        "print(grid.best_params_)\n",
        "# print how our model looks after hyper-parameter tuning\n",
        "print(grid.best_estimator_)"
      ],
      "metadata": {
        "colab": {
          "base_uri": "https://localhost:8080/"
        },
        "id": "4nsv_Qi0Go8P",
        "outputId": "6fc64584-eb68-4e38-bf5b-3192d56a1b5e"
      },
      "execution_count": null,
      "outputs": [
        {
          "output_type": "stream",
          "name": "stdout",
          "text": [
            "Fitting 5 folds for each of 75 candidates, totalling 375 fits\n",
            "[CV 1/5] END .....C=0.1, gamma=1, kernel=linear;, score=0.854 total time=   2.6s\n",
            "[CV 2/5] END .....C=0.1, gamma=1, kernel=linear;, score=0.846 total time=   2.6s\n",
            "[CV 3/5] END .....C=0.1, gamma=1, kernel=linear;, score=0.854 total time=   2.6s\n",
            "[CV 4/5] END .....C=0.1, gamma=1, kernel=linear;, score=0.855 total time=   2.5s\n",
            "[CV 5/5] END .....C=0.1, gamma=1, kernel=linear;, score=0.874 total time=   2.6s\n",
            "[CV 1/5] END ........C=0.1, gamma=1, kernel=rbf;, score=0.553 total time=   4.1s\n",
            "[CV 2/5] END ........C=0.1, gamma=1, kernel=rbf;, score=0.553 total time=   4.0s\n",
            "[CV 3/5] END ........C=0.1, gamma=1, kernel=rbf;, score=0.554 total time=   4.1s\n",
            "[CV 4/5] END ........C=0.1, gamma=1, kernel=rbf;, score=0.554 total time=   4.0s\n",
            "[CV 5/5] END ........C=0.1, gamma=1, kernel=rbf;, score=0.554 total time=   4.1s\n",
            "[CV 1/5] END ....C=0.1, gamma=1, kernel=sigmoid;, score=0.553 total time=   1.5s\n",
            "[CV 2/5] END ....C=0.1, gamma=1, kernel=sigmoid;, score=0.553 total time=   1.5s\n",
            "[CV 3/5] END ....C=0.1, gamma=1, kernel=sigmoid;, score=0.554 total time=   1.5s\n",
            "[CV 4/5] END ....C=0.1, gamma=1, kernel=sigmoid;, score=0.554 total time=   1.5s\n",
            "[CV 5/5] END ....C=0.1, gamma=1, kernel=sigmoid;, score=0.554 total time=   1.5s\n",
            "[CV 1/5] END ...C=0.1, gamma=0.1, kernel=linear;, score=0.854 total time=   2.6s\n",
            "[CV 2/5] END ...C=0.1, gamma=0.1, kernel=linear;, score=0.846 total time=   2.6s\n",
            "[CV 3/5] END ...C=0.1, gamma=0.1, kernel=linear;, score=0.854 total time=   2.6s\n",
            "[CV 4/5] END ...C=0.1, gamma=0.1, kernel=linear;, score=0.855 total time=   2.5s\n",
            "[CV 5/5] END ...C=0.1, gamma=0.1, kernel=linear;, score=0.874 total time=   2.6s\n",
            "[CV 1/5] END ......C=0.1, gamma=0.1, kernel=rbf;, score=0.945 total time=   3.1s\n",
            "[CV 2/5] END ......C=0.1, gamma=0.1, kernel=rbf;, score=0.961 total time=   3.1s\n",
            "[CV 3/5] END ......C=0.1, gamma=0.1, kernel=rbf;, score=0.950 total time=   3.1s\n",
            "[CV 4/5] END ......C=0.1, gamma=0.1, kernel=rbf;, score=0.954 total time=   3.2s\n",
            "[CV 5/5] END ......C=0.1, gamma=0.1, kernel=rbf;, score=0.959 total time=   3.1s\n",
            "[CV 1/5] END ..C=0.1, gamma=0.1, kernel=sigmoid;, score=0.553 total time=   1.5s\n",
            "[CV 2/5] END ..C=0.1, gamma=0.1, kernel=sigmoid;, score=0.553 total time=   1.5s\n",
            "[CV 3/5] END ..C=0.1, gamma=0.1, kernel=sigmoid;, score=0.554 total time=   1.5s\n",
            "[CV 4/5] END ..C=0.1, gamma=0.1, kernel=sigmoid;, score=0.554 total time=   1.5s\n",
            "[CV 5/5] END ..C=0.1, gamma=0.1, kernel=sigmoid;, score=0.554 total time=   1.5s\n",
            "[CV 1/5] END ..C=0.1, gamma=0.01, kernel=linear;, score=0.854 total time=   2.6s\n",
            "[CV 2/5] END ..C=0.1, gamma=0.01, kernel=linear;, score=0.846 total time=   2.6s\n",
            "[CV 3/5] END ..C=0.1, gamma=0.01, kernel=linear;, score=0.854 total time=   2.6s\n",
            "[CV 4/5] END ..C=0.1, gamma=0.01, kernel=linear;, score=0.855 total time=   2.5s\n",
            "[CV 5/5] END ..C=0.1, gamma=0.01, kernel=linear;, score=0.874 total time=   2.6s\n",
            "[CV 1/5] END .....C=0.1, gamma=0.01, kernel=rbf;, score=0.902 total time=   1.3s\n",
            "[CV 2/5] END .....C=0.1, gamma=0.01, kernel=rbf;, score=0.894 total time=   1.3s\n",
            "[CV 3/5] END .....C=0.1, gamma=0.01, kernel=rbf;, score=0.909 total time=   1.3s\n",
            "[CV 4/5] END .....C=0.1, gamma=0.01, kernel=rbf;, score=0.903 total time=   1.3s\n",
            "[CV 5/5] END .....C=0.1, gamma=0.01, kernel=rbf;, score=0.922 total time=   1.4s\n",
            "[CV 1/5] END .C=0.1, gamma=0.01, kernel=sigmoid;, score=0.553 total time=   1.5s\n",
            "[CV 2/5] END .C=0.1, gamma=0.01, kernel=sigmoid;, score=0.553 total time=   1.5s\n",
            "[CV 3/5] END .C=0.1, gamma=0.01, kernel=sigmoid;, score=0.554 total time=   1.5s\n",
            "[CV 4/5] END .C=0.1, gamma=0.01, kernel=sigmoid;, score=0.554 total time=   1.5s\n",
            "[CV 5/5] END .C=0.1, gamma=0.01, kernel=sigmoid;, score=0.554 total time=   1.5s\n",
            "[CV 1/5] END .C=0.1, gamma=0.001, kernel=linear;, score=0.854 total time=   2.6s\n",
            "[CV 2/5] END .C=0.1, gamma=0.001, kernel=linear;, score=0.846 total time=   2.6s\n",
            "[CV 3/5] END .C=0.1, gamma=0.001, kernel=linear;, score=0.854 total time=   2.6s\n",
            "[CV 4/5] END .C=0.1, gamma=0.001, kernel=linear;, score=0.855 total time=   2.5s\n",
            "[CV 5/5] END .C=0.1, gamma=0.001, kernel=linear;, score=0.874 total time=   2.6s\n",
            "[CV 1/5] END ....C=0.1, gamma=0.001, kernel=rbf;, score=0.852 total time=   1.2s\n",
            "[CV 2/5] END ....C=0.1, gamma=0.001, kernel=rbf;, score=0.851 total time=   1.2s\n",
            "[CV 3/5] END ....C=0.1, gamma=0.001, kernel=rbf;, score=0.855 total time=   1.2s\n",
            "[CV 4/5] END ....C=0.1, gamma=0.001, kernel=rbf;, score=0.860 total time=   1.2s\n",
            "[CV 5/5] END ....C=0.1, gamma=0.001, kernel=rbf;, score=0.882 total time=   1.2s\n",
            "[CV 1/5] END C=0.1, gamma=0.001, kernel=sigmoid;, score=0.553 total time=   3.2s\n",
            "[CV 2/5] END C=0.1, gamma=0.001, kernel=sigmoid;, score=0.553 total time=   3.2s\n",
            "[CV 3/5] END C=0.1, gamma=0.001, kernel=sigmoid;, score=0.554 total time=   3.2s\n",
            "[CV 4/5] END C=0.1, gamma=0.001, kernel=sigmoid;, score=0.554 total time=   3.2s\n",
            "[CV 5/5] END C=0.1, gamma=0.001, kernel=sigmoid;, score=0.554 total time=   3.2s\n",
            "[CV 1/5] END C=0.1, gamma=0.0001, kernel=linear;, score=0.854 total time=   2.6s\n",
            "[CV 2/5] END C=0.1, gamma=0.0001, kernel=linear;, score=0.846 total time=   2.6s\n",
            "[CV 3/5] END C=0.1, gamma=0.0001, kernel=linear;, score=0.854 total time=   2.6s\n",
            "[CV 4/5] END C=0.1, gamma=0.0001, kernel=linear;, score=0.855 total time=   2.5s\n",
            "[CV 5/5] END C=0.1, gamma=0.0001, kernel=linear;, score=0.874 total time=   2.6s\n",
            "[CV 1/5] END ...C=0.1, gamma=0.0001, kernel=rbf;, score=0.835 total time=   1.3s\n",
            "[CV 2/5] END ...C=0.1, gamma=0.0001, kernel=rbf;, score=0.830 total time=   1.3s\n",
            "[CV 3/5] END ...C=0.1, gamma=0.0001, kernel=rbf;, score=0.842 total time=   1.3s\n",
            "[CV 4/5] END ...C=0.1, gamma=0.0001, kernel=rbf;, score=0.851 total time=   1.3s\n",
            "[CV 5/5] END ...C=0.1, gamma=0.0001, kernel=rbf;, score=0.867 total time=   1.3s\n",
            "[CV 1/5] END C=0.1, gamma=0.0001, kernel=sigmoid;, score=0.368 total time=   2.6s\n",
            "[CV 2/5] END C=0.1, gamma=0.0001, kernel=sigmoid;, score=0.371 total time=   2.6s\n",
            "[CV 3/5] END C=0.1, gamma=0.0001, kernel=sigmoid;, score=0.370 total time=   2.6s\n",
            "[CV 4/5] END C=0.1, gamma=0.0001, kernel=sigmoid;, score=0.350 total time=   2.6s\n",
            "[CV 5/5] END C=0.1, gamma=0.0001, kernel=sigmoid;, score=0.358 total time=   2.6s\n",
            "[CV 1/5] END .......C=1, gamma=1, kernel=linear;, score=0.854 total time=  10.5s\n",
            "[CV 2/5] END .......C=1, gamma=1, kernel=linear;, score=0.847 total time=  10.6s\n",
            "[CV 3/5] END .......C=1, gamma=1, kernel=linear;, score=0.855 total time=  11.0s\n",
            "[CV 4/5] END .......C=1, gamma=1, kernel=linear;, score=0.857 total time=  10.8s\n",
            "[CV 5/5] END .......C=1, gamma=1, kernel=linear;, score=0.875 total time=  12.8s\n",
            "[CV 1/5] END ..........C=1, gamma=1, kernel=rbf;, score=0.945 total time=   5.1s\n",
            "[CV 2/5] END ..........C=1, gamma=1, kernel=rbf;, score=0.944 total time=   4.8s\n",
            "[CV 3/5] END ..........C=1, gamma=1, kernel=rbf;, score=0.936 total time=   5.1s\n",
            "[CV 4/5] END ..........C=1, gamma=1, kernel=rbf;, score=0.939 total time=   4.8s\n",
            "[CV 5/5] END ..........C=1, gamma=1, kernel=rbf;, score=0.938 total time=   4.7s\n",
            "[CV 1/5] END ......C=1, gamma=1, kernel=sigmoid;, score=0.553 total time=   1.5s\n",
            "[CV 2/5] END ......C=1, gamma=1, kernel=sigmoid;, score=0.553 total time=   1.5s\n",
            "[CV 3/5] END ......C=1, gamma=1, kernel=sigmoid;, score=0.554 total time=   1.5s\n",
            "[CV 4/5] END ......C=1, gamma=1, kernel=sigmoid;, score=0.554 total time=   1.5s\n",
            "[CV 5/5] END ......C=1, gamma=1, kernel=sigmoid;, score=0.554 total time=   1.5s\n",
            "[CV 1/5] END .....C=1, gamma=0.1, kernel=linear;, score=0.854 total time=  10.4s\n",
            "[CV 2/5] END .....C=1, gamma=0.1, kernel=linear;, score=0.847 total time=  10.7s\n",
            "[CV 3/5] END .....C=1, gamma=0.1, kernel=linear;, score=0.855 total time=  10.9s\n",
            "[CV 4/5] END .....C=1, gamma=0.1, kernel=linear;, score=0.857 total time=  10.9s\n",
            "[CV 5/5] END .....C=1, gamma=0.1, kernel=linear;, score=0.875 total time=  12.7s\n",
            "[CV 1/5] END ........C=1, gamma=0.1, kernel=rbf;, score=0.996 total time=   2.2s\n",
            "[CV 2/5] END ........C=1, gamma=0.1, kernel=rbf;, score=0.998 total time=   2.1s\n",
            "[CV 3/5] END ........C=1, gamma=0.1, kernel=rbf;, score=0.993 total time=   2.1s\n",
            "[CV 4/5] END ........C=1, gamma=0.1, kernel=rbf;, score=0.996 total time=   2.1s\n",
            "[CV 5/5] END ........C=1, gamma=0.1, kernel=rbf;, score=0.993 total time=   2.1s\n",
            "[CV 1/5] END ....C=1, gamma=0.1, kernel=sigmoid;, score=0.553 total time=   1.5s\n",
            "[CV 2/5] END ....C=1, gamma=0.1, kernel=sigmoid;, score=0.553 total time=   1.5s\n",
            "[CV 3/5] END ....C=1, gamma=0.1, kernel=sigmoid;, score=0.554 total time=   1.5s\n",
            "[CV 4/5] END ....C=1, gamma=0.1, kernel=sigmoid;, score=0.554 total time=   1.5s\n",
            "[CV 5/5] END ....C=1, gamma=0.1, kernel=sigmoid;, score=0.554 total time=   1.5s\n",
            "[CV 1/5] END ....C=1, gamma=0.01, kernel=linear;, score=0.854 total time=  10.4s\n",
            "[CV 2/5] END ....C=1, gamma=0.01, kernel=linear;, score=0.847 total time=  10.6s\n",
            "[CV 3/5] END ....C=1, gamma=0.01, kernel=linear;, score=0.855 total time=  11.0s\n",
            "[CV 4/5] END ....C=1, gamma=0.01, kernel=linear;, score=0.857 total time=  10.8s\n",
            "[CV 5/5] END ....C=1, gamma=0.01, kernel=linear;, score=0.875 total time=  12.8s\n",
            "[CV 1/5] END .......C=1, gamma=0.01, kernel=rbf;, score=0.945 total time=   0.9s\n",
            "[CV 2/5] END .......C=1, gamma=0.01, kernel=rbf;, score=0.947 total time=   0.9s\n",
            "[CV 3/5] END .......C=1, gamma=0.01, kernel=rbf;, score=0.948 total time=   0.9s\n",
            "[CV 4/5] END .......C=1, gamma=0.01, kernel=rbf;, score=0.956 total time=   0.9s\n",
            "[CV 5/5] END .......C=1, gamma=0.01, kernel=rbf;, score=0.956 total time=   0.9s\n",
            "[CV 1/5] END ...C=1, gamma=0.01, kernel=sigmoid;, score=0.553 total time=   1.5s\n",
            "[CV 2/5] END ...C=1, gamma=0.01, kernel=sigmoid;, score=0.553 total time=   1.5s\n",
            "[CV 3/5] END ...C=1, gamma=0.01, kernel=sigmoid;, score=0.554 total time=   1.5s\n",
            "[CV 4/5] END ...C=1, gamma=0.01, kernel=sigmoid;, score=0.554 total time=   1.5s\n",
            "[CV 5/5] END ...C=1, gamma=0.01, kernel=sigmoid;, score=0.554 total time=   1.5s\n",
            "[CV 1/5] END ...C=1, gamma=0.001, kernel=linear;, score=0.854 total time=  10.5s\n",
            "[CV 2/5] END ...C=1, gamma=0.001, kernel=linear;, score=0.847 total time=  10.7s\n",
            "[CV 3/5] END ...C=1, gamma=0.001, kernel=linear;, score=0.855 total time=  10.9s\n",
            "[CV 4/5] END ...C=1, gamma=0.001, kernel=linear;, score=0.857 total time=  10.9s\n",
            "[CV 5/5] END ...C=1, gamma=0.001, kernel=linear;, score=0.875 total time=  12.8s\n",
            "[CV 1/5] END ......C=1, gamma=0.001, kernel=rbf;, score=0.877 total time=   1.1s\n",
            "[CV 2/5] END ......C=1, gamma=0.001, kernel=rbf;, score=0.869 total time=   1.1s\n",
            "[CV 3/5] END ......C=1, gamma=0.001, kernel=rbf;, score=0.878 total time=   1.1s\n",
            "[CV 4/5] END ......C=1, gamma=0.001, kernel=rbf;, score=0.882 total time=   1.1s\n",
            "[CV 5/5] END ......C=1, gamma=0.001, kernel=rbf;, score=0.897 total time=   1.1s\n",
            "[CV 1/5] END ..C=1, gamma=0.001, kernel=sigmoid;, score=0.553 total time=   3.2s\n",
            "[CV 2/5] END ..C=1, gamma=0.001, kernel=sigmoid;, score=0.553 total time=   3.2s\n",
            "[CV 3/5] END ..C=1, gamma=0.001, kernel=sigmoid;, score=0.554 total time=   3.2s\n",
            "[CV 4/5] END ..C=1, gamma=0.001, kernel=sigmoid;, score=0.554 total time=   3.1s\n",
            "[CV 5/5] END ..C=1, gamma=0.001, kernel=sigmoid;, score=0.554 total time=   3.2s\n",
            "[CV 1/5] END ..C=1, gamma=0.0001, kernel=linear;, score=0.854 total time=  10.4s\n",
            "[CV 2/5] END ..C=1, gamma=0.0001, kernel=linear;, score=0.847 total time=  10.6s\n",
            "[CV 3/5] END ..C=1, gamma=0.0001, kernel=linear;, score=0.855 total time=  10.8s\n",
            "[CV 4/5] END ..C=1, gamma=0.0001, kernel=linear;, score=0.857 total time=  10.8s\n",
            "[CV 5/5] END ..C=1, gamma=0.0001, kernel=linear;, score=0.875 total time=  12.7s\n",
            "[CV 1/5] END .....C=1, gamma=0.0001, kernel=rbf;, score=0.848 total time=   1.1s\n",
            "[CV 2/5] END .....C=1, gamma=0.0001, kernel=rbf;, score=0.842 total time=   1.2s\n",
            "[CV 3/5] END .....C=1, gamma=0.0001, kernel=rbf;, score=0.847 total time=   1.2s\n",
            "[CV 4/5] END .....C=1, gamma=0.0001, kernel=rbf;, score=0.855 total time=   1.2s\n",
            "[CV 5/5] END .....C=1, gamma=0.0001, kernel=rbf;, score=0.878 total time=   1.2s\n",
            "[CV 1/5] END .C=1, gamma=0.0001, kernel=sigmoid;, score=0.368 total time=   2.5s\n",
            "[CV 2/5] END .C=1, gamma=0.0001, kernel=sigmoid;, score=0.369 total time=   2.5s\n",
            "[CV 3/5] END .C=1, gamma=0.0001, kernel=sigmoid;, score=0.370 total time=   2.5s\n",
            "[CV 4/5] END .C=1, gamma=0.0001, kernel=sigmoid;, score=0.350 total time=   2.5s\n",
            "[CV 5/5] END .C=1, gamma=0.0001, kernel=sigmoid;, score=0.358 total time=   2.5s\n",
            "[CV 1/5] END ......C=10, gamma=1, kernel=linear;, score=0.852 total time= 1.1min\n",
            "[CV 2/5] END ......C=10, gamma=1, kernel=linear;, score=0.849 total time= 1.4min\n",
            "[CV 3/5] END ......C=10, gamma=1, kernel=linear;, score=0.855 total time= 1.0min\n",
            "[CV 4/5] END ......C=10, gamma=1, kernel=linear;, score=0.858 total time= 1.0min\n",
            "[CV 5/5] END ......C=10, gamma=1, kernel=linear;, score=0.874 total time= 1.3min\n",
            "[CV 1/5] END .........C=10, gamma=1, kernel=rbf;, score=0.949 total time=   4.9s\n",
            "[CV 2/5] END .........C=10, gamma=1, kernel=rbf;, score=0.949 total time=   4.8s\n",
            "[CV 3/5] END .........C=10, gamma=1, kernel=rbf;, score=0.942 total time=   4.8s\n",
            "[CV 4/5] END .........C=10, gamma=1, kernel=rbf;, score=0.945 total time=   4.8s\n",
            "[CV 5/5] END .........C=10, gamma=1, kernel=rbf;, score=0.943 total time=   4.7s\n",
            "[CV 1/5] END .....C=10, gamma=1, kernel=sigmoid;, score=0.553 total time=   1.5s\n",
            "[CV 2/5] END .....C=10, gamma=1, kernel=sigmoid;, score=0.553 total time=   1.5s\n",
            "[CV 3/5] END .....C=10, gamma=1, kernel=sigmoid;, score=0.554 total time=   1.5s\n",
            "[CV 4/5] END .....C=10, gamma=1, kernel=sigmoid;, score=0.554 total time=   1.5s\n",
            "[CV 5/5] END .....C=10, gamma=1, kernel=sigmoid;, score=0.554 total time=   1.5s\n",
            "[CV 1/5] END ....C=10, gamma=0.1, kernel=linear;, score=0.852 total time= 1.1min\n",
            "[CV 2/5] END ....C=10, gamma=0.1, kernel=linear;, score=0.849 total time= 1.4min\n",
            "[CV 3/5] END ....C=10, gamma=0.1, kernel=linear;, score=0.855 total time= 1.0min\n",
            "[CV 4/5] END ....C=10, gamma=0.1, kernel=linear;, score=0.858 total time= 1.0min\n",
            "[CV 5/5] END ....C=10, gamma=0.1, kernel=linear;, score=0.874 total time= 1.3min\n",
            "[CV 1/5] END .......C=10, gamma=0.1, kernel=rbf;, score=0.996 total time=   2.1s\n",
            "[CV 2/5] END .......C=10, gamma=0.1, kernel=rbf;, score=0.998 total time=   2.1s\n",
            "[CV 3/5] END .......C=10, gamma=0.1, kernel=rbf;, score=0.994 total time=   2.1s\n",
            "[CV 4/5] END .......C=10, gamma=0.1, kernel=rbf;, score=0.998 total time=   2.1s\n",
            "[CV 5/5] END .......C=10, gamma=0.1, kernel=rbf;, score=0.994 total time=   2.1s\n",
            "[CV 1/5] END ...C=10, gamma=0.1, kernel=sigmoid;, score=0.553 total time=   1.5s\n",
            "[CV 2/5] END ...C=10, gamma=0.1, kernel=sigmoid;, score=0.553 total time=   1.5s\n",
            "[CV 3/5] END ...C=10, gamma=0.1, kernel=sigmoid;, score=0.554 total time=   1.5s\n",
            "[CV 4/5] END ...C=10, gamma=0.1, kernel=sigmoid;, score=0.554 total time=   1.5s\n",
            "[CV 5/5] END ...C=10, gamma=0.1, kernel=sigmoid;, score=0.554 total time=   1.5s\n",
            "[CV 1/5] END ...C=10, gamma=0.01, kernel=linear;, score=0.852 total time= 1.1min\n",
            "[CV 2/5] END ...C=10, gamma=0.01, kernel=linear;, score=0.849 total time= 1.4min\n",
            "[CV 3/5] END ...C=10, gamma=0.01, kernel=linear;, score=0.855 total time= 1.0min\n",
            "[CV 4/5] END ...C=10, gamma=0.01, kernel=linear;, score=0.858 total time= 1.0min\n",
            "[CV 5/5] END ...C=10, gamma=0.01, kernel=linear;, score=0.874 total time= 1.3min\n",
            "[CV 1/5] END ......C=10, gamma=0.01, kernel=rbf;, score=0.980 total time=   0.6s\n",
            "[CV 2/5] END ......C=10, gamma=0.01, kernel=rbf;, score=0.982 total time=   0.6s\n",
            "[CV 3/5] END ......C=10, gamma=0.01, kernel=rbf;, score=0.984 total time=   0.6s\n",
            "[CV 4/5] END ......C=10, gamma=0.01, kernel=rbf;, score=0.981 total time=   0.6s\n",
            "[CV 5/5] END ......C=10, gamma=0.01, kernel=rbf;, score=0.981 total time=   0.6s\n",
            "[CV 1/5] END ..C=10, gamma=0.01, kernel=sigmoid;, score=0.553 total time=   1.5s\n",
            "[CV 2/5] END ..C=10, gamma=0.01, kernel=sigmoid;, score=0.553 total time=   1.5s\n",
            "[CV 3/5] END ..C=10, gamma=0.01, kernel=sigmoid;, score=0.554 total time=   1.5s\n",
            "[CV 4/5] END ..C=10, gamma=0.01, kernel=sigmoid;, score=0.554 total time=   1.5s\n",
            "[CV 5/5] END ..C=10, gamma=0.01, kernel=sigmoid;, score=0.554 total time=   1.5s\n",
            "[CV 1/5] END ..C=10, gamma=0.001, kernel=linear;, score=0.852 total time= 1.1min\n",
            "[CV 2/5] END ..C=10, gamma=0.001, kernel=linear;, score=0.849 total time= 1.4min\n",
            "[CV 3/5] END ..C=10, gamma=0.001, kernel=linear;, score=0.855 total time= 1.0min\n",
            "[CV 4/5] END ..C=10, gamma=0.001, kernel=linear;, score=0.858 total time= 1.0min\n",
            "[CV 5/5] END ..C=10, gamma=0.001, kernel=linear;, score=0.874 total time= 1.3min\n",
            "[CV 1/5] END .....C=10, gamma=0.001, kernel=rbf;, score=0.889 total time=   1.1s\n",
            "[CV 2/5] END .....C=10, gamma=0.001, kernel=rbf;, score=0.888 total time=   1.1s\n",
            "[CV 3/5] END .....C=10, gamma=0.001, kernel=rbf;, score=0.900 total time=   1.1s\n",
            "[CV 4/5] END .....C=10, gamma=0.001, kernel=rbf;, score=0.901 total time=   1.1s\n",
            "[CV 5/5] END .....C=10, gamma=0.001, kernel=rbf;, score=0.909 total time=   1.2s\n",
            "[CV 1/5] END .C=10, gamma=0.001, kernel=sigmoid;, score=0.553 total time=   3.2s\n",
            "[CV 2/5] END .C=10, gamma=0.001, kernel=sigmoid;, score=0.553 total time=   3.2s\n",
            "[CV 3/5] END .C=10, gamma=0.001, kernel=sigmoid;, score=0.554 total time=   3.2s\n",
            "[CV 4/5] END .C=10, gamma=0.001, kernel=sigmoid;, score=0.554 total time=   3.2s\n",
            "[CV 5/5] END .C=10, gamma=0.001, kernel=sigmoid;, score=0.554 total time=   3.2s\n",
            "[CV 1/5] END .C=10, gamma=0.0001, kernel=linear;, score=0.852 total time= 1.1min\n",
            "[CV 2/5] END .C=10, gamma=0.0001, kernel=linear;, score=0.849 total time= 1.4min\n",
            "[CV 3/5] END .C=10, gamma=0.0001, kernel=linear;, score=0.855 total time= 1.0min\n",
            "[CV 4/5] END .C=10, gamma=0.0001, kernel=linear;, score=0.858 total time= 1.0min\n",
            "[CV 5/5] END .C=10, gamma=0.0001, kernel=linear;, score=0.874 total time= 1.3min\n",
            "[CV 1/5] END ....C=10, gamma=0.0001, kernel=rbf;, score=0.851 total time=   1.2s\n",
            "[CV 2/5] END ....C=10, gamma=0.0001, kernel=rbf;, score=0.848 total time=   1.2s\n",
            "[CV 3/5] END ....C=10, gamma=0.0001, kernel=rbf;, score=0.853 total time=   1.2s\n",
            "[CV 4/5] END ....C=10, gamma=0.0001, kernel=rbf;, score=0.856 total time=   1.3s\n",
            "[CV 5/5] END ....C=10, gamma=0.0001, kernel=rbf;, score=0.881 total time=   1.3s\n",
            "[CV 1/5] END C=10, gamma=0.0001, kernel=sigmoid;, score=0.369 total time=   2.5s\n",
            "[CV 2/5] END C=10, gamma=0.0001, kernel=sigmoid;, score=0.368 total time=   2.5s\n",
            "[CV 3/5] END C=10, gamma=0.0001, kernel=sigmoid;, score=0.370 total time=   2.5s\n",
            "[CV 4/5] END C=10, gamma=0.0001, kernel=sigmoid;, score=0.350 total time=   2.4s\n",
            "[CV 5/5] END C=10, gamma=0.0001, kernel=sigmoid;, score=0.358 total time=   2.4s\n",
            "[CV 1/5] END .....C=100, gamma=1, kernel=linear;, score=0.850 total time= 3.1min\n",
            "[CV 2/5] END .....C=100, gamma=1, kernel=linear;, score=0.849 total time= 2.9min\n",
            "[CV 3/5] END .....C=100, gamma=1, kernel=linear;, score=0.849 total time= 2.9min\n",
            "[CV 4/5] END .....C=100, gamma=1, kernel=linear;, score=0.857 total time= 3.3min\n",
            "[CV 5/5] END .....C=100, gamma=1, kernel=linear;, score=0.878 total time= 2.7min\n",
            "[CV 1/5] END ........C=100, gamma=1, kernel=rbf;, score=0.949 total time=   4.9s\n",
            "[CV 2/5] END ........C=100, gamma=1, kernel=rbf;, score=0.949 total time=   4.8s\n",
            "[CV 3/5] END ........C=100, gamma=1, kernel=rbf;, score=0.942 total time=   4.8s\n",
            "[CV 4/5] END ........C=100, gamma=1, kernel=rbf;, score=0.945 total time=   4.8s\n",
            "[CV 5/5] END ........C=100, gamma=1, kernel=rbf;, score=0.943 total time=   4.8s\n",
            "[CV 1/5] END ....C=100, gamma=1, kernel=sigmoid;, score=0.553 total time=   1.5s\n",
            "[CV 2/5] END ....C=100, gamma=1, kernel=sigmoid;, score=0.553 total time=   1.5s\n",
            "[CV 3/5] END ....C=100, gamma=1, kernel=sigmoid;, score=0.554 total time=   1.5s\n",
            "[CV 4/5] END ....C=100, gamma=1, kernel=sigmoid;, score=0.554 total time=   1.5s\n",
            "[CV 5/5] END ....C=100, gamma=1, kernel=sigmoid;, score=0.554 total time=   1.5s\n",
            "[CV 1/5] END ...C=100, gamma=0.1, kernel=linear;, score=0.850 total time= 3.1min\n",
            "[CV 2/5] END ...C=100, gamma=0.1, kernel=linear;, score=0.849 total time= 2.9min\n",
            "[CV 3/5] END ...C=100, gamma=0.1, kernel=linear;, score=0.849 total time= 2.9min\n",
            "[CV 4/5] END ...C=100, gamma=0.1, kernel=linear;, score=0.857 total time= 3.3min\n",
            "[CV 5/5] END ...C=100, gamma=0.1, kernel=linear;, score=0.878 total time= 2.7min\n",
            "[CV 1/5] END ......C=100, gamma=0.1, kernel=rbf;, score=0.996 total time=   2.1s\n",
            "[CV 2/5] END ......C=100, gamma=0.1, kernel=rbf;, score=0.998 total time=   2.1s\n",
            "[CV 3/5] END ......C=100, gamma=0.1, kernel=rbf;, score=0.994 total time=   2.1s\n",
            "[CV 4/5] END ......C=100, gamma=0.1, kernel=rbf;, score=0.998 total time=   2.1s\n",
            "[CV 5/5] END ......C=100, gamma=0.1, kernel=rbf;, score=0.994 total time=   2.1s\n",
            "[CV 1/5] END ..C=100, gamma=0.1, kernel=sigmoid;, score=0.553 total time=   1.5s\n",
            "[CV 2/5] END ..C=100, gamma=0.1, kernel=sigmoid;, score=0.553 total time=   1.5s\n",
            "[CV 3/5] END ..C=100, gamma=0.1, kernel=sigmoid;, score=0.554 total time=   1.5s\n",
            "[CV 4/5] END ..C=100, gamma=0.1, kernel=sigmoid;, score=0.554 total time=   1.5s\n",
            "[CV 5/5] END ..C=100, gamma=0.1, kernel=sigmoid;, score=0.554 total time=   1.5s\n",
            "[CV 1/5] END ..C=100, gamma=0.01, kernel=linear;, score=0.850 total time= 3.1min\n",
            "[CV 2/5] END ..C=100, gamma=0.01, kernel=linear;, score=0.849 total time= 2.9min\n",
            "[CV 3/5] END ..C=100, gamma=0.01, kernel=linear;, score=0.849 total time= 3.0min\n",
            "[CV 4/5] END ..C=100, gamma=0.01, kernel=linear;, score=0.857 total time= 3.3min\n",
            "[CV 5/5] END ..C=100, gamma=0.01, kernel=linear;, score=0.878 total time= 2.7min\n",
            "[CV 1/5] END .....C=100, gamma=0.01, kernel=rbf;, score=0.988 total time=   0.6s\n",
            "[CV 2/5] END .....C=100, gamma=0.01, kernel=rbf;, score=0.985 total time=   0.6s\n",
            "[CV 3/5] END .....C=100, gamma=0.01, kernel=rbf;, score=0.990 total time=   0.6s\n",
            "[CV 4/5] END .....C=100, gamma=0.01, kernel=rbf;, score=0.988 total time=   0.6s\n",
            "[CV 5/5] END .....C=100, gamma=0.01, kernel=rbf;, score=0.987 total time=   0.6s\n",
            "[CV 1/5] END .C=100, gamma=0.01, kernel=sigmoid;, score=0.553 total time=   1.5s\n",
            "[CV 2/5] END .C=100, gamma=0.01, kernel=sigmoid;, score=0.553 total time=   1.5s\n",
            "[CV 3/5] END .C=100, gamma=0.01, kernel=sigmoid;, score=0.554 total time=   1.5s\n",
            "[CV 4/5] END .C=100, gamma=0.01, kernel=sigmoid;, score=0.554 total time=   1.5s\n",
            "[CV 5/5] END .C=100, gamma=0.01, kernel=sigmoid;, score=0.554 total time=   1.5s\n",
            "[CV 1/5] END .C=100, gamma=0.001, kernel=linear;, score=0.850 total time= 3.1min\n",
            "[CV 2/5] END .C=100, gamma=0.001, kernel=linear;, score=0.849 total time= 2.9min\n",
            "[CV 3/5] END .C=100, gamma=0.001, kernel=linear;, score=0.849 total time= 2.9min\n",
            "[CV 4/5] END .C=100, gamma=0.001, kernel=linear;, score=0.857 total time= 3.3min\n",
            "[CV 5/5] END .C=100, gamma=0.001, kernel=linear;, score=0.878 total time= 2.7min\n",
            "[CV 1/5] END ....C=100, gamma=0.001, kernel=rbf;, score=0.922 total time=   1.4s\n",
            "[CV 2/5] END ....C=100, gamma=0.001, kernel=rbf;, score=0.903 total time=   1.3s\n",
            "[CV 3/5] END ....C=100, gamma=0.001, kernel=rbf;, score=0.931 total time=   1.4s\n",
            "[CV 4/5] END ....C=100, gamma=0.001, kernel=rbf;, score=0.929 total time=   1.4s\n",
            "[CV 5/5] END ....C=100, gamma=0.001, kernel=rbf;, score=0.928 total time=   1.5s\n",
            "[CV 1/5] END C=100, gamma=0.001, kernel=sigmoid;, score=0.553 total time=   3.2s\n",
            "[CV 2/5] END C=100, gamma=0.001, kernel=sigmoid;, score=0.553 total time=   3.2s\n",
            "[CV 3/5] END C=100, gamma=0.001, kernel=sigmoid;, score=0.554 total time=   3.2s\n",
            "[CV 4/5] END C=100, gamma=0.001, kernel=sigmoid;, score=0.554 total time=   3.1s\n",
            "[CV 5/5] END C=100, gamma=0.001, kernel=sigmoid;, score=0.554 total time=   3.1s\n",
            "[CV 1/5] END C=100, gamma=0.0001, kernel=linear;, score=0.850 total time= 3.1min\n",
            "[CV 2/5] END C=100, gamma=0.0001, kernel=linear;, score=0.849 total time= 2.9min\n",
            "[CV 3/5] END C=100, gamma=0.0001, kernel=linear;, score=0.849 total time= 2.9min\n",
            "[CV 4/5] END C=100, gamma=0.0001, kernel=linear;, score=0.857 total time= 3.3min\n",
            "[CV 5/5] END C=100, gamma=0.0001, kernel=linear;, score=0.878 total time= 2.7min\n",
            "[CV 1/5] END ...C=100, gamma=0.0001, kernel=rbf;, score=0.866 total time=   1.4s\n",
            "[CV 2/5] END ...C=100, gamma=0.0001, kernel=rbf;, score=0.856 total time=   1.3s\n",
            "[CV 3/5] END ...C=100, gamma=0.0001, kernel=rbf;, score=0.872 total time=   1.5s\n",
            "[CV 4/5] END ...C=100, gamma=0.0001, kernel=rbf;, score=0.874 total time=   1.4s\n",
            "[CV 5/5] END ...C=100, gamma=0.0001, kernel=rbf;, score=0.894 total time=   1.5s\n",
            "[CV 1/5] END C=100, gamma=0.0001, kernel=sigmoid;, score=0.369 total time=   2.5s\n",
            "[CV 2/5] END C=100, gamma=0.0001, kernel=sigmoid;, score=0.368 total time=   2.5s\n",
            "[CV 3/5] END C=100, gamma=0.0001, kernel=sigmoid;, score=0.370 total time=   2.5s\n",
            "[CV 4/5] END C=100, gamma=0.0001, kernel=sigmoid;, score=0.350 total time=   2.5s\n",
            "[CV 5/5] END C=100, gamma=0.0001, kernel=sigmoid;, score=0.358 total time=   2.5s\n",
            "[CV 1/5] END ....C=1000, gamma=1, kernel=linear;, score=0.846 total time= 3.8min\n",
            "[CV 2/5] END ....C=1000, gamma=1, kernel=linear;, score=0.849 total time= 3.5min\n",
            "[CV 3/5] END ....C=1000, gamma=1, kernel=linear;, score=0.846 total time= 2.9min\n",
            "[CV 4/5] END ....C=1000, gamma=1, kernel=linear;, score=0.858 total time= 3.5min\n",
            "[CV 5/5] END ....C=1000, gamma=1, kernel=linear;, score=0.881 total time= 4.2min\n",
            "[CV 1/5] END .......C=1000, gamma=1, kernel=rbf;, score=0.949 total time=   4.8s\n",
            "[CV 2/5] END .......C=1000, gamma=1, kernel=rbf;, score=0.949 total time=   4.8s\n",
            "[CV 3/5] END .......C=1000, gamma=1, kernel=rbf;, score=0.942 total time=   4.8s\n",
            "[CV 4/5] END .......C=1000, gamma=1, kernel=rbf;, score=0.945 total time=   4.7s\n",
            "[CV 5/5] END .......C=1000, gamma=1, kernel=rbf;, score=0.943 total time=   4.8s\n",
            "[CV 1/5] END ...C=1000, gamma=1, kernel=sigmoid;, score=0.553 total time=   1.5s\n",
            "[CV 2/5] END ...C=1000, gamma=1, kernel=sigmoid;, score=0.553 total time=   1.5s\n",
            "[CV 3/5] END ...C=1000, gamma=1, kernel=sigmoid;, score=0.554 total time=   1.5s\n",
            "[CV 4/5] END ...C=1000, gamma=1, kernel=sigmoid;, score=0.554 total time=   1.5s\n",
            "[CV 5/5] END ...C=1000, gamma=1, kernel=sigmoid;, score=0.554 total time=   1.5s\n",
            "[CV 1/5] END ..C=1000, gamma=0.1, kernel=linear;, score=0.846 total time= 3.8min\n",
            "[CV 2/5] END ..C=1000, gamma=0.1, kernel=linear;, score=0.849 total time= 3.4min\n",
            "[CV 3/5] END ..C=1000, gamma=0.1, kernel=linear;, score=0.846 total time= 2.9min\n",
            "[CV 4/5] END ..C=1000, gamma=0.1, kernel=linear;, score=0.858 total time= 3.5min\n",
            "[CV 5/5] END ..C=1000, gamma=0.1, kernel=linear;, score=0.881 total time= 4.1min\n",
            "[CV 1/5] END .....C=1000, gamma=0.1, kernel=rbf;, score=0.996 total time=   2.1s\n",
            "[CV 2/5] END .....C=1000, gamma=0.1, kernel=rbf;, score=0.998 total time=   2.1s\n",
            "[CV 3/5] END .....C=1000, gamma=0.1, kernel=rbf;, score=0.994 total time=   2.0s\n",
            "[CV 4/5] END .....C=1000, gamma=0.1, kernel=rbf;, score=0.998 total time=   2.1s\n",
            "[CV 5/5] END .....C=1000, gamma=0.1, kernel=rbf;, score=0.994 total time=   2.1s\n",
            "[CV 1/5] END .C=1000, gamma=0.1, kernel=sigmoid;, score=0.553 total time=   1.5s\n",
            "[CV 2/5] END .C=1000, gamma=0.1, kernel=sigmoid;, score=0.553 total time=   1.5s\n",
            "[CV 3/5] END .C=1000, gamma=0.1, kernel=sigmoid;, score=0.554 total time=   1.5s\n",
            "[CV 4/5] END .C=1000, gamma=0.1, kernel=sigmoid;, score=0.554 total time=   1.5s\n",
            "[CV 5/5] END .C=1000, gamma=0.1, kernel=sigmoid;, score=0.554 total time=   1.5s\n",
            "[CV 1/5] END .C=1000, gamma=0.01, kernel=linear;, score=0.846 total time= 3.8min\n",
            "[CV 2/5] END .C=1000, gamma=0.01, kernel=linear;, score=0.849 total time= 3.5min\n",
            "[CV 3/5] END .C=1000, gamma=0.01, kernel=linear;, score=0.846 total time= 2.9min\n",
            "[CV 4/5] END .C=1000, gamma=0.01, kernel=linear;, score=0.858 total time= 3.5min\n",
            "[CV 5/5] END .C=1000, gamma=0.01, kernel=linear;, score=0.881 total time= 4.2min\n",
            "[CV 1/5] END ....C=1000, gamma=0.01, kernel=rbf;, score=0.986 total time=   0.6s\n",
            "[CV 2/5] END ....C=1000, gamma=0.01, kernel=rbf;, score=0.983 total time=   0.5s\n",
            "[CV 3/5] END ....C=1000, gamma=0.01, kernel=rbf;, score=0.989 total time=   0.6s\n",
            "[CV 4/5] END ....C=1000, gamma=0.01, kernel=rbf;, score=0.987 total time=   0.6s\n",
            "[CV 5/5] END ....C=1000, gamma=0.01, kernel=rbf;, score=0.987 total time=   0.6s\n",
            "[CV 1/5] END C=1000, gamma=0.01, kernel=sigmoid;, score=0.553 total time=   1.5s\n",
            "[CV 2/5] END C=1000, gamma=0.01, kernel=sigmoid;, score=0.553 total time=   1.5s\n",
            "[CV 3/5] END C=1000, gamma=0.01, kernel=sigmoid;, score=0.554 total time=   1.5s\n",
            "[CV 4/5] END C=1000, gamma=0.01, kernel=sigmoid;, score=0.554 total time=   1.5s\n",
            "[CV 5/5] END C=1000, gamma=0.01, kernel=sigmoid;, score=0.554 total time=   1.5s\n",
            "[CV 1/5] END C=1000, gamma=0.001, kernel=linear;, score=0.846 total time= 3.8min\n",
            "[CV 2/5] END C=1000, gamma=0.001, kernel=linear;, score=0.849 total time= 3.5min\n",
            "[CV 3/5] END C=1000, gamma=0.001, kernel=linear;, score=0.846 total time= 2.9min\n",
            "[CV 4/5] END C=1000, gamma=0.001, kernel=linear;, score=0.858 total time= 3.5min\n",
            "[CV 5/5] END C=1000, gamma=0.001, kernel=linear;, score=0.881 total time= 4.1min\n",
            "[CV 1/5] END ...C=1000, gamma=0.001, kernel=rbf;, score=0.947 total time=   3.0s\n",
            "[CV 2/5] END ...C=1000, gamma=0.001, kernel=rbf;, score=0.935 total time=   3.4s\n",
            "[CV 3/5] END ...C=1000, gamma=0.001, kernel=rbf;, score=0.950 total time=   3.1s\n",
            "[CV 4/5] END ...C=1000, gamma=0.001, kernel=rbf;, score=0.953 total time=   3.1s\n",
            "[CV 5/5] END ...C=1000, gamma=0.001, kernel=rbf;, score=0.945 total time=   3.3s\n",
            "[CV 1/5] END C=1000, gamma=0.001, kernel=sigmoid;, score=0.396 total time=   2.8s\n",
            "[CV 2/5] END C=1000, gamma=0.001, kernel=sigmoid;, score=0.403 total time=   2.9s\n",
            "[CV 3/5] END C=1000, gamma=0.001, kernel=sigmoid;, score=0.391 total time=   2.8s\n",
            "[CV 4/5] END C=1000, gamma=0.001, kernel=sigmoid;, score=0.371 total time=   2.8s\n",
            "[CV 5/5] END C=1000, gamma=0.001, kernel=sigmoid;, score=0.384 total time=   2.9s\n",
            "[CV 1/5] END C=1000, gamma=0.0001, kernel=linear;, score=0.846 total time= 3.8min\n",
            "[CV 2/5] END C=1000, gamma=0.0001, kernel=linear;, score=0.849 total time= 3.5min\n",
            "[CV 3/5] END C=1000, gamma=0.0001, kernel=linear;, score=0.846 total time= 2.9min\n",
            "[CV 4/5] END C=1000, gamma=0.0001, kernel=linear;, score=0.858 total time= 3.5min\n",
            "[CV 5/5] END C=1000, gamma=0.0001, kernel=linear;, score=0.881 total time= 4.1min\n",
            "[CV 1/5] END ..C=1000, gamma=0.0001, kernel=rbf;, score=0.874 total time=   2.2s\n",
            "[CV 2/5] END ..C=1000, gamma=0.0001, kernel=rbf;, score=0.874 total time=   2.2s\n",
            "[CV 3/5] END ..C=1000, gamma=0.0001, kernel=rbf;, score=0.886 total time=   2.2s\n",
            "[CV 4/5] END ..C=1000, gamma=0.0001, kernel=rbf;, score=0.883 total time=   2.3s\n",
            "[CV 5/5] END ..C=1000, gamma=0.0001, kernel=rbf;, score=0.897 total time=   2.3s\n",
            "[CV 1/5] END C=1000, gamma=0.0001, kernel=sigmoid;, score=0.369 total time=   2.5s\n",
            "[CV 2/5] END C=1000, gamma=0.0001, kernel=sigmoid;, score=0.368 total time=   2.4s\n",
            "[CV 3/5] END C=1000, gamma=0.0001, kernel=sigmoid;, score=0.370 total time=   2.5s\n",
            "[CV 4/5] END C=1000, gamma=0.0001, kernel=sigmoid;, score=0.350 total time=   2.4s\n",
            "[CV 5/5] END C=1000, gamma=0.0001, kernel=sigmoid;, score=0.358 total time=   2.4s\n",
            "{'C': 10, 'gamma': 0.1, 'kernel': 'rbf'}\n",
            "SVC(C=10, gamma=0.1)\n"
          ]
        }
      ]
    },
    {
      "cell_type": "code",
      "source": [
        "print(grid.best_params_)\n",
        "# print how our model looks after hyper-parameter tuning\n",
        "print(grid.best_estimator_)\n",
        "print(grid.best_score_)"
      ],
      "metadata": {
        "colab": {
          "base_uri": "https://localhost:8080/"
        },
        "id": "v1vFNLyXoNLv",
        "outputId": "c02f28f2-c2e3-4d38-e956-fdae16ef9aa8"
      },
      "execution_count": null,
      "outputs": [
        {
          "output_type": "stream",
          "name": "stdout",
          "text": [
            "{'C': 10, 'gamma': 0.1, 'kernel': 'rbf'}\n",
            "SVC(C=10, gamma=0.1)\n",
            "0.9934167623249079\n"
          ]
        }
      ]
    },
    {
      "cell_type": "code",
      "source": [
        "from sklearn.metrics import accuracy_score, classification_report, roc_curve,precision_recall_curve, auc,confusion_matrix"
      ],
      "metadata": {
        "id": "Sw5q1BonpA3N"
      },
      "execution_count": null,
      "outputs": []
    },
    {
      "cell_type": "code",
      "source": [
        "grid_predictions = grid.predict(X_test)\n",
        " \n",
        "# print classification report\n",
        "print(classification_report(Y_test, grid_predictions))"
      ],
      "metadata": {
        "colab": {
          "base_uri": "https://localhost:8080/"
        },
        "id": "wuVJd977osKQ",
        "outputId": "b325a8ea-7079-4744-f229-89aafd0bec34"
      },
      "execution_count": null,
      "outputs": [
        {
          "output_type": "stream",
          "name": "stdout",
          "text": [
            "              precision    recall  f1-score   support\n",
            "\n",
            "           0       0.99      1.00      0.99      1093\n",
            "           1       1.00      0.99      0.99      1382\n",
            "\n",
            "    accuracy                           0.99      2475\n",
            "   macro avg       0.99      0.99      0.99      2475\n",
            "weighted avg       0.99      0.99      0.99      2475\n",
            "\n"
          ]
        }
      ]
    },
    {
      "cell_type": "markdown",
      "source": [
        "### Sử dụng Random Search"
      ],
      "metadata": {
        "id": "4szDyAl4kQ-K"
      }
    },
    {
      "cell_type": "code",
      "source": [
        "    from sklearn.model_selection import RandomizedSearchCV\n",
        "    from sklearn.ensemble import RandomForestClassifier\n",
        "# Sử dụng RandomSearch\n",
        "    model=SVC()\n",
        "    # Create the random grid\n",
        "    param_grid = {'C': [0.1, 1, 10, 100, 1000],\n",
        "                  'gamma': [1, 0.1, 0.01, 0.001, 0.0001],\n",
        "                  'kernel': ['linear','rbf',\"sigmoid\"]}\n",
        "     # Sử dụng hàm RandomizedSearchCV của thư viện sklearn để điểu chỉnh siêu tham số\n",
        "    rand = RandomizedSearchCV(model,param_grid, scoring='accuracy',refit = True, verbose = 3,cv=5)\n",
        "    # Tiến hành đào tạo\n",
        "    rand.fit(X_train, Y_train)\n",
        "    # In ra kết quả\n",
        "    print(\"The best parameters are %s with a score of %0.2f\"\n",
        "          % (rand.best_params_, rand.best_score_))"
      ],
      "metadata": {
        "id": "VLWUWVEyuUkZ",
        "colab": {
          "base_uri": "https://localhost:8080/"
        },
        "outputId": "fb007890-8d67-4ed2-b177-d38eb07d4441"
      },
      "execution_count": null,
      "outputs": [
        {
          "output_type": "stream",
          "name": "stdout",
          "text": [
            "Fitting 5 folds for each of 10 candidates, totalling 50 fits\n",
            "[CV 1/5] END .....C=100, gamma=0.01, kernel=rbf;, score=0.977 total time=   0.5s\n",
            "[CV 2/5] END .....C=100, gamma=0.01, kernel=rbf;, score=0.986 total time=   0.5s\n",
            "[CV 3/5] END .....C=100, gamma=0.01, kernel=rbf;, score=0.984 total time=   0.5s\n",
            "[CV 4/5] END .....C=100, gamma=0.01, kernel=rbf;, score=0.983 total time=   0.5s\n",
            "[CV 5/5] END .....C=100, gamma=0.01, kernel=rbf;, score=0.985 total time=   0.5s\n",
            "[CV 1/5] END .....C=0.1, gamma=1, kernel=linear;, score=0.945 total time=   1.3s\n",
            "[CV 2/5] END .....C=0.1, gamma=1, kernel=linear;, score=0.938 total time=   1.2s\n",
            "[CV 3/5] END .....C=0.1, gamma=1, kernel=linear;, score=0.927 total time=   1.0s\n",
            "[CV 4/5] END .....C=0.1, gamma=1, kernel=linear;, score=0.930 total time=   1.1s\n",
            "[CV 5/5] END .....C=0.1, gamma=1, kernel=linear;, score=0.932 total time=   1.2s\n",
            "[CV 1/5] END C=1000, gamma=0.0001, kernel=linear;, score=0.951 total time= 1.5min\n",
            "[CV 2/5] END C=1000, gamma=0.0001, kernel=linear;, score=0.939 total time= 2.0min\n",
            "[CV 3/5] END C=1000, gamma=0.0001, kernel=linear;, score=0.931 total time= 1.8min\n",
            "[CV 4/5] END C=1000, gamma=0.0001, kernel=linear;, score=0.935 total time= 1.4min\n",
            "[CV 5/5] END C=1000, gamma=0.0001, kernel=linear;, score=0.941 total time= 1.7min\n",
            "[CV 1/5] END ......C=100, gamma=0.1, kernel=rbf;, score=0.991 total time=   2.2s\n",
            "[CV 2/5] END ......C=100, gamma=0.1, kernel=rbf;, score=0.994 total time=   2.2s\n",
            "[CV 3/5] END ......C=100, gamma=0.1, kernel=rbf;, score=0.989 total time=   2.3s\n",
            "[CV 4/5] END ......C=100, gamma=0.1, kernel=rbf;, score=0.997 total time=   2.3s\n",
            "[CV 5/5] END ......C=100, gamma=0.1, kernel=rbf;, score=0.996 total time=   2.3s\n",
            "[CV 1/5] END ....C=100, gamma=0.001, kernel=rbf;, score=0.960 total time=   0.7s\n",
            "[CV 2/5] END ....C=100, gamma=0.001, kernel=rbf;, score=0.965 total time=   0.7s\n",
            "[CV 3/5] END ....C=100, gamma=0.001, kernel=rbf;, score=0.955 total time=   0.7s\n",
            "[CV 4/5] END ....C=100, gamma=0.001, kernel=rbf;, score=0.963 total time=   0.7s\n",
            "[CV 5/5] END ....C=100, gamma=0.001, kernel=rbf;, score=0.958 total time=   0.7s\n",
            "[CV 1/5] END .....C=10, gamma=1, kernel=sigmoid;, score=0.555 total time=   0.9s\n",
            "[CV 2/5] END .....C=10, gamma=1, kernel=sigmoid;, score=0.555 total time=   0.8s\n",
            "[CV 3/5] END .....C=10, gamma=1, kernel=sigmoid;, score=0.555 total time=   0.8s\n",
            "[CV 4/5] END .....C=10, gamma=1, kernel=sigmoid;, score=0.555 total time=   0.8s\n",
            "[CV 5/5] END .....C=10, gamma=1, kernel=sigmoid;, score=0.555 total time=   0.8s\n",
            "[CV 1/5] END .......C=1, gamma=0.01, kernel=rbf;, score=0.944 total time=   0.7s\n",
            "[CV 2/5] END .......C=1, gamma=0.01, kernel=rbf;, score=0.945 total time=   0.7s\n",
            "[CV 3/5] END .......C=1, gamma=0.01, kernel=rbf;, score=0.949 total time=   0.7s\n",
            "[CV 4/5] END .......C=1, gamma=0.01, kernel=rbf;, score=0.944 total time=   0.7s\n",
            "[CV 5/5] END .......C=1, gamma=0.01, kernel=rbf;, score=0.947 total time=   0.7s\n",
            "[CV 1/5] END ....C=10, gamma=0.0001, kernel=rbf;, score=0.872 total time=   0.8s\n",
            "[CV 2/5] END ....C=10, gamma=0.0001, kernel=rbf;, score=0.887 total time=   0.8s\n",
            "[CV 3/5] END ....C=10, gamma=0.0001, kernel=rbf;, score=0.865 total time=   0.8s\n",
            "[CV 4/5] END ....C=10, gamma=0.0001, kernel=rbf;, score=0.875 total time=   0.8s\n",
            "[CV 5/5] END ....C=10, gamma=0.0001, kernel=rbf;, score=0.891 total time=   0.8s\n",
            "[CV 1/5] END ..C=100, gamma=0.1, kernel=sigmoid;, score=0.555 total time=   0.8s\n",
            "[CV 2/5] END ..C=100, gamma=0.1, kernel=sigmoid;, score=0.555 total time=   0.8s\n",
            "[CV 3/5] END ..C=100, gamma=0.1, kernel=sigmoid;, score=0.555 total time=   0.8s\n",
            "[CV 4/5] END ..C=100, gamma=0.1, kernel=sigmoid;, score=0.555 total time=   0.8s\n",
            "[CV 5/5] END ..C=100, gamma=0.1, kernel=sigmoid;, score=0.555 total time=   0.8s\n",
            "[CV 1/5] END ......C=1, gamma=1, kernel=sigmoid;, score=0.555 total time=   0.9s\n",
            "[CV 2/5] END ......C=1, gamma=1, kernel=sigmoid;, score=0.555 total time=   0.8s\n",
            "[CV 3/5] END ......C=1, gamma=1, kernel=sigmoid;, score=0.555 total time=   0.8s\n",
            "[CV 4/5] END ......C=1, gamma=1, kernel=sigmoid;, score=0.555 total time=   0.8s\n",
            "[CV 5/5] END ......C=1, gamma=1, kernel=sigmoid;, score=0.555 total time=   0.8s\n",
            "The best parameters are {'kernel': 'rbf', 'gamma': 0.1, 'C': 100} with a score of 0.99\n"
          ]
        }
      ]
    },
    {
      "cell_type": "code",
      "source": [
        "from sklearn.model_selection import RandomizedSearchCV\n",
        "from sklearn.ensemble import RandomForestClassifier\n",
        "# Sử dụng RandomSearch\n",
        "model=SVC()\n",
        "# Create the random grid\n",
        "param_grid = {'C': [0.1, 1, 10, 100, 1000],\n",
        "              'gamma': [1, 0.1, 0.01, 0.001, 0.0001],\n",
        "              'kernel': ['linear','rbf',\"sigmoid\"]}\n",
        "  # Sử dụng hàm RandomizedSearchCV của thư viện sklearn để điểu chỉnh siêu tham số\n",
        "rand = RandomizedSearchCV(model,param_grid, scoring='accuracy',refit = True, verbose = 3,cv=5)\n",
        "# Tiến hành đào tạo\n",
        "rand.fit(X_train, Y_train)\n",
        "# In ra kết quả\n",
        "print(\"The best parameters are %s with a score of %0.2f\"\n",
        "      % (rand.best_params_, rand.best_score_))"
      ],
      "metadata": {
        "id": "bFJl9XHWPRDL",
        "colab": {
          "base_uri": "https://localhost:8080/"
        },
        "outputId": "a95f5974-ddd1-4bb7-eda8-9c6adb22a435"
      },
      "execution_count": null,
      "outputs": [
        {
          "output_type": "stream",
          "name": "stdout",
          "text": [
            "Fitting 5 folds for each of 10 candidates, totalling 50 fits\n",
            "[CV 1/5] END .....C=1000, gamma=0.1, kernel=rbf;, score=0.994 total time=   1.8s\n",
            "[CV 2/5] END .....C=1000, gamma=0.1, kernel=rbf;, score=0.996 total time=   1.8s\n",
            "[CV 3/5] END .....C=1000, gamma=0.1, kernel=rbf;, score=0.991 total time=   1.8s\n",
            "[CV 4/5] END .....C=1000, gamma=0.1, kernel=rbf;, score=0.997 total time=   1.9s\n",
            "[CV 5/5] END .....C=1000, gamma=0.1, kernel=rbf;, score=0.993 total time=   1.5s\n",
            "[CV 1/5] END .C=1000, gamma=0.01, kernel=linear;, score=0.847 total time= 2.9min\n",
            "[CV 2/5] END .C=1000, gamma=0.01, kernel=linear;, score=0.851 total time= 3.2min\n",
            "[CV 3/5] END .C=1000, gamma=0.01, kernel=linear;, score=0.850 total time= 2.0min\n",
            "[CV 4/5] END .C=1000, gamma=0.01, kernel=linear;, score=0.867 total time= 2.2min\n",
            "[CV 5/5] END .C=1000, gamma=0.01, kernel=linear;, score=0.865 total time= 4.0min\n",
            "[CV 1/5] END .C=1000, gamma=0.1, kernel=sigmoid;, score=0.549 total time=   0.8s\n",
            "[CV 2/5] END .C=1000, gamma=0.1, kernel=sigmoid;, score=0.549 total time=   0.8s\n",
            "[CV 3/5] END .C=1000, gamma=0.1, kernel=sigmoid;, score=0.549 total time=   0.7s\n",
            "[CV 4/5] END .C=1000, gamma=0.1, kernel=sigmoid;, score=0.550 total time=   0.8s\n",
            "[CV 5/5] END .C=1000, gamma=0.1, kernel=sigmoid;, score=0.550 total time=   0.8s\n",
            "[CV 1/5] END ....C=0.1, gamma=1, kernel=sigmoid;, score=0.549 total time=   0.8s\n",
            "[CV 2/5] END ....C=0.1, gamma=1, kernel=sigmoid;, score=0.549 total time=   0.8s\n",
            "[CV 3/5] END ....C=0.1, gamma=1, kernel=sigmoid;, score=0.549 total time=   0.7s\n",
            "[CV 4/5] END ....C=0.1, gamma=1, kernel=sigmoid;, score=0.550 total time=   0.8s\n",
            "[CV 5/5] END ....C=0.1, gamma=1, kernel=sigmoid;, score=0.550 total time=   0.8s\n",
            "[CV 1/5] END ..C=100, gamma=0.01, kernel=linear;, score=0.846 total time= 1.8min\n",
            "[CV 2/5] END ..C=100, gamma=0.01, kernel=linear;, score=0.861 total time= 2.1min\n",
            "[CV 3/5] END ..C=100, gamma=0.01, kernel=linear;, score=0.850 total time= 1.9min\n",
            "[CV 4/5] END ..C=100, gamma=0.01, kernel=linear;, score=0.861 total time= 2.3min\n",
            "[CV 5/5] END ..C=100, gamma=0.01, kernel=linear;, score=0.866 total time= 2.5min\n",
            "[CV 1/5] END ..C=0.1, gamma=0.1, kernel=sigmoid;, score=0.549 total time=   0.8s\n",
            "[CV 2/5] END ..C=0.1, gamma=0.1, kernel=sigmoid;, score=0.549 total time=   0.8s\n",
            "[CV 3/5] END ..C=0.1, gamma=0.1, kernel=sigmoid;, score=0.549 total time=   0.8s\n",
            "[CV 4/5] END ..C=0.1, gamma=0.1, kernel=sigmoid;, score=0.550 total time=   0.8s\n",
            "[CV 5/5] END ..C=0.1, gamma=0.1, kernel=sigmoid;, score=0.550 total time=   0.8s\n",
            "[CV 1/5] END ....C=100, gamma=0.001, kernel=rbf;, score=0.908 total time=   0.8s\n",
            "[CV 2/5] END ....C=100, gamma=0.001, kernel=rbf;, score=0.918 total time=   0.8s\n",
            "[CV 3/5] END ....C=100, gamma=0.001, kernel=rbf;, score=0.911 total time=   0.7s\n",
            "[CV 4/5] END ....C=100, gamma=0.001, kernel=rbf;, score=0.926 total time=   0.7s\n",
            "[CV 5/5] END ....C=100, gamma=0.001, kernel=rbf;, score=0.917 total time=   0.8s\n",
            "[CV 1/5] END .....C=10, gamma=0.001, kernel=rbf;, score=0.881 total time=   0.5s\n",
            "[CV 2/5] END .....C=10, gamma=0.001, kernel=rbf;, score=0.894 total time=   0.6s\n",
            "[CV 3/5] END .....C=10, gamma=0.001, kernel=rbf;, score=0.886 total time=   0.6s\n",
            "[CV 4/5] END .....C=10, gamma=0.001, kernel=rbf;, score=0.905 total time=   0.6s\n",
            "[CV 5/5] END .....C=10, gamma=0.001, kernel=rbf;, score=0.895 total time=   0.6s\n",
            "[CV 1/5] END .C=100, gamma=0.001, kernel=linear;, score=0.846 total time= 1.8min\n",
            "[CV 2/5] END .C=100, gamma=0.001, kernel=linear;, score=0.861 total time= 2.1min\n",
            "[CV 3/5] END .C=100, gamma=0.001, kernel=linear;, score=0.850 total time= 1.9min\n",
            "[CV 4/5] END .C=100, gamma=0.001, kernel=linear;, score=0.861 total time= 2.3min\n",
            "[CV 5/5] END .C=100, gamma=0.001, kernel=linear;, score=0.866 total time= 2.5min\n",
            "[CV 1/5] END .......C=1, gamma=1, kernel=linear;, score=0.846 total time=   6.5s\n",
            "[CV 2/5] END .......C=1, gamma=1, kernel=linear;, score=0.855 total time=   6.7s\n",
            "[CV 3/5] END .......C=1, gamma=1, kernel=linear;, score=0.856 total time=   5.6s\n",
            "[CV 4/5] END .......C=1, gamma=1, kernel=linear;, score=0.868 total time=   6.8s\n",
            "[CV 5/5] END .......C=1, gamma=1, kernel=linear;, score=0.866 total time=   7.5s\n",
            "The best parameters are {'kernel': 'rbf', 'gamma': 0.1, 'C': 1000} with a score of 0.99\n"
          ]
        }
      ]
    },
    {
      "cell_type": "code",
      "source": [
        "!pip install sklearn-genetic"
      ],
      "metadata": {
        "colab": {
          "base_uri": "https://localhost:8080/"
        },
        "id": "By5_3dcC2bee",
        "outputId": "fe816d0a-bb6c-428a-9a9d-6c5dbf7a4ada"
      },
      "execution_count": null,
      "outputs": [
        {
          "output_type": "stream",
          "name": "stdout",
          "text": [
            "Collecting sklearn-genetic\n",
            "  Downloading sklearn_genetic-0.4.1-py2.py3-none-any.whl (10 kB)\n",
            "Requirement already satisfied: scikit-learn>=0.20.3 in /usr/local/lib/python3.7/dist-packages (from sklearn-genetic) (1.0.1)\n",
            "Collecting deap>=1.0.2\n",
            "  Downloading deap-1.3.1-cp37-cp37m-manylinux_2_5_x86_64.manylinux1_x86_64.manylinux_2_12_x86_64.manylinux2010_x86_64.whl (160 kB)\n",
            "\u001b[?25l\r\u001b[K     |██                              | 10 kB 36.3 MB/s eta 0:00:01\r\u001b[K     |████                            | 20 kB 45.3 MB/s eta 0:00:01\r\u001b[K     |██████                          | 30 kB 48.6 MB/s eta 0:00:01\r\u001b[K     |████████▏                       | 40 kB 54.0 MB/s eta 0:00:01\r\u001b[K     |██████████▏                     | 51 kB 15.8 MB/s eta 0:00:01\r\u001b[K     |████████████▏                   | 61 kB 14.4 MB/s eta 0:00:01\r\u001b[K     |██████████████▎                 | 71 kB 16.0 MB/s eta 0:00:01\r\u001b[K     |████████████████▎               | 81 kB 17.9 MB/s eta 0:00:01\r\u001b[K     |██████████████████▎             | 92 kB 13.3 MB/s eta 0:00:01\r\u001b[K     |████████████████████▍           | 102 kB 14.2 MB/s eta 0:00:01\r\u001b[K     |██████████████████████▍         | 112 kB 14.2 MB/s eta 0:00:01\r\u001b[K     |████████████████████████▍       | 122 kB 14.2 MB/s eta 0:00:01\r\u001b[K     |██████████████████████████▌     | 133 kB 14.2 MB/s eta 0:00:01\r\u001b[K     |████████████████████████████▌   | 143 kB 14.2 MB/s eta 0:00:01\r\u001b[K     |██████████████████████████████▌ | 153 kB 14.2 MB/s eta 0:00:01\r\u001b[K     |████████████████████████████████| 160 kB 14.2 MB/s \n",
            "\u001b[?25hRequirement already satisfied: numpy in /usr/local/lib/python3.7/dist-packages (from deap>=1.0.2->sklearn-genetic) (1.19.5)\n",
            "Requirement already satisfied: scipy>=1.1.0 in /usr/local/lib/python3.7/dist-packages (from scikit-learn>=0.20.3->sklearn-genetic) (1.4.1)\n",
            "Requirement already satisfied: threadpoolctl>=2.0.0 in /usr/local/lib/python3.7/dist-packages (from scikit-learn>=0.20.3->sklearn-genetic) (3.0.0)\n",
            "Requirement already satisfied: joblib>=0.11 in /usr/local/lib/python3.7/dist-packages (from scikit-learn>=0.20.3->sklearn-genetic) (1.1.0)\n",
            "Installing collected packages: deap, sklearn-genetic\n",
            "Successfully installed deap-1.3.1 sklearn-genetic-0.4.1\n"
          ]
        }
      ]
    },
    {
      "cell_type": "code",
      "source": [
        "!pip install deap"
      ],
      "metadata": {
        "colab": {
          "base_uri": "https://localhost:8080/"
        },
        "id": "wBxWWKg83HRr",
        "outputId": "b62c72a1-041a-490c-a960-f74d08341a6d"
      },
      "execution_count": null,
      "outputs": [
        {
          "output_type": "stream",
          "name": "stdout",
          "text": [
            "Requirement already satisfied: deap in /usr/local/lib/python3.7/dist-packages (1.3.1)\n",
            "Requirement already satisfied: numpy in /usr/local/lib/python3.7/dist-packages (from deap) (1.19.5)\n"
          ]
        }
      ]
    },
    {
      "cell_type": "code",
      "source": [
        "!pip install sklearn-genetic-opt"
      ],
      "metadata": {
        "colab": {
          "base_uri": "https://localhost:8080/"
        },
        "id": "MG-MVQrJ3Z7H",
        "outputId": "d11ee57f-38ab-4dac-c373-526de8bb520b"
      },
      "execution_count": null,
      "outputs": [
        {
          "output_type": "stream",
          "name": "stdout",
          "text": [
            "Collecting sklearn-genetic-opt\n",
            "  Downloading sklearn_genetic_opt-0.7.0-py3-none-any.whl (29 kB)\n",
            "Requirement already satisfied: tqdm>=4.61.1 in /usr/local/lib/python3.7/dist-packages (from sklearn-genetic-opt) (4.62.3)\n",
            "Requirement already satisfied: numpy>=1.14.5 in /usr/local/lib/python3.7/dist-packages (from sklearn-genetic-opt) (1.19.5)\n",
            "Requirement already satisfied: deap>=1.3.1 in /usr/local/lib/python3.7/dist-packages (from sklearn-genetic-opt) (1.3.1)\n",
            "Requirement already satisfied: scikit-learn>=0.21.3 in /usr/local/lib/python3.7/dist-packages (from sklearn-genetic-opt) (1.0.1)\n",
            "Requirement already satisfied: scipy>=1.1.0 in /usr/local/lib/python3.7/dist-packages (from scikit-learn>=0.21.3->sklearn-genetic-opt) (1.4.1)\n",
            "Requirement already satisfied: threadpoolctl>=2.0.0 in /usr/local/lib/python3.7/dist-packages (from scikit-learn>=0.21.3->sklearn-genetic-opt) (3.0.0)\n",
            "Requirement already satisfied: joblib>=0.11 in /usr/local/lib/python3.7/dist-packages (from scikit-learn>=0.21.3->sklearn-genetic-opt) (1.1.0)\n",
            "Installing collected packages: sklearn-genetic-opt\n",
            "Successfully installed sklearn-genetic-opt-0.7.0\n"
          ]
        }
      ]
    },
    {
      "cell_type": "markdown",
      "source": [
        "### Sử dụng GA Search "
      ],
      "metadata": {
        "id": "qWXWWHUUkb8k"
      }
    },
    {
      "cell_type": "code",
      "source": [
        "from sklearn_genetic import GASearchCV\n",
        "from sklearn.model_selection import StratifiedKFold\n",
        "from sklearn.ensemble import RandomForestClassifier"
      ],
      "metadata": {
        "id": "ERH3Ka8P3I9B"
      },
      "execution_count": null,
      "outputs": []
    },
    {
      "cell_type": "code",
      "source": [
        "# Sử dụng EA Search \n",
        "from evolutionary_search import EvolutionaryAlgorithmSearchCV\n",
        "model = SVC()\n",
        "param_grid = {'C': [0.1, 1, 10, 100, 1000],\n",
        "              'gamma': [1, 0.1, 0.01, 0.001, 0.0001],\n",
        "              'kernel': ['linear','rbf',\"sigmoid\"]}\n",
        "evolved_estimator = EvolutionaryAlgorithmSearchCV(estimator=model,\n",
        "                                   params=param_grid ,\n",
        "                                   scoring=\"accuracy\",\n",
        "                                   cv=5,\n",
        "                                   verbose=33,\n",
        "                                   population_size=10,\n",
        "                                   gene_mutation_prob=0.10,\n",
        "                                   gene_crossover_prob=0.8,\n",
        "                                   tournament_size=3,\n",
        "                                   generations_number=10,\n",
        "                                   n_jobs=1)\n",
        "evolved_estimator.fit(X_train,Y_train)\n",
        "\n",
        "# In ra kết quả\n",
        "print(\"The best parameters are %s with a score of %0.2f\"\n",
        "      % (evolved_estimator.best_params_, evolved_estimator.best_score_))"
      ],
      "metadata": {
        "colab": {
          "base_uri": "https://localhost:8080/"
        },
        "id": "Vf1mAzvd5PtG",
        "outputId": "8de3f294-2d33-41c4-ec1c-18ebbfef9986"
      },
      "execution_count": null,
      "outputs": [
        {
          "output_type": "stream",
          "name": "stdout",
          "text": [
            "Types [2, 1, 1] and maxint [4, 4, 2] detected\n",
            "--- Evolve in 75 possible combinations ---\n",
            "[CV] START C=0.1, gamma=1, kernel=rbf...........................................\n",
            "[CV] END ............C=0.1, gamma=1, kernel=rbf;, score=0.555 total time=   1.8s\n",
            "[CV] START C=0.1, gamma=1, kernel=rbf...........................................\n",
            "[CV] END ............C=0.1, gamma=1, kernel=rbf;, score=0.555 total time=   1.8s\n",
            "[CV] START C=0.1, gamma=1, kernel=rbf...........................................\n",
            "[CV] END ............C=0.1, gamma=1, kernel=rbf;, score=0.555 total time=   1.7s\n",
            "[CV] START C=0.1, gamma=1, kernel=rbf...........................................\n",
            "[CV] END ............C=0.1, gamma=1, kernel=rbf;, score=0.555 total time=   1.8s\n",
            "[CV] START C=0.1, gamma=1, kernel=rbf...........................................\n",
            "[CV] END ............C=0.1, gamma=1, kernel=rbf;, score=0.555 total time=   1.7s\n",
            "[CV] START C=1, gamma=0.001, kernel=rbf.........................................\n",
            "[CV] END ..........C=1, gamma=0.001, kernel=rbf;, score=0.882 total time=   0.7s\n",
            "[CV] START C=1, gamma=0.001, kernel=rbf.........................................\n",
            "[CV] END ..........C=1, gamma=0.001, kernel=rbf;, score=0.887 total time=   0.7s\n",
            "[CV] START C=1, gamma=0.001, kernel=rbf.........................................\n",
            "[CV] END ..........C=1, gamma=0.001, kernel=rbf;, score=0.870 total time=   0.7s\n",
            "[CV] START C=1, gamma=0.001, kernel=rbf.........................................\n",
            "[CV] END ..........C=1, gamma=0.001, kernel=rbf;, score=0.878 total time=   0.7s\n",
            "[CV] START C=1, gamma=0.001, kernel=rbf.........................................\n",
            "[CV] END ..........C=1, gamma=0.001, kernel=rbf;, score=0.888 total time=   0.8s\n",
            "[CV] START C=0.1, gamma=0.01, kernel=rbf........................................\n",
            "[CV] END .........C=0.1, gamma=0.01, kernel=rbf;, score=0.900 total time=   1.0s\n",
            "[CV] START C=0.1, gamma=0.01, kernel=rbf........................................\n",
            "[CV] END .........C=0.1, gamma=0.01, kernel=rbf;, score=0.894 total time=   1.0s\n",
            "[CV] START C=0.1, gamma=0.01, kernel=rbf........................................\n",
            "[CV] END .........C=0.1, gamma=0.01, kernel=rbf;, score=0.893 total time=   1.0s\n",
            "[CV] START C=0.1, gamma=0.01, kernel=rbf........................................\n",
            "[CV] END .........C=0.1, gamma=0.01, kernel=rbf;, score=0.895 total time=   1.0s\n",
            "[CV] START C=0.1, gamma=0.01, kernel=rbf........................................\n",
            "[CV] END .........C=0.1, gamma=0.01, kernel=rbf;, score=0.905 total time=   1.0s\n",
            "[CV] START C=10, gamma=0.01, kernel=sigmoid.....................................\n",
            "[CV] END ......C=10, gamma=0.01, kernel=sigmoid;, score=0.555 total time=   0.9s\n",
            "[CV] START C=10, gamma=0.01, kernel=sigmoid.....................................\n",
            "[CV] END ......C=10, gamma=0.01, kernel=sigmoid;, score=0.555 total time=   0.9s\n",
            "[CV] START C=10, gamma=0.01, kernel=sigmoid.....................................\n",
            "[CV] END ......C=10, gamma=0.01, kernel=sigmoid;, score=0.555 total time=   0.9s\n",
            "[CV] START C=10, gamma=0.01, kernel=sigmoid.....................................\n",
            "[CV] END ......C=10, gamma=0.01, kernel=sigmoid;, score=0.555 total time=   0.9s\n",
            "[CV] START C=10, gamma=0.01, kernel=sigmoid.....................................\n",
            "[CV] END ......C=10, gamma=0.01, kernel=sigmoid;, score=0.555 total time=   0.9s\n",
            "[CV] START C=1, gamma=0.001, kernel=linear......................................\n",
            "[CV] END .......C=1, gamma=0.001, kernel=linear;, score=0.948 total time=   3.7s\n",
            "[CV] START C=1, gamma=0.001, kernel=linear......................................\n",
            "[CV] END .......C=1, gamma=0.001, kernel=linear;, score=0.942 total time=   3.7s\n",
            "[CV] START C=1, gamma=0.001, kernel=linear......................................\n",
            "[CV] END .......C=1, gamma=0.001, kernel=linear;, score=0.932 total time=   4.0s\n",
            "[CV] START C=1, gamma=0.001, kernel=linear......................................\n",
            "[CV] END .......C=1, gamma=0.001, kernel=linear;, score=0.936 total time=   3.9s\n",
            "[CV] START C=1, gamma=0.001, kernel=linear......................................\n",
            "[CV] END .......C=1, gamma=0.001, kernel=linear;, score=0.941 total time=   3.6s\n",
            "[CV] START C=10, gamma=1, kernel=sigmoid........................................\n",
            "[CV] END .........C=10, gamma=1, kernel=sigmoid;, score=0.555 total time=   0.9s\n",
            "[CV] START C=10, gamma=1, kernel=sigmoid........................................\n",
            "[CV] END .........C=10, gamma=1, kernel=sigmoid;, score=0.555 total time=   0.8s\n",
            "[CV] START C=10, gamma=1, kernel=sigmoid........................................\n",
            "[CV] END .........C=10, gamma=1, kernel=sigmoid;, score=0.555 total time=   0.8s\n",
            "[CV] START C=10, gamma=1, kernel=sigmoid........................................\n",
            "[CV] END .........C=10, gamma=1, kernel=sigmoid;, score=0.555 total time=   0.9s\n",
            "[CV] START C=10, gamma=1, kernel=sigmoid........................................\n",
            "[CV] END .........C=10, gamma=1, kernel=sigmoid;, score=0.555 total time=   0.9s\n",
            "[CV] START C=1000, gamma=0.001, kernel=linear...................................\n",
            "[CV] END ....C=1000, gamma=0.001, kernel=linear;, score=0.951 total time= 1.8min\n",
            "[CV] START C=1000, gamma=0.001, kernel=linear...................................\n",
            "[CV] END ....C=1000, gamma=0.001, kernel=linear;, score=0.939 total time= 2.4min\n",
            "[CV] START C=1000, gamma=0.001, kernel=linear...................................\n",
            "[CV] END ....C=1000, gamma=0.001, kernel=linear;, score=0.931 total time= 2.1min\n",
            "[CV] START C=1000, gamma=0.001, kernel=linear...................................\n",
            "[CV] END ....C=1000, gamma=0.001, kernel=linear;, score=0.935 total time= 1.6min\n",
            "[CV] START C=1000, gamma=0.001, kernel=linear...................................\n",
            "[CV] END ....C=1000, gamma=0.001, kernel=linear;, score=0.941 total time= 2.0min\n",
            "[CV] START C=100, gamma=0.001, kernel=rbf.......................................\n",
            "[CV] END ........C=100, gamma=0.001, kernel=rbf;, score=0.960 total time=   0.7s\n",
            "[CV] START C=100, gamma=0.001, kernel=rbf.......................................\n",
            "[CV] END ........C=100, gamma=0.001, kernel=rbf;, score=0.965 total time=   0.7s\n",
            "[CV] START C=100, gamma=0.001, kernel=rbf.......................................\n",
            "[CV] END ........C=100, gamma=0.001, kernel=rbf;, score=0.955 total time=   0.7s\n",
            "[CV] START C=100, gamma=0.001, kernel=rbf.......................................\n",
            "[CV] END ........C=100, gamma=0.001, kernel=rbf;, score=0.963 total time=   0.7s\n",
            "[CV] START C=100, gamma=0.001, kernel=rbf.......................................\n",
            "[CV] END ........C=100, gamma=0.001, kernel=rbf;, score=0.958 total time=   0.7s\n",
            "[CV] START C=1, gamma=0.0001, kernel=linear.....................................\n",
            "[CV] END ......C=1, gamma=0.0001, kernel=linear;, score=0.948 total time=   3.5s\n",
            "[CV] START C=1, gamma=0.0001, kernel=linear.....................................\n",
            "[CV] END ......C=1, gamma=0.0001, kernel=linear;, score=0.942 total time=   3.5s\n",
            "[CV] START C=1, gamma=0.0001, kernel=linear.....................................\n",
            "[CV] END ......C=1, gamma=0.0001, kernel=linear;, score=0.932 total time=   3.9s\n",
            "[CV] START C=1, gamma=0.0001, kernel=linear.....................................\n",
            "[CV] END ......C=1, gamma=0.0001, kernel=linear;, score=0.936 total time=   3.7s\n",
            "[CV] START C=1, gamma=0.0001, kernel=linear.....................................\n",
            "[CV] END ......C=1, gamma=0.0001, kernel=linear;, score=0.941 total time=   3.4s\n",
            "[CV] START C=100, gamma=1, kernel=linear........................................\n",
            "[CV] END .........C=100, gamma=1, kernel=linear;, score=0.950 total time= 1.1min\n",
            "[CV] START C=100, gamma=1, kernel=linear........................................\n",
            "[CV] END .........C=100, gamma=1, kernel=linear;, score=0.943 total time= 1.8min\n",
            "[CV] START C=100, gamma=1, kernel=linear........................................\n",
            "[CV] END .........C=100, gamma=1, kernel=linear;, score=0.934 total time= 1.3min\n",
            "[CV] START C=100, gamma=1, kernel=linear........................................\n",
            "[CV] END .........C=100, gamma=1, kernel=linear;, score=0.936 total time= 1.3min\n",
            "[CV] START C=100, gamma=1, kernel=linear........................................\n",
            "[CV] END .........C=100, gamma=1, kernel=linear;, score=0.943 total time= 1.6min\n",
            "gen\tnevals\tavg     \tmin     \tmax     \tstd     \n",
            "0  \t10    \t0.816372\t0.555094\t0.960152\t0.172431\n",
            "[CV] START C=1, gamma=1, kernel=linear..........................................\n",
            "[CV] END ...........C=1, gamma=1, kernel=linear;, score=0.948 total time=   3.5s\n",
            "[CV] START C=1, gamma=1, kernel=linear..........................................\n",
            "[CV] END ...........C=1, gamma=1, kernel=linear;, score=0.942 total time=   3.5s\n",
            "[CV] START C=1, gamma=1, kernel=linear..........................................\n",
            "[CV] END ...........C=1, gamma=1, kernel=linear;, score=0.932 total time=   3.8s\n",
            "[CV] START C=1, gamma=1, kernel=linear..........................................\n",
            "[CV] END ...........C=1, gamma=1, kernel=linear;, score=0.936 total time=   3.7s\n",
            "[CV] START C=1, gamma=1, kernel=linear..........................................\n",
            "[CV] END ...........C=1, gamma=1, kernel=linear;, score=0.941 total time=   3.5s\n",
            "1  \t5     \t0.943936\t0.939709\t0.960152\t0.00811847\n",
            "[CV] START C=100, gamma=0.0001, kernel=linear...................................\n",
            "[CV] END ....C=100, gamma=0.0001, kernel=linear;, score=0.950 total time= 1.1min\n",
            "[CV] START C=100, gamma=0.0001, kernel=linear...................................\n",
            "[CV] END ....C=100, gamma=0.0001, kernel=linear;, score=0.943 total time= 1.8min\n",
            "[CV] START C=100, gamma=0.0001, kernel=linear...................................\n",
            "[CV] END ....C=100, gamma=0.0001, kernel=linear;, score=0.934 total time= 1.3min\n",
            "[CV] START C=100, gamma=0.0001, kernel=linear...................................\n",
            "[CV] END ....C=100, gamma=0.0001, kernel=linear;, score=0.936 total time= 1.3min\n",
            "[CV] START C=100, gamma=0.0001, kernel=linear...................................\n",
            "[CV] END ....C=100, gamma=0.0001, kernel=linear;, score=0.943 total time= 1.6min\n",
            "2  \t6     \t0.944352\t0.939709\t0.960152\t0.00792449\n",
            "3  \t8     \t0.952529\t0.941095\t0.960152\t0.00933624\n",
            "4  \t6     \t0.958247\t0.941095\t0.960152\t0.00571726\n",
            "5  \t5     \t0.960152\t0.960152\t0.960152\t1.11022e-16\n",
            "6  \t5     \t0.960152\t0.960152\t0.960152\t1.11022e-16\n",
            "7  \t7     \t0.960152\t0.960152\t0.960152\t1.11022e-16\n",
            "8  \t6     \t0.960152\t0.960152\t0.960152\t1.11022e-16\n",
            "[CV] START C=100, gamma=0.0001, kernel=rbf......................................\n",
            "[CV] END .......C=100, gamma=0.0001, kernel=rbf;, score=0.938 total time=   0.7s\n",
            "[CV] START C=100, gamma=0.0001, kernel=rbf......................................\n",
            "[CV] END .......C=100, gamma=0.0001, kernel=rbf;, score=0.940 total time=   0.7s\n",
            "[CV] START C=100, gamma=0.0001, kernel=rbf......................................\n",
            "[CV] END .......C=100, gamma=0.0001, kernel=rbf;, score=0.924 total time=   0.7s\n",
            "[CV] START C=100, gamma=0.0001, kernel=rbf......................................\n",
            "[CV] END .......C=100, gamma=0.0001, kernel=rbf;, score=0.932 total time=   0.7s\n",
            "[CV] START C=100, gamma=0.0001, kernel=rbf......................................\n",
            "[CV] END .......C=100, gamma=0.0001, kernel=rbf;, score=0.927 total time=   0.7s\n",
            "9  \t4     \t0.957346\t0.932086\t0.960152\t0.00841996 \n",
            "10 \t8     \t0.960152\t0.960152\t0.960152\t1.11022e-16\n",
            "Best individual is: {'C': 100, 'gamma': 0.001, 'kernel': 'rbf'}\n",
            "with fitness: 0.9601524601524601\n",
            "The best parameters are {'C': 100, 'gamma': 0.001, 'kernel': 'rbf'} with a score of 0.96\n"
          ]
        }
      ]
    },
    {
      "cell_type": "code",
      "source": [
        "# Sử dụng EA Search \n",
        "from evolutionary_search import EvolutionaryAlgorithmSearchCV\n",
        "model = SVC()\n",
        "param_grid = {'C': [0.1, 1, 10, 100, 1000],\n",
        "              'gamma': [1, 0.1, 0.01, 0.001, 0.0001],\n",
        "              'kernel': ['linear','rbf',\"sigmoid\"]}\n",
        "evolved_estimator = EvolutionaryAlgorithmSearchCV(estimator=model,\n",
        "                                   params=param_grid ,\n",
        "                                   scoring=\"accuracy\",\n",
        "                                   cv=5,\n",
        "                                   verbose=3,\n",
        "                                   population_size=10,\n",
        "                                   gene_mutation_prob=0.10,\n",
        "                                   gene_crossover_prob=0.8,\n",
        "                                   tournament_size=3,\n",
        "                                   generations_number=10,\n",
        "                                   n_jobs=1)\n",
        "evolved_estimator.fit(X_train,Y_train)\n",
        "\n",
        "# In ra kết quả\n",
        "print(\"The best parameters are %s with a score of %0.2f\"\n",
        "      % (evolved_estimator.best_params_, evolved_estimator.best_score_))"
      ],
      "metadata": {
        "colab": {
          "base_uri": "https://localhost:8080/"
        },
        "id": "2vX7WbM9Cnrr",
        "outputId": "80d122b4-9d05-4253-c044-7e51d96f3a4d"
      },
      "execution_count": null,
      "outputs": [
        {
          "output_type": "stream",
          "name": "stdout",
          "text": [
            "Types [2, 1, 1] and maxint [4, 4, 2] detected\n",
            "--- Evolve in 75 possible combinations ---\n",
            "[CV] END .....C=100, gamma=0.001, kernel=linear;, score=0.846 total time= 1.8min\n",
            "[CV] END .....C=100, gamma=0.001, kernel=linear;, score=0.861 total time= 2.1min\n",
            "[CV] END .....C=100, gamma=0.001, kernel=linear;, score=0.850 total time= 1.9min\n",
            "[CV] END .....C=100, gamma=0.001, kernel=linear;, score=0.861 total time= 2.3min\n",
            "[CV] END .....C=100, gamma=0.001, kernel=linear;, score=0.866 total time= 2.5min\n",
            "[CV] END ....C=100, gamma=0.001, kernel=sigmoid;, score=0.549 total time=   1.7s\n",
            "[CV] END ....C=100, gamma=0.001, kernel=sigmoid;, score=0.549 total time=   1.7s\n",
            "[CV] END ....C=100, gamma=0.001, kernel=sigmoid;, score=0.549 total time=   1.7s\n",
            "[CV] END ....C=100, gamma=0.001, kernel=sigmoid;, score=0.550 total time=   1.8s\n",
            "[CV] END ....C=100, gamma=0.001, kernel=sigmoid;, score=0.550 total time=   1.6s\n",
            "[CV] END .......C=0.1, gamma=0.1, kernel=linear;, score=0.846 total time=   1.3s\n",
            "[CV] END .......C=0.1, gamma=0.1, kernel=linear;, score=0.856 total time=   1.4s\n",
            "[CV] END .......C=0.1, gamma=0.1, kernel=linear;, score=0.854 total time=   1.2s\n",
            "[CV] END .......C=0.1, gamma=0.1, kernel=linear;, score=0.866 total time=   1.5s\n",
            "[CV] END .......C=0.1, gamma=0.1, kernel=linear;, score=0.864 total time=   1.4s\n",
            "[CV] END ......C=1, gamma=0.0001, kernel=linear;, score=0.846 total time=   6.3s\n",
            "[CV] END ......C=1, gamma=0.0001, kernel=linear;, score=0.855 total time=   6.6s\n",
            "[CV] END ......C=1, gamma=0.0001, kernel=linear;, score=0.856 total time=   5.6s\n",
            "[CV] END ......C=1, gamma=0.0001, kernel=linear;, score=0.868 total time=   6.9s\n",
            "[CV] END ......C=1, gamma=0.0001, kernel=linear;, score=0.866 total time=   7.6s\n",
            "[CV] END .........C=100, gamma=0.01, kernel=rbf;, score=0.977 total time=   0.4s\n",
            "[CV] END .........C=100, gamma=0.01, kernel=rbf;, score=0.987 total time=   0.4s\n",
            "[CV] END .........C=100, gamma=0.01, kernel=rbf;, score=0.977 total time=   0.3s\n",
            "[CV] END .........C=100, gamma=0.01, kernel=rbf;, score=0.984 total time=   0.4s\n",
            "[CV] END .........C=100, gamma=0.01, kernel=rbf;, score=0.982 total time=   0.4s\n",
            "[CV] END ......C=1000, gamma=0.0001, kernel=rbf;, score=0.876 total time=   1.2s\n",
            "[CV] END ......C=1000, gamma=0.0001, kernel=rbf;, score=0.881 total time=   1.2s\n",
            "[CV] END ......C=1000, gamma=0.0001, kernel=rbf;, score=0.878 total time=   1.2s\n",
            "[CV] END ......C=1000, gamma=0.0001, kernel=rbf;, score=0.893 total time=   1.2s\n",
            "[CV] END ......C=1000, gamma=0.0001, kernel=rbf;, score=0.889 total time=   1.2s\n",
            "[CV] END ............C=100, gamma=1, kernel=rbf;, score=0.918 total time=   2.3s\n",
            "[CV] END ............C=100, gamma=1, kernel=rbf;, score=0.929 total time=   2.2s\n",
            "[CV] END ............C=100, gamma=1, kernel=rbf;, score=0.921 total time=   2.4s\n",
            "[CV] END ............C=100, gamma=1, kernel=rbf;, score=0.924 total time=   2.4s\n",
            "[CV] END ............C=100, gamma=1, kernel=rbf;, score=0.924 total time=   2.3s\n",
            "[CV] END .....C=1000, gamma=0.1, kernel=sigmoid;, score=0.549 total time=   0.8s\n",
            "[CV] END .....C=1000, gamma=0.1, kernel=sigmoid;, score=0.549 total time=   0.8s\n",
            "[CV] END .....C=1000, gamma=0.1, kernel=sigmoid;, score=0.549 total time=   0.8s\n",
            "[CV] END .....C=1000, gamma=0.1, kernel=sigmoid;, score=0.550 total time=   0.8s\n",
            "[CV] END .....C=1000, gamma=0.1, kernel=sigmoid;, score=0.550 total time=   0.8s\n",
            "[CV] END ...C=1000, gamma=0.001, kernel=sigmoid;, score=0.399 total time=   1.9s\n",
            "[CV] END ...C=1000, gamma=0.001, kernel=sigmoid;, score=0.384 total time=   2.0s\n",
            "[CV] END ...C=1000, gamma=0.001, kernel=sigmoid;, score=0.402 total time=   1.9s\n",
            "[CV] END ...C=1000, gamma=0.001, kernel=sigmoid;, score=0.408 total time=   1.9s\n",
            "[CV] END ...C=1000, gamma=0.001, kernel=sigmoid;, score=0.388 total time=   1.4s\n",
            "gen\tnevals\tavg     \tmin     \tmax     \tstd     \n",
            "0  \t10    \t0.771448\t0.396318\t0.981417\t0.186678\n",
            "[CV] END .....C=10, gamma=0.0001, kernel=linear;, score=0.845 total time=  36.2s\n",
            "[CV] END .....C=10, gamma=0.0001, kernel=linear;, score=0.861 total time=  38.5s\n",
            "[CV] END .....C=10, gamma=0.0001, kernel=linear;, score=0.852 total time=  32.4s\n",
            "[CV] END .....C=10, gamma=0.0001, kernel=linear;, score=0.871 total time=  41.3s\n",
            "[CV] END .....C=10, gamma=0.0001, kernel=linear;, score=0.864 total time=  41.6s\n",
            "[CV] END .......C=1000, gamma=0.001, kernel=rbf;, score=0.931 total time=   1.5s\n",
            "[CV] END .......C=1000, gamma=0.001, kernel=rbf;, score=0.944 total time=   2.1s\n",
            "[CV] END .......C=1000, gamma=0.001, kernel=rbf;, score=0.932 total time=   1.8s\n",
            "[CV] END .......C=1000, gamma=0.001, kernel=rbf;, score=0.952 total time=   1.9s\n",
            "[CV] END .......C=1000, gamma=0.001, kernel=rbf;, score=0.932 total time=   1.8s\n",
            "1  \t7     \t0.912209\t0.857416\t0.981417\t0.0526076\n",
            "2  \t3     \t0.975582\t0.923064\t0.981417\t0.0175061\n",
            "3  \t6     \t0.981417\t0.981417\t0.981417\t0        \n",
            "4  \t2     \t0.981417\t0.981417\t0.981417\t0        \n",
            "[CV] END .........C=0.1, gamma=0.01, kernel=rbf;, score=0.890 total time=   0.8s\n",
            "[CV] END .........C=0.1, gamma=0.01, kernel=rbf;, score=0.902 total time=   0.7s\n",
            "[CV] END .........C=0.1, gamma=0.01, kernel=rbf;, score=0.887 total time=   0.7s\n",
            "[CV] END .........C=0.1, gamma=0.01, kernel=rbf;, score=0.911 total time=   0.7s\n",
            "[CV] END .........C=0.1, gamma=0.01, kernel=rbf;, score=0.895 total time=   0.8s\n",
            "5  \t4     \t0.972959\t0.896839\t0.981417\t0.0253734\n",
            "[CV] END ......C=100, gamma=0.01, kernel=linear;, score=0.846 total time= 1.8min\n",
            "[CV] END ......C=100, gamma=0.01, kernel=linear;, score=0.861 total time= 2.1min\n",
            "[CV] END ......C=100, gamma=0.01, kernel=linear;, score=0.850 total time= 1.9min\n",
            "[CV] END ......C=100, gamma=0.01, kernel=linear;, score=0.861 total time= 2.3min\n",
            "[CV] END ......C=100, gamma=0.01, kernel=linear;, score=0.866 total time= 2.5min\n",
            "6  \t6     \t0.968965\t0.856895\t0.981417\t0.0373567\n",
            "7  \t3     \t0.968965\t0.856895\t0.981417\t0.0373567\n",
            "8  \t8     \t0.981417\t0.981417\t0.981417\t0        \n",
            "[CV] END .....C=100, gamma=0.01, kernel=sigmoid;, score=0.549 total time=   0.8s\n",
            "[CV] END .....C=100, gamma=0.01, kernel=sigmoid;, score=0.549 total time=   0.8s\n",
            "[CV] END .....C=100, gamma=0.01, kernel=sigmoid;, score=0.549 total time=   0.7s\n",
            "[CV] END .....C=100, gamma=0.01, kernel=sigmoid;, score=0.550 total time=   0.8s\n",
            "[CV] END .....C=100, gamma=0.01, kernel=sigmoid;, score=0.550 total time=   0.8s\n",
            "9  \t6     \t0.938242\t0.54967 \t0.981417\t0.129524 \n",
            "10 \t7     \t0.981417\t0.981417\t0.981417\t0        \n",
            "Best individual is: {'C': 100, 'gamma': 0.01, 'kernel': 'rbf'}\n",
            "with fitness: 0.9814171587356721\n",
            "The best parameters are {'C': 100, 'gamma': 0.01, 'kernel': 'rbf'} with a score of 0.98\n"
          ]
        }
      ]
    },
    {
      "cell_type": "code",
      "source": [
        "!pip install sklearn-deap"
      ],
      "metadata": {
        "colab": {
          "base_uri": "https://localhost:8080/"
        },
        "id": "khZrHSl94n94",
        "outputId": "616c710f-b128-4e6b-da8f-8aa5d4695ad8"
      },
      "execution_count": null,
      "outputs": [
        {
          "output_type": "stream",
          "name": "stdout",
          "text": [
            "Collecting sklearn-deap\n",
            "  Downloading sklearn_deap-0.3.0-py3-none-any.whl (11 kB)\n",
            "Requirement already satisfied: numpy>=1.9.3 in /usr/local/lib/python3.7/dist-packages (from sklearn-deap) (1.19.5)\n",
            "Requirement already satisfied: scikit-learn>=0.24.0 in /usr/local/lib/python3.7/dist-packages (from sklearn-deap) (1.0.1)\n",
            "Requirement already satisfied: deap>=1.0.2 in /usr/local/lib/python3.7/dist-packages (from sklearn-deap) (1.3.1)\n",
            "Requirement already satisfied: scipy>=0.16.0 in /usr/local/lib/python3.7/dist-packages (from sklearn-deap) (1.4.1)\n",
            "Requirement already satisfied: joblib>=0.11 in /usr/local/lib/python3.7/dist-packages (from scikit-learn>=0.24.0->sklearn-deap) (1.1.0)\n",
            "Requirement already satisfied: threadpoolctl>=2.0.0 in /usr/local/lib/python3.7/dist-packages (from scikit-learn>=0.24.0->sklearn-deap) (3.0.0)\n",
            "Installing collected packages: sklearn-deap\n",
            "Successfully installed sklearn-deap-0.3.0\n"
          ]
        }
      ]
    },
    {
      "cell_type": "code",
      "source": [
        "!pip install dask-ml"
      ],
      "metadata": {
        "colab": {
          "base_uri": "https://localhost:8080/",
          "height": 1000
        },
        "id": "5Dx9Ysuo-38x",
        "outputId": "2dc8d586-30b2-4bdc-9ecf-a3ed9a27d0a8"
      },
      "execution_count": null,
      "outputs": [
        {
          "output_type": "stream",
          "name": "stdout",
          "text": [
            "Collecting dask-ml\n",
            "  Downloading dask_ml-2021.11.30-py3-none-any.whl (148 kB)\n",
            "\u001b[?25l\r\u001b[K     |██▏                             | 10 kB 15.7 MB/s eta 0:00:01\r\u001b[K     |████▍                           | 20 kB 20.2 MB/s eta 0:00:01\r\u001b[K     |██████▋                         | 30 kB 10.3 MB/s eta 0:00:01\r\u001b[K     |████████▉                       | 40 kB 12.1 MB/s eta 0:00:01\r\u001b[K     |███████████                     | 51 kB 4.6 MB/s eta 0:00:01\r\u001b[K     |█████████████▎                  | 61 kB 5.1 MB/s eta 0:00:01\r\u001b[K     |███████████████▌                | 71 kB 5.6 MB/s eta 0:00:01\r\u001b[K     |█████████████████▊              | 81 kB 6.2 MB/s eta 0:00:01\r\u001b[K     |████████████████████            | 92 kB 6.6 MB/s eta 0:00:01\r\u001b[K     |██████████████████████▏         | 102 kB 5.2 MB/s eta 0:00:01\r\u001b[K     |████████████████████████▍       | 112 kB 5.2 MB/s eta 0:00:01\r\u001b[K     |██████████████████████████▌     | 122 kB 5.2 MB/s eta 0:00:01\r\u001b[K     |████████████████████████████▊   | 133 kB 5.2 MB/s eta 0:00:01\r\u001b[K     |███████████████████████████████ | 143 kB 5.2 MB/s eta 0:00:01\r\u001b[K     |████████████████████████████████| 148 kB 5.2 MB/s \n",
            "\u001b[?25hRequirement already satisfied: scikit-learn>=1.0.0 in /usr/local/lib/python3.7/dist-packages (from dask-ml) (1.0.1)\n",
            "Requirement already satisfied: scipy in /usr/local/lib/python3.7/dist-packages (from dask-ml) (1.4.1)\n",
            "Collecting dask-glm>=0.2.0\n",
            "  Downloading dask_glm-0.2.0-py2.py3-none-any.whl (12 kB)\n",
            "Collecting distributed>=2.4.0\n",
            "  Downloading distributed-2021.12.0-py3-none-any.whl (802 kB)\n",
            "\u001b[K     |████████████████████████████████| 802 kB 33.8 MB/s \n",
            "\u001b[?25hRequirement already satisfied: numba>=0.51.0 in /usr/local/lib/python3.7/dist-packages (from dask-ml) (0.51.2)\n",
            "Requirement already satisfied: dask[array,dataframe]>=2.4.0 in /usr/local/lib/python3.7/dist-packages (from dask-ml) (2.12.0)\n",
            "Collecting multipledispatch>=0.4.9\n",
            "  Downloading multipledispatch-0.6.0-py3-none-any.whl (11 kB)\n",
            "Requirement already satisfied: pandas>=0.24.2 in /usr/local/lib/python3.7/dist-packages (from dask-ml) (1.1.5)\n",
            "Collecting numpy>=1.20.0\n",
            "  Downloading numpy-1.21.4-cp37-cp37m-manylinux_2_12_x86_64.manylinux2010_x86_64.whl (15.7 MB)\n",
            "\u001b[K     |████████████████████████████████| 15.7 MB 40.7 MB/s \n",
            "\u001b[?25hRequirement already satisfied: packaging in /usr/local/lib/python3.7/dist-packages (from dask-ml) (21.3)\n",
            "Requirement already satisfied: cloudpickle>=0.2.2 in /usr/local/lib/python3.7/dist-packages (from dask-glm>=0.2.0->dask-ml) (1.3.0)\n",
            "Collecting partd>=0.3.10\n",
            "  Downloading partd-1.2.0-py3-none-any.whl (19 kB)\n",
            "Requirement already satisfied: toolz>=0.7.3 in /usr/local/lib/python3.7/dist-packages (from dask[array,dataframe]>=2.4.0->dask-ml) (0.11.2)\n",
            "Collecting fsspec>=0.6.0\n",
            "  Downloading fsspec-2021.11.1-py3-none-any.whl (132 kB)\n",
            "\u001b[K     |████████████████████████████████| 132 kB 39.7 MB/s \n",
            "\u001b[?25hRequirement already satisfied: psutil>=5.0 in /usr/local/lib/python3.7/dist-packages (from distributed>=2.4.0->dask-ml) (5.4.8)\n",
            "Collecting distributed>=2.4.0\n",
            "  Downloading distributed-2021.11.2-py3-none-any.whl (802 kB)\n",
            "\u001b[K     |████████████████████████████████| 802 kB 42.5 MB/s \n",
            "\u001b[?25h  Downloading distributed-2021.11.1-py3-none-any.whl (793 kB)\n",
            "\u001b[K     |████████████████████████████████| 793 kB 43.7 MB/s \n",
            "\u001b[?25hRequirement already satisfied: setuptools in /usr/local/lib/python3.7/dist-packages (from distributed>=2.4.0->dask-ml) (57.4.0)\n",
            "Collecting cloudpickle>=0.2.2\n",
            "  Downloading cloudpickle-2.0.0-py3-none-any.whl (25 kB)\n",
            "Collecting distributed>=2.4.0\n",
            "  Downloading distributed-2021.11.0-py3-none-any.whl (793 kB)\n",
            "\u001b[K     |████████████████████████████████| 793 kB 48.7 MB/s \n",
            "\u001b[?25h  Downloading distributed-2021.10.0-py3-none-any.whl (791 kB)\n",
            "\u001b[K     |████████████████████████████████| 791 kB 20.1 MB/s \n",
            "\u001b[?25h  Downloading distributed-2021.9.1-py3-none-any.whl (786 kB)\n",
            "\u001b[K     |████████████████████████████████| 786 kB 59.5 MB/s \n",
            "\u001b[?25h  Downloading distributed-2021.9.0-py3-none-any.whl (779 kB)\n",
            "\u001b[K     |████████████████████████████████| 779 kB 53.8 MB/s \n",
            "\u001b[?25hRequirement already satisfied: jinja2 in /usr/local/lib/python3.7/dist-packages (from distributed>=2.4.0->dask-ml) (2.11.3)\n",
            "Requirement already satisfied: sortedcontainers!=2.0.0,!=2.0.1 in /usr/local/lib/python3.7/dist-packages (from distributed>=2.4.0->dask-ml) (2.4.0)\n",
            "Requirement already satisfied: pyyaml in /usr/local/lib/python3.7/dist-packages (from distributed>=2.4.0->dask-ml) (3.13)\n",
            "Requirement already satisfied: zict>=0.1.3 in /usr/local/lib/python3.7/dist-packages (from distributed>=2.4.0->dask-ml) (2.0.0)\n",
            "  Downloading distributed-2021.8.1-py3-none-any.whl (778 kB)\n",
            "\u001b[K     |████████████████████████████████| 778 kB 43.3 MB/s \n",
            "\u001b[?25h  Downloading distributed-2021.8.0-py3-none-any.whl (776 kB)\n",
            "\u001b[K     |████████████████████████████████| 776 kB 43.5 MB/s \n",
            "\u001b[?25h  Downloading distributed-2021.7.2-py3-none-any.whl (769 kB)\n",
            "\u001b[K     |████████████████████████████████| 769 kB 37.3 MB/s \n",
            "\u001b[?25h  Downloading distributed-2021.7.1-py3-none-any.whl (766 kB)\n",
            "\u001b[K     |████████████████████████████████| 766 kB 42.4 MB/s \n",
            "\u001b[?25h  Downloading distributed-2021.7.0-py3-none-any.whl (1.0 MB)\n",
            "\u001b[K     |████████████████████████████████| 1.0 MB 50.0 MB/s \n",
            "\u001b[?25h  Downloading distributed-2021.6.2-py3-none-any.whl (722 kB)\n",
            "\u001b[K     |████████████████████████████████| 722 kB 72.2 MB/s \n",
            "\u001b[?25h  Downloading distributed-2021.6.1-py3-none-any.whl (722 kB)\n",
            "\u001b[K     |████████████████████████████████| 722 kB 73.8 MB/s \n",
            "\u001b[?25h  Downloading distributed-2021.6.0-py3-none-any.whl (715 kB)\n",
            "\u001b[K     |████████████████████████████████| 715 kB 27.9 MB/s \n",
            "\u001b[?25h  Downloading distributed-2021.5.1-py3-none-any.whl (705 kB)\n",
            "\u001b[K     |████████████████████████████████| 705 kB 31.2 MB/s \n",
            "\u001b[?25hRequirement already satisfied: click>=6.6 in /usr/local/lib/python3.7/dist-packages (from distributed>=2.4.0->dask-ml) (7.1.2)\n",
            "Requirement already satisfied: msgpack>=0.6.0 in /usr/local/lib/python3.7/dist-packages (from distributed>=2.4.0->dask-ml) (1.0.3)\n",
            "  Downloading distributed-2021.5.0-py3-none-any.whl (699 kB)\n",
            "\u001b[K     |████████████████████████████████| 699 kB 41.9 MB/s \n",
            "\u001b[?25h  Downloading distributed-2021.4.1-py3-none-any.whl (696 kB)\n",
            "\u001b[K     |████████████████████████████████| 696 kB 62.1 MB/s \n",
            "\u001b[?25h  Downloading distributed-2021.4.0-py3-none-any.whl (684 kB)\n",
            "\u001b[K     |████████████████████████████████| 684 kB 75.5 MB/s \n",
            "\u001b[?25h  Downloading distributed-2021.3.1-py3-none-any.whl (679 kB)\n",
            "\u001b[K     |████████████████████████████████| 679 kB 29.0 MB/s \n",
            "\u001b[?25h  Downloading distributed-2021.3.0-py3-none-any.whl (675 kB)\n",
            "\u001b[K     |████████████████████████████████| 675 kB 48.6 MB/s \n",
            "\u001b[?25h  Downloading distributed-2021.2.0-py3-none-any.whl (675 kB)\n",
            "\u001b[K     |████████████████████████████████| 675 kB 51.4 MB/s \n",
            "\u001b[?25h  Downloading distributed-2021.1.1-py3-none-any.whl (672 kB)\n",
            "\u001b[K     |████████████████████████████████| 672 kB 32.0 MB/s \n",
            "\u001b[?25h  Downloading distributed-2021.1.0-py3-none-any.whl (671 kB)\n",
            "\u001b[K     |████████████████████████████████| 671 kB 46.0 MB/s \n",
            "\u001b[?25h  Downloading distributed-2020.12.0-py3-none-any.whl (669 kB)\n",
            "\u001b[K     |████████████████████████████████| 669 kB 45.9 MB/s \n",
            "\u001b[?25h  Downloading distributed-2.30.1-py3-none-any.whl (656 kB)\n",
            "\u001b[K     |████████████████████████████████| 656 kB 51.7 MB/s \n",
            "\u001b[?25hRequirement already satisfied: tblib>=1.6.0 in /usr/local/lib/python3.7/dist-packages (from distributed>=2.4.0->dask-ml) (1.7.0)\n",
            "Requirement already satisfied: tornado>=5 in /usr/local/lib/python3.7/dist-packages (from distributed>=2.4.0->dask-ml) (5.1.1)\n",
            "Requirement already satisfied: six in /usr/local/lib/python3.7/dist-packages (from multipledispatch>=0.4.9->dask-ml) (1.15.0)\n",
            "Requirement already satisfied: llvmlite<0.35,>=0.34.0.dev0 in /usr/local/lib/python3.7/dist-packages (from numba>=0.51.0->dask-ml) (0.34.0)\n",
            "Requirement already satisfied: pytz>=2017.2 in /usr/local/lib/python3.7/dist-packages (from pandas>=0.24.2->dask-ml) (2018.9)\n",
            "Requirement already satisfied: python-dateutil>=2.7.3 in /usr/local/lib/python3.7/dist-packages (from pandas>=0.24.2->dask-ml) (2.8.2)\n",
            "Collecting locket\n",
            "  Downloading locket-0.2.1-py2.py3-none-any.whl (4.1 kB)\n",
            "Requirement already satisfied: joblib>=0.11 in /usr/local/lib/python3.7/dist-packages (from scikit-learn>=1.0.0->dask-ml) (1.1.0)\n",
            "Requirement already satisfied: threadpoolctl>=2.0.0 in /usr/local/lib/python3.7/dist-packages (from scikit-learn>=1.0.0->dask-ml) (3.0.0)\n",
            "Requirement already satisfied: heapdict in /usr/local/lib/python3.7/dist-packages (from zict>=0.1.3->distributed>=2.4.0->dask-ml) (1.0.1)\n",
            "Requirement already satisfied: pyparsing!=3.0.5,>=2.0.2 in /usr/local/lib/python3.7/dist-packages (from packaging->dask-ml) (3.0.6)\n",
            "Installing collected packages: numpy, locket, partd, multipledispatch, fsspec, cloudpickle, distributed, dask-glm, dask-ml\n",
            "  Attempting uninstall: numpy\n",
            "    Found existing installation: numpy 1.19.5\n",
            "    Uninstalling numpy-1.19.5:\n",
            "      Successfully uninstalled numpy-1.19.5\n",
            "  Attempting uninstall: cloudpickle\n",
            "    Found existing installation: cloudpickle 1.3.0\n",
            "    Uninstalling cloudpickle-1.3.0:\n",
            "      Successfully uninstalled cloudpickle-1.3.0\n",
            "  Attempting uninstall: distributed\n",
            "    Found existing installation: distributed 1.25.3\n",
            "    Uninstalling distributed-1.25.3:\n",
            "      Successfully uninstalled distributed-1.25.3\n",
            "\u001b[31mERROR: pip's dependency resolver does not currently take into account all the packages that are installed. This behaviour is the source of the following dependency conflicts.\n",
            "yellowbrick 1.3.post1 requires numpy<1.20,>=1.16.0, but you have numpy 1.21.4 which is incompatible.\n",
            "gym 0.17.3 requires cloudpickle<1.7.0,>=1.2.0, but you have cloudpickle 2.0.0 which is incompatible.\n",
            "datascience 0.10.6 requires folium==0.2.1, but you have folium 0.8.3 which is incompatible.\n",
            "albumentations 0.1.12 requires imgaug<0.2.7,>=0.2.5, but you have imgaug 0.2.9 which is incompatible.\u001b[0m\n",
            "Successfully installed cloudpickle-2.0.0 dask-glm-0.2.0 dask-ml-2021.11.30 distributed-2.30.1 fsspec-2021.11.1 locket-0.2.1 multipledispatch-0.6.0 numpy-1.21.4 partd-1.2.0\n"
          ]
        },
        {
          "output_type": "display_data",
          "data": {
            "application/vnd.colab-display-data+json": {
              "pip_warning": {
                "packages": [
                  "numpy"
                ]
              }
            }
          },
          "metadata": {}
        }
      ]
    },
    {
      "cell_type": "code",
      "source": [
        "!pip install scikit-optimize"
      ],
      "metadata": {
        "colab": {
          "base_uri": "https://localhost:8080/"
        },
        "id": "ShVFAVQXA1Wr",
        "outputId": "ccff27e0-81fc-41b4-96db-58fe9041abfa"
      },
      "execution_count": null,
      "outputs": [
        {
          "output_type": "stream",
          "name": "stdout",
          "text": [
            "Collecting scikit-optimize\n",
            "  Downloading scikit_optimize-0.9.0-py2.py3-none-any.whl (100 kB)\n",
            "\u001b[?25l\r\u001b[K     |███▎                            | 10 kB 22.2 MB/s eta 0:00:01\r\u001b[K     |██████▌                         | 20 kB 28.8 MB/s eta 0:00:01\r\u001b[K     |█████████▉                      | 30 kB 34.1 MB/s eta 0:00:01\r\u001b[K     |█████████████                   | 40 kB 39.5 MB/s eta 0:00:01\r\u001b[K     |████████████████▍               | 51 kB 34.8 MB/s eta 0:00:01\r\u001b[K     |███████████████████▋            | 61 kB 14.3 MB/s eta 0:00:01\r\u001b[K     |██████████████████████▉         | 71 kB 13.9 MB/s eta 0:00:01\r\u001b[K     |██████████████████████████▏     | 81 kB 15.3 MB/s eta 0:00:01\r\u001b[K     |█████████████████████████████▍  | 92 kB 16.7 MB/s eta 0:00:01\r\u001b[K     |████████████████████████████████| 100 kB 6.0 MB/s \n",
            "\u001b[?25hRequirement already satisfied: numpy>=1.13.3 in /usr/local/lib/python3.7/dist-packages (from scikit-optimize) (1.19.5)\n",
            "Collecting pyaml>=16.9\n",
            "  Downloading pyaml-21.10.1-py2.py3-none-any.whl (24 kB)\n",
            "Requirement already satisfied: scikit-learn>=0.20.0 in /usr/local/lib/python3.7/dist-packages (from scikit-optimize) (1.0.1)\n",
            "Requirement already satisfied: scipy>=0.19.1 in /usr/local/lib/python3.7/dist-packages (from scikit-optimize) (1.4.1)\n",
            "Requirement already satisfied: joblib>=0.11 in /usr/local/lib/python3.7/dist-packages (from scikit-optimize) (1.1.0)\n",
            "Requirement already satisfied: PyYAML in /usr/local/lib/python3.7/dist-packages (from pyaml>=16.9->scikit-optimize) (3.13)\n",
            "Requirement already satisfied: threadpoolctl>=2.0.0 in /usr/local/lib/python3.7/dist-packages (from scikit-learn>=0.20.0->scikit-optimize) (3.0.0)\n",
            "Installing collected packages: pyaml, scikit-optimize\n",
            "Successfully installed pyaml-21.10.1 scikit-optimize-0.9.0\n"
          ]
        }
      ]
    },
    {
      "cell_type": "code",
      "source": [
        "# sử dụng BayesSearch \n",
        "from skopt import Optimizer\n",
        "from skopt import BayesSearchCV \n",
        "from skopt.space import Real, Categorical, Integer\n",
        "model = SVC()\n",
        "param_grid = {'C': [0.1, 1, 10, 100, 1000],\n",
        "              'gamma': [1, 0.1, 0.01, 0.001, 0.0001],\n",
        "              'kernel': ['linear','rbf',\"sigmoid\"]}\n",
        "\n",
        "Bayes = BayesSearchCV(model, param_grid ,cv=5,n_iter=20, n_jobs=-1,scoring='accuracy',verbose = 3,refit = True)\n",
        "Bayes.fit(X_train, Y_train)\n",
        "print(Bayes.best_params_)\n",
        "bclf = Bayes.best_estimator_\n",
        "print(\"Accuracy:\"+ str(Bayes.best_score_))"
      ],
      "metadata": {
        "colab": {
          "base_uri": "https://localhost:8080/"
        },
        "id": "2uEwfkVe8wsr",
        "outputId": "fada8af3-8f42-402a-b056-4945be1b23f8"
      },
      "execution_count": null,
      "outputs": [
        {
          "output_type": "stream",
          "name": "stdout",
          "text": [
            "Fitting 5 folds for each of 1 candidates, totalling 5 fits\n",
            "Fitting 5 folds for each of 1 candidates, totalling 5 fits\n",
            "Fitting 5 folds for each of 1 candidates, totalling 5 fits\n",
            "Fitting 5 folds for each of 1 candidates, totalling 5 fits\n",
            "Fitting 5 folds for each of 1 candidates, totalling 5 fits\n",
            "Fitting 5 folds for each of 1 candidates, totalling 5 fits\n",
            "Fitting 5 folds for each of 1 candidates, totalling 5 fits\n",
            "Fitting 5 folds for each of 1 candidates, totalling 5 fits\n",
            "Fitting 5 folds for each of 1 candidates, totalling 5 fits\n",
            "Fitting 5 folds for each of 1 candidates, totalling 5 fits\n",
            "Fitting 5 folds for each of 1 candidates, totalling 5 fits\n",
            "Fitting 5 folds for each of 1 candidates, totalling 5 fits\n",
            "Fitting 5 folds for each of 1 candidates, totalling 5 fits\n",
            "Fitting 5 folds for each of 1 candidates, totalling 5 fits\n",
            "Fitting 5 folds for each of 1 candidates, totalling 5 fits\n",
            "Fitting 5 folds for each of 1 candidates, totalling 5 fits\n",
            "Fitting 5 folds for each of 1 candidates, totalling 5 fits\n",
            "Fitting 5 folds for each of 1 candidates, totalling 5 fits\n",
            "Fitting 5 folds for each of 1 candidates, totalling 5 fits\n",
            "Fitting 5 folds for each of 1 candidates, totalling 5 fits\n",
            "OrderedDict([('C', 10.0), ('gamma', 0.1), ('kernel', 'rbf')])\n",
            "Accuracy:0.9934167623249079\n"
          ]
        }
      ]
    },
    {
      "cell_type": "code",
      "source": [
        ""
      ],
      "metadata": {
        "id": "iEnUPNfGI7Tr"
      },
      "execution_count": null,
      "outputs": []
    },
    {
      "cell_type": "code",
      "source": [
        "# sử dụng BayesSearch \n",
        "from skopt import Optimizer\n",
        "from skopt import BayesSearchCV \n",
        "from skopt.space import Real, Categorical, Integer\n",
        "model = SVC()\n",
        "param_grid = {'C': [0.1, 1, 10, 100, 1000],\n",
        "              'gamma': [1, 0.1, 0.01, 0.001, 0.0001],\n",
        "              'kernel': ['linear','rbf',\"sigmoid\"]}\n",
        "\n",
        "Bayes = BayesSearchCV(model, param_grid ,cv=5,n_iter=20, n_jobs=-1,scoring='accuracy',verbose = 3,refit = True)\n",
        "Bayes.fit(X_train, Y_train)\n",
        "print(Bayes.best_params_)\n",
        "bclf = Bayes.best_estimator_\n",
        "print(\"Accuracy:\"+ str(Bayes.best_score_))"
      ],
      "metadata": {
        "colab": {
          "base_uri": "https://localhost:8080/"
        },
        "id": "iRBfHoSMI5jw",
        "outputId": "19d6f69e-228f-48c3-a975-665b4982f77f"
      },
      "execution_count": null,
      "outputs": [
        {
          "output_type": "stream",
          "name": "stdout",
          "text": [
            "Fitting 5 folds for each of 1 candidates, totalling 5 fits\n",
            "Fitting 5 folds for each of 1 candidates, totalling 5 fits\n",
            "Fitting 5 folds for each of 1 candidates, totalling 5 fits\n",
            "Fitting 5 folds for each of 1 candidates, totalling 5 fits\n",
            "Fitting 5 folds for each of 1 candidates, totalling 5 fits\n",
            "Fitting 5 folds for each of 1 candidates, totalling 5 fits\n",
            "Fitting 5 folds for each of 1 candidates, totalling 5 fits\n",
            "Fitting 5 folds for each of 1 candidates, totalling 5 fits\n",
            "Fitting 5 folds for each of 1 candidates, totalling 5 fits\n",
            "Fitting 5 folds for each of 1 candidates, totalling 5 fits\n",
            "Fitting 5 folds for each of 1 candidates, totalling 5 fits\n",
            "Fitting 5 folds for each of 1 candidates, totalling 5 fits\n",
            "Fitting 5 folds for each of 1 candidates, totalling 5 fits\n",
            "Fitting 5 folds for each of 1 candidates, totalling 5 fits\n",
            "Fitting 5 folds for each of 1 candidates, totalling 5 fits\n",
            "Fitting 5 folds for each of 1 candidates, totalling 5 fits\n",
            "Fitting 5 folds for each of 1 candidates, totalling 5 fits\n",
            "Fitting 5 folds for each of 1 candidates, totalling 5 fits\n",
            "Fitting 5 folds for each of 1 candidates, totalling 5 fits\n",
            "Fitting 5 folds for each of 1 candidates, totalling 5 fits\n",
            "OrderedDict([('C', 10.0), ('gamma', 0.1), ('kernel', 'rbf')])\n",
            "Accuracy:0.99409541220195\n"
          ]
        }
      ]
    },
    {
      "cell_type": "code",
      "source": [
        "from sklearn.ensemble import ExtraTreesClassifier\n",
        "forest = ExtraTreesClassifier(n_estimators=250,\n",
        "                              random_state=0)\n",
        "forest.fit(X, y)\n",
        "importances = forest.feature_importances_\n",
        "std = np.std([tree.feature_importances_ for tree in forest.estimators_],\n",
        "             axis=0)\n",
        "indices = np.argsort(importances)[::-1]\n",
        "\n",
        "# Print the feature ranking\n",
        "print(\"Feature ranking:\")\n",
        "\n",
        "for f in range(X.shape[1]):\n",
        "    print(\"%d. feature %d (%f)\" % (f + 1, indices[f], importances[indices[f]]))\n",
        "\n",
        "    \n",
        "    \n",
        "# Plot the impurity-based feature importances of the forest\n",
        "plt.figure()\n",
        "\n",
        "plt.title(\"Feature importances\")\n",
        "sns.barplot(x=np.array(features)[indices], y=importances[indices], palette=\"deep\",yerr=std[indices])\n",
        "plt.xticks(range(X.shape[1]), np.array(features)[indices],rotation=60)\n",
        "plt.xlim([-1, X.shape[1]])\n",
        "plt.show()"
      ],
      "metadata": {
        "id": "P9RMYj8b4sU6"
      },
      "execution_count": null,
      "outputs": []
    },
    {
      "cell_type": "code",
      "source": [
        "X=data# tập train là 4000 mẫu đầu\n",
        "#x_test=data[4000:]# số mẫu sau là tập test\n",
        "Y=pd.read_csv('healthcare-dataset-stroke-data.csv')['stroke']\n",
        "ffeatures=list(data.columns)"
      ],
      "metadata": {
        "id": "rP4N-7vZ5VtM"
      },
      "execution_count": null,
      "outputs": []
    },
    {
      "cell_type": "code",
      "source": [
        "len(features)"
      ],
      "metadata": {
        "colab": {
          "base_uri": "https://localhost:8080/"
        },
        "id": "Nnxs0iKw5aZM",
        "outputId": "750be31f-953f-48de-bdad-e9c935e04037"
      },
      "execution_count": null,
      "outputs": [
        {
          "output_type": "execute_result",
          "data": {
            "text/plain": [
              "17"
            ]
          },
          "metadata": {},
          "execution_count": 45
        }
      ]
    },
    {
      "cell_type": "code",
      "source": [
        "print(X.shape[1])"
      ],
      "metadata": {
        "colab": {
          "base_uri": "https://localhost:8080/"
        },
        "id": "-q-lai4c55X4",
        "outputId": "bb1ce653-5f63-4d61-8a22-d4d55447bcac"
      },
      "execution_count": null,
      "outputs": [
        {
          "output_type": "stream",
          "name": "stdout",
          "text": [
            "17\n"
          ]
        }
      ]
    },
    {
      "cell_type": "code",
      "source": [
        "from sklearn.ensemble import ExtraTreesClassifier\n",
        "forest = ExtraTreesClassifier(n_estimators=250,\n",
        "                              random_state=0)\n",
        "forest.fit(X, Y)\n",
        "importances = forest.feature_importances_\n",
        "std = np.std([tree.feature_importances_ for tree in forest.estimators_],\n",
        "             axis=0)\n",
        "indices = np.argsort(importances)[::-1]\n",
        "\n",
        "# Print the feature ranking\n",
        "print(\"Feature ranking:\")\n",
        "\n",
        "for f in range(X.shape[1]):\n",
        "    print(\"%d. feature %d (%f)\" % (f + 1, indices[f], importances[indices[f]]))\n",
        "\n",
        "    \n",
        "    \n",
        "# Plot the impurity-based feature importances of the forest\n",
        "plt.figure()\n",
        "\n",
        "plt.title(\"Feature importances\")\n",
        "sns.barplot(x=np.array(features)[indices], y=importances[indices], palette=\"deep\",yerr=std[indices])\n",
        "plt.xticks(range(X.shape[1]), np.array(features)[indices],rotation=60)\n",
        "plt.xlim([-1, X.shape[1]])\n",
        "plt.show()"
      ],
      "metadata": {
        "colab": {
          "base_uri": "https://localhost:8080/",
          "height": 734
        },
        "id": "zEnv9enf5MSQ",
        "outputId": "5f73aea2-3bff-4884-d837-5dc10389e4df"
      },
      "execution_count": null,
      "outputs": [
        {
          "output_type": "stream",
          "name": "stdout",
          "text": [
            "Feature ranking:\n",
            "1. feature 1 (0.262907)\n",
            "2. feature 6 (0.261962)\n",
            "3. feature 7 (0.227870)\n",
            "4. feature 5 (0.042995)\n",
            "5. feature 0 (0.037903)\n",
            "6. feature 2 (0.024905)\n",
            "7. feature 3 (0.023842)\n",
            "8. feature 4 (0.019946)\n",
            "9. feature 10 (0.016168)\n",
            "10. feature 14 (0.014808)\n",
            "11. feature 11 (0.014558)\n",
            "12. feature 9 (0.013950)\n",
            "13. feature 15 (0.013185)\n",
            "14. feature 8 (0.012470)\n",
            "15. feature 12 (0.011457)\n",
            "16. feature 16 (0.001055)\n",
            "17. feature 13 (0.000020)\n"
          ]
        },
        {
          "output_type": "display_data",
          "data": {
            "image/png": "[encoded data removed]",
            "text/plain": [
              "<Figure size 432x288 with 1 Axes>"
            ]
          },
          "metadata": {}
        }
      ]
    }
  ]
}